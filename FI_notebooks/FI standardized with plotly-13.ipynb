{
 "cells": [
  {
   "cell_type": "code",
   "execution_count": 1,
   "id": "ae817f6c",
   "metadata": {
    "ExecuteTime": {
     "end_time": "2025-04-09T18:08:33.442936Z",
     "start_time": "2025-04-09T18:08:33.439556Z"
    }
   },
   "outputs": [],
   "source": [
    "# Import necessary libraries\n",
    "import pandas as pd\n",
    "import plotly.graph_objects as go\n",
    "import dalmatian\n",
    "from google.cloud import storage\n",
    "import matplotlib.pyplot as plt\n",
    "import networkx as nx\n",
    "from networkx.drawing.nx_pydot import graphviz_layout\n",
    "\n",
    "import numpy as np\n",
    "\n",
    "import sys\n",
    "import os\n",
    "sys.path.append('..')  \n",
    "import model_helper \n",
    "from helper import *\n",
    "from plotly_helper import *"
   ]
  },
  {
   "cell_type": "code",
   "execution_count": 2,
   "id": "04053637",
   "metadata": {},
   "outputs": [],
   "source": [
    "# Function to load data\n",
    "def load_data(patient_id, wbc_file, treatment_file):\n",
    "    # Load WBC and treatment data\n",
    "    wbc_df = pd.read_csv(wbc_file)\n",
    "    treatment_df = pd.read_csv(treatment_file, sep='\\t')\n",
    "    \n",
    "    # Get input files from Terra through dalmatian\n",
    "    workspace = 'broad-firecloud-ibmwatson/TAG_CLL_Clonal_Kinetic_UMI_PrAN'\n",
    "    wm = dalmatian.WorkspaceManager(workspace)\n",
    "    participants = wm.get_participants()\n",
    "    \n",
    "   # Load additional data for the patient\n",
    "    cluster_CCF_df = pd.read_csv(participants.loc[patient_id]['cluster_ccfs'], sep='\\t')\n",
    "    \n",
    "#     tree_df = pd.read_csv(participants.loc[patient_id]['tree_tsv'], sep='\\t')\n",
    "    \n",
    "    tree_df = pd.read_csv(f\"../Cell_Population/{patient_id}_build_tree_posteriors.tsv\", sep = '\\t')\n",
    "\n",
    "    abundance_file = f\"../Cell_Population/{patient_id}_cell_population_abundances.tsv\"\n",
    "    mcmc_file = f\"../Cell_Population/{patient_id}_cell_population_mcmc_trace.tsv\"  \n",
    "    \n",
    "    abundance_df = pd.read_csv(abundance_file, sep='\\t')\n",
    "    mcmc_df = pd.read_csv(mcmc_file, sep='\\t')  \n",
    "    \n",
    "    return wbc_df, treatment_df, cluster_CCF_df, abundance_df, mcmc_df, tree_df\n",
    "\n",
    "# Function to filter data for a specific patient\n",
    "def filter_patient_data(wbc_df, patient_id):\n",
    "    wbc_df_patient = wbc_df[wbc_df['Patient'] == patient_id]\n",
    "    wbc_df_patient.reset_index(drop=True, inplace=True)\n",
    "    \n",
    "    # Filter out rows where ALC is empty or NaN\n",
    "    wbc_df_patient = wbc_df_patient[wbc_df_patient['ALC'].notna() & (wbc_df_patient['ALC'] != '')]\n",
    "    wbc_df_patient.reset_index(drop=True, inplace=True)\n",
    "    \n",
    "    times_sample = [int(i) for i in wbc_df_patient.loc[wbc_df_patient.Sample.notna(), 'Day'].tolist()]\n",
    "    alc_all = [float(i) for i in wbc_df_patient['ALC'].tolist()]\n",
    "    \n",
    "    \n",
    "    alc_count_sample = [float(i) for i in wbc_df_patient.loc[wbc_df_patient.Sample.notna(), 'CLL_est'].tolist()]\n",
    "    all_times = [int(i) for i in wbc_df_patient['Day'].to_list()]\n",
    "    \n",
    "    return wbc_df_patient, times_sample, alc_all,alc_count_sample,all_times\n",
    "    \n",
    "\n",
    "\n"
   ]
  },
  {
   "cell_type": "code",
   "execution_count": 3,
   "id": "ec45b535",
   "metadata": {},
   "outputs": [],
   "source": [
    "end_treatment_df = pd.read_csv(\"../CLL8_end_treatment.csv\")"
   ]
  },
  {
   "cell_type": "code",
   "execution_count": 5,
   "id": "d6ed86b6",
   "metadata": {},
   "outputs": [],
   "source": [
    "# Input patient information\n",
    "# Input patient information\n",
    "patient_id = 'RP-1895_FI-13'\n",
    "wbc_file = '../combined_FI_alc_updated.csv'\n",
    "treatment_file = '../GCLL_treatment.txt'\n",
    "UMI_start = 8\n",
    "UMI_end = 9\n",
    "treatment_start = 0\n"
   ]
  },
  {
   "cell_type": "code",
   "execution_count": 47,
   "id": "e9f51d25",
   "metadata": {},
   "outputs": [],
   "source": [
    "# Manually verify the sample list order is correct"
   ]
  },
  {
   "cell_type": "code",
   "execution_count": 6,
   "id": "fc675c2c",
   "metadata": {},
   "outputs": [],
   "source": [
    "\n",
    "sample_list = ['RP-1895_10004-C1D1_v1_Exome_OnPrem-RP-1895_Saliva-372_v1_Exome_OnPrem','RP-1895_10157-C2D28_v1_Exome_OnPrem-RP-1895_Saliva-372_v1_Exome_OnPrem', 'RP-1895_10227-C3D28_v1_Exome_OnPrem-RP-1895_Saliva-372_v1_Exome_OnPrem', 'RP-1895_10304-C4D28_v1_Exome_OnPrem-RP-1895_Saliva-372_v1_Exome_OnPrem', 'RP-1895_10428-C6D28_v1_Exome_OnPrem-RP-1895_Saliva-372_v1_Exome_OnPrem', 'SM-N57UY_RP-1895_Saliva-372_v1_Exome_OnPrem_pair', 'SM-N57UZ_RP-1895_Saliva-372_v1_Exome_OnPrem_pair', 'SM-N57UW_RP-1895_Saliva-372_v1_Exome_OnPrem_pair', 'SM-N57UX', 'SM-N57UU_RP-1895_Saliva-372_v1_Exome_OnPrem_pair']"
   ]
  },
  {
   "cell_type": "code",
   "execution_count": 26,
   "id": "4c6f3afb",
   "metadata": {},
   "outputs": [],
   "source": [
    "# Output file"
   ]
  },
  {
   "cell_type": "code",
   "execution_count": 7,
   "id": "53c63124",
   "metadata": {},
   "outputs": [],
   "source": [
    "outputfile_name = \"FI_subplot_combined_13_wbc_updated.html\""
   ]
  },
  {
   "cell_type": "markdown",
   "id": "2abdd36e",
   "metadata": {},
   "source": [
    "Update patient specific information in the below cell "
   ]
  },
  {
   "cell_type": "code",
   "execution_count": 8,
   "id": "a0c66a63",
   "metadata": {},
   "outputs": [],
   "source": [
    "# Get the treatment duration \n",
    "\n",
    "treatment_end = 1980"
   ]
  },
  {
   "cell_type": "code",
   "execution_count": 9,
   "id": "7684175d",
   "metadata": {},
   "outputs": [
    {
     "data": {
      "text/plain": [
       "1980"
      ]
     },
     "execution_count": 9,
     "metadata": {},
     "output_type": "execute_result"
    }
   ],
   "source": [
    "treatment_end"
   ]
  },
  {
   "cell_type": "code",
   "execution_count": 11,
   "id": "30573432",
   "metadata": {},
   "outputs": [],
   "source": [
    "\n",
    "wbc_df, treatment_df, cluster_CCF_df, abundance_df, mcmc_df, tree_df = load_data(patient_id, wbc_file,treatment_file )\n",
    "\n",
    "# Filter data for the specific patient\n",
    "wbc_df_patient, times_sample,alc_all,alc_count_sample, all_times = filter_patient_data(wbc_df, patient_id)\n",
    "\n",
    "\n",
    "# Plot CLL count over time and save as HTML\n",
    "CLL_plot_html = plot_CLL_count(patient_id, times_sample, alc_count_sample, UMI_start, UMI_end, treatment_start, treatment_end, )\n",
    "    \n",
    "\n",
    "\n",
    "\n"
   ]
  },
  {
   "cell_type": "code",
   "execution_count": 12,
   "id": "a2d3d42d",
   "metadata": {},
   "outputs": [
    {
     "data": {
      "text/plain": [
       "[-1, 55, 88, 111, 167, 335, 706, 1076, 1440, 1798]"
      ]
     },
     "execution_count": 12,
     "metadata": {},
     "output_type": "execute_result"
    }
   ],
   "source": [
    "times_sample"
   ]
  },
  {
   "cell_type": "code",
   "execution_count": 13,
   "id": "b398f96b",
   "metadata": {},
   "outputs": [
    {
     "data": {
      "text/plain": [
       "[111.0, 217.52, 41.44, 10.98, 4.75, 1.464, 1.09968, 1.03264, 0.44652, 1.4924]"
      ]
     },
     "execution_count": 13,
     "metadata": {},
     "output_type": "execute_result"
    }
   ],
   "source": [
    "alc_count_sample"
   ]
  },
  {
   "cell_type": "code",
   "execution_count": 14,
   "id": "d68cab3c",
   "metadata": {},
   "outputs": [],
   "source": [
    "wbc_table_html = plot_metadata_table(wbc_df_patient, patient_id )"
   ]
  },
  {
   "cell_type": "code",
   "execution_count": 15,
   "id": "25914991",
   "metadata": {},
   "outputs": [
    {
     "data": {
      "text/html": [
       "<div>\n",
       "<style scoped>\n",
       "    .dataframe tbody tr th:only-of-type {\n",
       "        vertical-align: middle;\n",
       "    }\n",
       "\n",
       "    .dataframe tbody tr th {\n",
       "        vertical-align: top;\n",
       "    }\n",
       "\n",
       "    .dataframe thead th {\n",
       "        text-align: right;\n",
       "    }\n",
       "</style>\n",
       "<table border=\"1\" class=\"dataframe\">\n",
       "  <thead>\n",
       "    <tr style=\"text-align: right;\">\n",
       "      <th></th>\n",
       "      <th>n_iter</th>\n",
       "      <th>likelihood</th>\n",
       "      <th>edges</th>\n",
       "    </tr>\n",
       "  </thead>\n",
       "  <tbody>\n",
       "    <tr>\n",
       "      <th>0</th>\n",
       "      <td>133</td>\n",
       "      <td>[0.3333333333333332, 0.5, 0.5, 0.3333333333333...</td>\n",
       "      <td>1-2,1-3,1-4,None-1</td>\n",
       "    </tr>\n",
       "    <tr>\n",
       "      <th>1</th>\n",
       "      <td>116</td>\n",
       "      <td>[0.3333333333333332, 0.3333333333333332, 0.5, ...</td>\n",
       "      <td>1-2,1-3,2-4,None-1</td>\n",
       "    </tr>\n",
       "  </tbody>\n",
       "</table>\n",
       "</div>"
      ],
      "text/plain": [
       "   n_iter                                         likelihood  \\\n",
       "0     133  [0.3333333333333332, 0.5, 0.5, 0.3333333333333...   \n",
       "1     116  [0.3333333333333332, 0.3333333333333332, 0.5, ...   \n",
       "\n",
       "                edges  \n",
       "0  1-2,1-3,1-4,None-1  \n",
       "1  1-2,1-3,2-4,None-1  "
      ]
     },
     "execution_count": 15,
     "metadata": {},
     "output_type": "execute_result"
    }
   ],
   "source": [
    "tree_df"
   ]
  },
  {
   "cell_type": "code",
   "execution_count": 16,
   "id": "3f3eb071",
   "metadata": {},
   "outputs": [],
   "source": [
    " plot_ccf_html = plot_ccf(cluster_CCF_df, times_sample, treatment_df,)"
   ]
  },
  {
   "cell_type": "code",
   "execution_count": 17,
   "id": "a08ee72d",
   "metadata": {},
   "outputs": [],
   "source": [
    "ccf_tree_html = plot_ccf_tree_combined(\n",
    "    tree_df=tree_df,\n",
    "    tree_selected=1\n",
    "    ,\n",
    "    ccf_df=cluster_CCF_df,\n",
    "    times_sample=times_sample,\n",
    "    treatment_df=treatment_df,\n",
    "\n",
    "\n",
    ")"
   ]
  },
  {
   "cell_type": "code",
   "execution_count": 18,
   "id": "3ec0bd62",
   "metadata": {},
   "outputs": [],
   "source": [
    "cluster_list, cluster_abundance = model_helper.get_abundance(abundance_df, mcmc_df, sample_list)\n",
    "subclone_sample, log_subclone_sample = model_helper.calc_subclone(alc_count_sample, cluster_abundance, cluster_list)\n",
    "all_abundance = model_helper.get_all_abundance(cluster_list, mcmc_df, sample_list, times_sample, )"
   ]
  },
  {
   "cell_type": "code",
   "execution_count": 19,
   "id": "c6309dd8",
   "metadata": {},
   "outputs": [],
   "source": [
    "#  Add noise to all abundance\n",
    "\n",
    "import random \n",
    "random.seed(42)\n",
    "def add_uniform_noise_and_normalize(lst, low=0, high=0.01):\n",
    "    \n",
    "    # Add uniform noise\n",
    "    noisy_lst = [x + random.uniform(low, high) for x in lst]\n",
    "\n",
    "    \n",
    "    # Normalize the list\n",
    "    total_sum = sum(noisy_lst)\n",
    "    \n",
    "    normalized_lst = [x / total_sum for x in noisy_lst]\n",
    "\n",
    "    return normalized_lst\n",
    "\n",
    "\n",
    "subclone_cluster_iter = {}\n",
    "# Iterate through each cluster\n",
    "for cluster, iterations in all_abundance.items():\n",
    "   \n",
    "    # Iterate through each iteration in the cluster\n",
    "    for iteration, value in iterations.items():\n",
    "        # If the iteration is not in the new dict, add it\n",
    "        if iteration not in subclone_cluster_iter:\n",
    "            subclone_cluster_iter[iteration] = {}\n",
    "        # Add the cluster and its value to this iteration\n",
    "        subclone_cluster_iter[iteration][cluster] = value\n",
    "\n",
    "        \n",
    "        \n",
    "noise_added_iter = {}\n",
    "\n",
    "for iteration, abundances in subclone_cluster_iter.items():\n",
    "    \n",
    "    transposed_data = {i: list(values) for i, values in enumerate(zip(*abundances.values()), start=1)}\n",
    "    \n",
    "    noise_added_iter[iteration] = {}\n",
    "    for time_point, abundance in transposed_data.items():\n",
    "        \n",
    "#         print(time_point, abundance)\n",
    "        noise_abundance = add_uniform_noise_and_normalize(abundance)\n",
    "    \n",
    "#         print(noise_abundance)\n",
    "\n",
    "        noise_added_iter[iteration][time_point] = add_uniform_noise_and_normalize(abundance)\n",
    "\n",
    "    \n",
    "noise_added_all_abundance = {}\n",
    "for iteration, abundances in noise_added_iter.items():\n",
    "    original_format = {i + 1: list(values) for i, values in enumerate(zip(*abundances.values()))}\n",
    "    noise_added_all_abundance[iteration] = original_format\n",
    "    \n",
    "    \n",
    "noise_added_original_all_abundances = {}\n",
    "\n",
    "for iteration, abundances in noise_added_all_abundance.items():\n",
    "    \n",
    "    for cluster, abundance_value in abundances.items():\n",
    "        if cluster not in noise_added_original_all_abundances:\n",
    "            noise_added_original_all_abundances[cluster] = {}\n",
    "        noise_added_original_all_abundances[cluster][iteration] = abundance_value\n",
    "            "
   ]
  },
  {
   "cell_type": "code",
   "execution_count": 20,
   "id": "1fcbd031",
   "metadata": {},
   "outputs": [],
   "source": [
    "subclone_sample_mcmc_with_uniform_noise, log_subclone_sample_mcmc_with_uniform_noise = model_helper.calc_subclone(alc_count_sample, noise_added_original_all_abundances, cluster_list, input_type = \"mcmc\")"
   ]
  },
  {
   "cell_type": "code",
   "execution_count": 41,
   "id": "3787c2d2",
   "metadata": {},
   "outputs": [],
   "source": [
    "times_aft_tx = [x for x in all_times if x > treatment_start]\n",
    "times_aft_tx.insert(0, treatment_end)\n",
    "\n",
    "# Set the extrapolate time after treatment\n",
    "extrapolate_start_idx = 1"
   ]
  },
  {
   "cell_type": "code",
   "execution_count": 43,
   "id": "3a620d92",
   "metadata": {},
   "outputs": [
    {
     "data": {
      "text/plain": [
       "[-1, 55, 88, 111, 167, 335, 706, 1076, 1440, 1798]"
      ]
     },
     "execution_count": 43,
     "metadata": {},
     "output_type": "execute_result"
    }
   ],
   "source": [
    "times_sample"
   ]
  },
  {
   "cell_type": "code",
   "execution_count": 44,
   "id": "28c585e2",
   "metadata": {},
   "outputs": [
    {
     "data": {
      "text/plain": [
       "[55, 88, 111, 167, 335, 706, 1076, 1440, 1798]"
      ]
     },
     "execution_count": 44,
     "metadata": {},
     "output_type": "execute_result"
    }
   ],
   "source": [
    "times_sample[extrapolate_start_idx:]"
   ]
  },
  {
   "cell_type": "code",
   "execution_count": 45,
   "id": "32ccdb18",
   "metadata": {},
   "outputs": [],
   "source": [
    "# Generate Plotly plot\n",
    "subclone_plot_html = plot_subclones(cluster_list, times_sample, alc_count_sample, log_subclone_sample, extrapolate_start_idx, times_aft_tx, treatment_df, treatment_end, CLL14_modeling=True)\n"
   ]
  },
  {
   "cell_type": "code",
   "execution_count": 46,
   "id": "281ff98b",
   "metadata": {},
   "outputs": [],
   "source": [
    "linear_model_mcmc_html = plot_linear_model_mcmc(cluster_list,times_sample,  alc_count_sample, log_subclone_sample_mcmc_with_uniform_noise,extrapolate_start_idx,times_aft_tx,treatment_df, treatment_end, CLL14_modeling=True)  "
   ]
  },
  {
   "cell_type": "code",
   "execution_count": 47,
   "id": "ef9eaa8e",
   "metadata": {},
   "outputs": [],
   "source": [
    "times_sliced_aft = [int(i) for i in wbc_df_patient[wbc_df_patient['Day'] > 0]['Day'].values  if int(i) > 0]"
   ]
  },
  {
   "cell_type": "code",
   "execution_count": 48,
   "id": "665f69bb",
   "metadata": {},
   "outputs": [],
   "source": [
    "# Needs to manually check times_sliced_aft"
   ]
  },
  {
   "cell_type": "code",
   "execution_count": 49,
   "id": "7a0b9cdf",
   "metadata": {},
   "outputs": [
    {
     "data": {
      "text/plain": [
       "[27,\n",
       " 55,\n",
       " 60,\n",
       " 75,\n",
       " 83,\n",
       " 88,\n",
       " 103,\n",
       " 111,\n",
       " 139,\n",
       " 167,\n",
       " 244,\n",
       " 335,\n",
       " 419,\n",
       " 510,\n",
       " 608,\n",
       " 706,\n",
       " 804,\n",
       " 895,\n",
       " 986,\n",
       " 1076,\n",
       " 1168,\n",
       " 1259,\n",
       " 1350,\n",
       " 1440,\n",
       " 1532,\n",
       " 1616,\n",
       " 1707,\n",
       " 1798,\n",
       " 1889,\n",
       " 1980]"
      ]
     },
     "execution_count": 49,
     "metadata": {},
     "output_type": "execute_result"
    }
   ],
   "source": [
    "times_sliced_aft"
   ]
  },
  {
   "cell_type": "code",
   "execution_count": 50,
   "id": "58a2202c",
   "metadata": {},
   "outputs": [
    {
     "data": {
      "text/plain": [
       "30"
      ]
     },
     "execution_count": 50,
     "metadata": {},
     "output_type": "execute_result"
    }
   ],
   "source": [
    "len(times_sliced_aft)"
   ]
  },
  {
   "cell_type": "code",
   "execution_count": 51,
   "id": "074f036e",
   "metadata": {},
   "outputs": [],
   "source": [
    "index_samples_model = slice(1,10)\n",
    "\n",
    "# index_samples_model is the index of the samples after treatment. For instance, slice(1,7) means sample 2, 3, 4, 5,6, 7\n",
    "\n",
    "X, y = create_inputs(times_sliced_aft, log_subclone_sample_mcmc_with_uniform_noise,2, index_samples_model, times_sample)\n",
    "\n"
   ]
  },
  {
   "cell_type": "code",
   "execution_count": 52,
   "id": "55cbd605",
   "metadata": {
    "scrolled": true
   },
   "outputs": [
    {
     "data": {
      "text/plain": [
       "[None,\n",
       " array([4.50392074, 3.51450279, 4.14992211, 3.40810589]),\n",
       " None,\n",
       " None,\n",
       " None,\n",
       " array([2.46259825, 2.4251724 , 1.93721416, 2.44040975]),\n",
       " None,\n",
       " array([ 0.89763341,  1.4207696 , -0.51019188,  1.33234409]),\n",
       " None,\n",
       " array([ 0.3486148 ,  0.18933772, -0.43135825,  0.38982452]),\n",
       " None,\n",
       " array([-0.32420147, -1.96309158, -0.87389947, -1.69425318]),\n",
       " None,\n",
       " None,\n",
       " None,\n",
       " array([-0.282945  , -5.374412  , -1.13794844, -3.84206926]),\n",
       " None,\n",
       " None,\n",
       " None,\n",
       " array([-0.32888273, -5.1199764 , -1.23952502, -4.02699783]),\n",
       " None,\n",
       " None,\n",
       " None,\n",
       " array([-1.06929738, -5.44489236, -2.36646929, -5.23640698]),\n",
       " None,\n",
       " None,\n",
       " None,\n",
       " array([ 0.28174906, -5.58883674, -1.96575849, -3.73967195]),\n",
       " None,\n",
       " None]"
      ]
     },
     "execution_count": 52,
     "metadata": {},
     "output_type": "execute_result"
    }
   ],
   "source": [
    "y"
   ]
  },
  {
   "cell_type": "code",
   "execution_count": 53,
   "id": "a2672bf7",
   "metadata": {},
   "outputs": [],
   "source": [
    "wbc_aft_tx = wbc_df_patient[wbc_df_patient.Day > treatment_start]['CLL_est'].to_list()\n",
    "wbc_model = [i for i in wbc_aft_tx if i > 0]"
   ]
  },
  {
   "cell_type": "code",
   "execution_count": 54,
   "id": "b9f7c9a4",
   "metadata": {},
   "outputs": [
    {
     "data": {
      "text/plain": [
       "[182.49,\n",
       " 217.52,\n",
       " 179.97,\n",
       " 69.06,\n",
       " 59.78,\n",
       " 41.44,\n",
       " 14.31,\n",
       " 10.98,\n",
       " 9.46,\n",
       " 4.75,\n",
       " 1.88,\n",
       " 1.464,\n",
       " 1.43,\n",
       " 1.52,\n",
       " 2.06,\n",
       " 1.09968,\n",
       " 1.76,\n",
       " 1.7,\n",
       " 1.84,\n",
       " 1.03264,\n",
       " 2.2,\n",
       " 1.68,\n",
       " 1.98,\n",
       " 0.44652,\n",
       " 2.32,\n",
       " 2.46,\n",
       " 2.19,\n",
       " 1.4924,\n",
       " 2.06,\n",
       " 3.43]"
      ]
     },
     "execution_count": 54,
     "metadata": {},
     "output_type": "execute_result"
    }
   ],
   "source": [
    "wbc_model"
   ]
  },
  {
   "cell_type": "code",
   "execution_count": 55,
   "id": "0e913a27",
   "metadata": {},
   "outputs": [
    {
     "data": {
      "text/plain": [
       "30"
      ]
     },
     "execution_count": 55,
     "metadata": {},
     "output_type": "execute_result"
    }
   ],
   "source": [
    "len(wbc_model)"
   ]
  },
  {
   "cell_type": "code",
   "execution_count": 56,
   "id": "62af401e",
   "metadata": {},
   "outputs": [],
   "source": [
    "n_clusters = len(cluster_list)\n",
    "logsumexp_points = np.log(wbc_model)\n",
    "model = MultiClusterLinearRegression(n_clusters, X, y)\n",
    "model.fit(logsumexp_points)"
   ]
  },
  {
   "cell_type": "code",
   "execution_count": 57,
   "id": "5a8e1855",
   "metadata": {},
   "outputs": [
    {
     "name": "stdout",
     "output_type": "stream",
     "text": [
      "DEBUG: plot_subclones_new_model called with clusters=[1, 2, 3, 4], times_sample[1]=55, treatment_end=1980\n"
     ]
    }
   ],
   "source": [
    "# Generate Plotly plot\n",
    "subclone_plot_new_model_html = plot_subclones_new_model(cluster_list, times_sample, wbc_model, log_subclone_sample, extrapolate_start_idx, times_aft_tx, times_sliced_aft, treatment_df,treatment_end, model, CLL14_modeling=True )\n"
   ]
  },
  {
   "cell_type": "code",
   "execution_count": 58,
   "id": "fced37d8",
   "metadata": {},
   "outputs": [],
   "source": [
    "plot_mcmc_new_model_html = plot_mcmc_model(cluster_list, index_samples_model, times_aft_tx, times_sample, times_sliced_aft, sample_list, wbc_model, log_subclone_sample_mcmc_with_uniform_noise, treatment_df, treatment_end, CLL14_modeling=True)\n"
   ]
  },
  {
   "cell_type": "code",
   "execution_count": 59,
   "id": "0241ade1",
   "metadata": {},
   "outputs": [
    {
     "name": "stdout",
     "output_type": "stream",
     "text": [
      "HTML file saved as FI_subplot_combined_13_wbc_updated.html\n"
     ]
    }
   ],
   "source": [
    "create_html_file([wbc_table_html, plot_ccf_html, ccf_tree_html, CLL_plot_html, subclone_plot_html,linear_model_mcmc_html,subclone_plot_new_model_html, plot_mcmc_new_model_html], output_file=outputfile_name)"
   ]
  },
  {
   "cell_type": "code",
   "execution_count": null,
   "id": "907e6c9b",
   "metadata": {},
   "outputs": [],
   "source": []
  }
 ],
 "metadata": {
  "kernelspec": {
   "display_name": "Python 3 (ipykernel)",
   "language": "python",
   "name": "python3"
  },
  "language_info": {
   "codemirror_mode": {
    "name": "ipython",
    "version": 3
   },
   "file_extension": ".py",
   "mimetype": "text/x-python",
   "name": "python",
   "nbconvert_exporter": "python",
   "pygments_lexer": "ipython3",
   "version": "3.12.4"
  }
 },
 "nbformat": 4,
 "nbformat_minor": 5
}
