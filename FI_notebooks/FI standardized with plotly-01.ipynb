{
 "cells": [
  {
   "cell_type": "code",
   "execution_count": 2,
   "id": "ae817f6c",
   "metadata": {
    "ExecuteTime": {
     "end_time": "2025-04-09T18:08:33.442936Z",
     "start_time": "2025-04-09T18:08:33.439556Z"
    }
   },
   "outputs": [],
   "source": [
    "# Import necessary libraries\n",
    "import pandas as pd\n",
    "import plotly.graph_objects as go\n",
    "import dalmatian\n",
    "from google.cloud import storage\n",
    "import matplotlib.pyplot as plt\n",
    "import networkx as nx\n",
    "from networkx.drawing.nx_pydot import graphviz_layout\n",
    "\n",
    "import numpy as np\n",
    "\n",
    "import sys\n",
    "import os\n",
    "sys.path.append('..')  \n",
    "import model_helper \n",
    "from helper import *\n",
    "from plotly_helper import *"
   ]
  },
  {
   "cell_type": "code",
   "execution_count": 3,
   "id": "04053637",
   "metadata": {},
   "outputs": [],
   "source": [
    "# Function to load data\n",
    "def load_data(patient_id, wbc_file, treatment_file):\n",
    "    # Load WBC and treatment data\n",
    "    wbc_df = pd.read_csv(wbc_file)\n",
    "    treatment_df = pd.read_csv(treatment_file, sep='\\t')\n",
    "    \n",
    "    # Get input files from Terra through dalmatian\n",
    "    workspace = 'broad-firecloud-ibmwatson/TAG_CLL_Clonal_Kinetic_UMI_PrAN'\n",
    "    wm = dalmatian.WorkspaceManager(workspace)\n",
    "    participants = wm.get_participants()\n",
    "    \n",
    "    # Load additional data for the patient\n",
    "    cluster_CCF_df = pd.read_csv(participants.loc[patient_id]['cluster_ccfs'], sep='\\t')\n",
    "    abundance_df = pd.read_csv(participants.loc[patient_id]['abundances_tsv'], sep='\\t')\n",
    "    mcmc_df = pd.read_csv(participants.loc[patient_id]['cell_population_mcmc_trace'], sep='\\t')\n",
    "    tree_df = pd.read_csv(participants.loc[patient_id]['tree_tsv'], sep='\\t')\n",
    "    \n",
    "    return wbc_df, treatment_df, cluster_CCF_df, abundance_df, mcmc_df, tree_df\n",
    "\n",
    "# Function to filter data for a specific patient\n",
    "def filter_patient_data(wbc_df, patient_id):\n",
    "    wbc_df_patient = wbc_df[wbc_df['Patient'] == patient_id]\n",
    "    wbc_df_patient.reset_index(drop=True, inplace=True)\n",
    "    times_sample = [int(i) for i in wbc_df_patient.loc[wbc_df_patient.Sample.notna(), 'Day'].tolist()]\n",
    "    alc_all = [float(i) for i in wbc_df_patient['ALC'].tolist()]\n",
    "    \n",
    "    \n",
    "    alc_count_sample = [float(i) for i in wbc_df_patient.loc[wbc_df_patient.Sample.notna(), 'CLL_est'].tolist()]\n",
    "    all_times = [int(i) for i in wbc_df_patient['Day'].to_list()]\n",
    "    \n",
    "    return wbc_df_patient, times_sample, alc_all,alc_count_sample,all_times\n",
    "    \n",
    "\n",
    "\n",
    "\n"
   ]
  },
  {
   "cell_type": "code",
   "execution_count": 4,
   "id": "d6ed86b6",
   "metadata": {},
   "outputs": [],
   "source": [
    "# Input patient information\n",
    "# Input patient information\n",
    "patient_id = 'RP-1895_FI-01'\n",
    "wbc_file = '../combined_FI_alc_updated.csv'\n",
    "treatment_file = '../GCLL_treatment.txt'\n",
    "UMI_start = 7\n",
    "UMI_end = 8\n",
    "treatment_start = 0\n"
   ]
  },
  {
   "cell_type": "code",
   "execution_count": 5,
   "id": "e9f51d25",
   "metadata": {},
   "outputs": [],
   "source": [
    "# Manually verify the sample list order is correct"
   ]
  },
  {
   "cell_type": "code",
   "execution_count": 6,
   "id": "fc675c2c",
   "metadata": {},
   "outputs": [],
   "source": [
    "\n",
    "sample_list = ['RP-1895_8881-C1D1_v1_Exome_OnPrem-RP-1895_273-SAL_v1_Exome_OnPrem', 'RP-1895_8974-C2D28_v1_Exome_OnPrem-RP-1895_273-SAL_v1_Exome_OnPrem', 'RP-1895_9072-C3D28_v1_Exome_OnPrem-RP-1895_273-SAL_v1_Exome_OnPrem', 'RP-1895_9181-C4D28_v1_Exome_OnPrem-RP-1895_273-SAL_v1_Exome_OnPrem', 'RP-1895_9383-C6D28_v1_Exome_OnPrem-RP-1895_273-SAL_v1_Exome_OnPrem', 'SM-N57VF_RP-1895_273-SAL_v1_Exome_OnPrem_pair', 'SM-N57VG_RP-1895_273-SAL_v1_Exome_OnPrem_pair', 'SM-N57VC'] "
   ]
  },
  {
   "cell_type": "code",
   "execution_count": 7,
   "id": "4c6f3afb",
   "metadata": {},
   "outputs": [],
   "source": [
    "# Output file"
   ]
  },
  {
   "cell_type": "code",
   "execution_count": 8,
   "id": "53c63124",
   "metadata": {},
   "outputs": [],
   "source": [
    "outputfile_name = \"FI_subplot_combined_01_wbc_updated.html\""
   ]
  },
  {
   "cell_type": "markdown",
   "id": "2abdd36e",
   "metadata": {},
   "source": [
    "Update patient specific information in the below cell "
   ]
  },
  {
   "cell_type": "code",
   "execution_count": 9,
   "id": "a0c66a63",
   "metadata": {},
   "outputs": [],
   "source": [
    "# Get the treatment duration \n",
    "\n",
    "treatment_end = 2359"
   ]
  },
  {
   "cell_type": "code",
   "execution_count": 10,
   "id": "7684175d",
   "metadata": {},
   "outputs": [
    {
     "data": {
      "text/plain": [
       "2359"
      ]
     },
     "execution_count": 10,
     "metadata": {},
     "output_type": "execute_result"
    }
   ],
   "source": [
    "treatment_end"
   ]
  },
  {
   "cell_type": "code",
   "execution_count": 11,
   "id": "30573432",
   "metadata": {},
   "outputs": [],
   "source": [
    "\n",
    "wbc_df, treatment_df, cluster_CCF_df, abundance_df, mcmc_df, tree_df = load_data(patient_id, wbc_file,treatment_file )\n",
    "\n",
    "# Filter data for the specific patient\n",
    "wbc_df_patient, times_sample,alc_all,alc_count_sample, all_times = filter_patient_data(wbc_df, patient_id)\n",
    "\n",
    "\n",
    "# Plot CLL count over time and save as HTML\n",
    "CLL_plot_html = plot_CLL_count(patient_id, times_sample, alc_count_sample, UMI_start, UMI_end, treatment_start, treatment_end,fludarabine_treatment_1=(57, 61),\n",
    "               fludarabine_treatment_2=(84, 88)) \n",
    "    \n",
    "\n",
    "\n"
   ]
  },
  {
   "cell_type": "code",
   "execution_count": 12,
   "id": "692cbcdd",
   "metadata": {},
   "outputs": [
    {
     "data": {
      "text/plain": [
       "38"
      ]
     },
     "execution_count": 12,
     "metadata": {},
     "output_type": "execute_result"
    }
   ],
   "source": [
    "len(all_times)"
   ]
  },
  {
   "cell_type": "code",
   "execution_count": 13,
   "id": "a2d3d42d",
   "metadata": {},
   "outputs": [
    {
     "data": {
      "text/plain": [
       "38"
      ]
     },
     "execution_count": 13,
     "metadata": {},
     "output_type": "execute_result"
    }
   ],
   "source": [
    "len(alc_all)\n"
   ]
  },
  {
   "cell_type": "code",
   "execution_count": 14,
   "id": "b398f96b",
   "metadata": {},
   "outputs": [
    {
     "data": {
      "text/plain": [
       "[247.06, 170.91, 60.3, 10.4, 5.03, 1.31712, 0.65688, 0.3267]"
      ]
     },
     "execution_count": 14,
     "metadata": {},
     "output_type": "execute_result"
    }
   ],
   "source": [
    "alc_count_sample"
   ]
  },
  {
   "cell_type": "code",
   "execution_count": 15,
   "id": "d68cab3c",
   "metadata": {},
   "outputs": [],
   "source": [
    "wbc_table_html = plot_metadata_table(wbc_df_patient, patient_id )"
   ]
  },
  {
   "cell_type": "code",
   "execution_count": 16,
   "id": "25914991",
   "metadata": {},
   "outputs": [
    {
     "data": {
      "text/html": [
       "<div>\n",
       "<style scoped>\n",
       "    .dataframe tbody tr th:only-of-type {\n",
       "        vertical-align: middle;\n",
       "    }\n",
       "\n",
       "    .dataframe tbody tr th {\n",
       "        vertical-align: top;\n",
       "    }\n",
       "\n",
       "    .dataframe thead th {\n",
       "        text-align: right;\n",
       "    }\n",
       "</style>\n",
       "<table border=\"1\" class=\"dataframe\">\n",
       "  <thead>\n",
       "    <tr style=\"text-align: right;\">\n",
       "      <th></th>\n",
       "      <th>n_iter</th>\n",
       "      <th>likelihood</th>\n",
       "      <th>edges</th>\n",
       "    </tr>\n",
       "  </thead>\n",
       "  <tbody>\n",
       "    <tr>\n",
       "      <th>0</th>\n",
       "      <td>249</td>\n",
       "      <td>[0.5, 0.5, 0.5, 0.5, 0.5, 0.5, 0.5, 0.5, 0.5, ...</td>\n",
       "      <td>1-2,None-1</td>\n",
       "    </tr>\n",
       "  </tbody>\n",
       "</table>\n",
       "</div>"
      ],
      "text/plain": [
       "   n_iter                                         likelihood       edges\n",
       "0     249  [0.5, 0.5, 0.5, 0.5, 0.5, 0.5, 0.5, 0.5, 0.5, ...  1-2,None-1"
      ]
     },
     "execution_count": 16,
     "metadata": {},
     "output_type": "execute_result"
    }
   ],
   "source": [
    "tree_df"
   ]
  },
  {
   "cell_type": "code",
   "execution_count": 17,
   "id": "3f3eb071",
   "metadata": {},
   "outputs": [],
   "source": [
    " plot_ccf_html = plot_ccf(cluster_CCF_df, times_sample, treatment_df,)"
   ]
  },
  {
   "cell_type": "code",
   "execution_count": 18,
   "id": "a08ee72d",
   "metadata": {},
   "outputs": [],
   "source": [
    "ccf_tree_html = plot_ccf_tree_combined(\n",
    "    tree_df=tree_df,\n",
    "    tree_selected=0\n",
    "    ,\n",
    "    ccf_df=cluster_CCF_df,\n",
    "    times_sample=times_sample,\n",
    "    treatment_df=treatment_df,\n",
    " \n",
    "\n",
    ")"
   ]
  },
  {
   "cell_type": "code",
   "execution_count": 19,
   "id": "3ec0bd62",
   "metadata": {},
   "outputs": [],
   "source": [
    "cluster_list, cluster_abundance = model_helper.get_abundance(abundance_df, mcmc_df, sample_list)\n",
    "subclone_sample, log_subclone_sample = model_helper.calc_subclone(alc_count_sample, cluster_abundance, cluster_list)\n",
    "all_abundance = model_helper.get_all_abundance(cluster_list, mcmc_df, sample_list, times_sample, )"
   ]
  },
  {
   "cell_type": "code",
   "execution_count": 20,
   "id": "c6309dd8",
   "metadata": {},
   "outputs": [],
   "source": [
    "#  Add noise to all abundance\n",
    "\n",
    "import random \n",
    "random.seed(42)\n",
    "def add_uniform_noise_and_normalize(lst, low=0, high=0.01):\n",
    "    \n",
    "    # Add uniform noise\n",
    "    noisy_lst = [x + random.uniform(low, high) for x in lst]\n",
    "\n",
    "    \n",
    "    # Normalize the list\n",
    "    total_sum = sum(noisy_lst)\n",
    "    \n",
    "    normalized_lst = [x / total_sum for x in noisy_lst]\n",
    "\n",
    "    return normalized_lst\n",
    "\n",
    "\n",
    "subclone_cluster_iter = {}\n",
    "# Iterate through each cluster\n",
    "for cluster, iterations in all_abundance.items():\n",
    "   \n",
    "    # Iterate through each iteration in the cluster\n",
    "    for iteration, value in iterations.items():\n",
    "        # If the iteration is not in the new dict, add it\n",
    "        if iteration not in subclone_cluster_iter:\n",
    "            subclone_cluster_iter[iteration] = {}\n",
    "        # Add the cluster and its value to this iteration\n",
    "        subclone_cluster_iter[iteration][cluster] = value\n",
    "\n",
    "        \n",
    "        \n",
    "noise_added_iter = {}\n",
    "\n",
    "for iteration, abundances in subclone_cluster_iter.items():\n",
    "    \n",
    "    transposed_data = {i: list(values) for i, values in enumerate(zip(*abundances.values()), start=1)}\n",
    "    \n",
    "    noise_added_iter[iteration] = {}\n",
    "    for time_point, abundance in transposed_data.items():\n",
    "        \n",
    "#         print(time_point, abundance)\n",
    "        noise_abundance = add_uniform_noise_and_normalize(abundance)\n",
    "    \n",
    "#         print(noise_abundance)\n",
    "\n",
    "        noise_added_iter[iteration][time_point] = add_uniform_noise_and_normalize(abundance)\n",
    "\n",
    "    \n",
    "noise_added_all_abundance = {}\n",
    "for iteration, abundances in noise_added_iter.items():\n",
    "    original_format = {i + 1: list(values) for i, values in enumerate(zip(*abundances.values()))}\n",
    "    noise_added_all_abundance[iteration] = original_format\n",
    "    \n",
    "    \n",
    "noise_added_original_all_abundances = {}\n",
    "\n",
    "for iteration, abundances in noise_added_all_abundance.items():\n",
    "    \n",
    "    for cluster, abundance_value in abundances.items():\n",
    "        if cluster not in noise_added_original_all_abundances:\n",
    "            noise_added_original_all_abundances[cluster] = {}\n",
    "        noise_added_original_all_abundances[cluster][iteration] = abundance_value\n",
    "            "
   ]
  },
  {
   "cell_type": "code",
   "execution_count": 21,
   "id": "1fcbd031",
   "metadata": {},
   "outputs": [],
   "source": [
    "subclone_sample_mcmc_with_uniform_noise, log_subclone_sample_mcmc_with_uniform_noise = model_helper.calc_subclone(alc_count_sample, noise_added_original_all_abundances, cluster_list, input_type = \"mcmc\")"
   ]
  },
  {
   "cell_type": "code",
   "execution_count": 22,
   "id": "3787c2d2",
   "metadata": {},
   "outputs": [],
   "source": [
    "times_aft_tx = [x for x in all_times if x > treatment_start]\n",
    "\n",
    "\n",
    "# Set the extrapolate time after treatment\n",
    "extrapolate_start_idx = 1\n"
   ]
  },
  {
   "cell_type": "code",
   "execution_count": 23,
   "id": "3a620d92",
   "metadata": {},
   "outputs": [
    {
     "data": {
      "text/plain": [
       "[-1, 60, 97, 118, 181, 356, 706, 1441]"
      ]
     },
     "execution_count": 23,
     "metadata": {},
     "output_type": "execute_result"
    }
   ],
   "source": [
    "times_sample"
   ]
  },
  {
   "cell_type": "code",
   "execution_count": 24,
   "id": "28c585e2",
   "metadata": {},
   "outputs": [
    {
     "data": {
      "text/plain": [
       "[60, 97, 118, 181, 356, 706, 1441]"
      ]
     },
     "execution_count": 24,
     "metadata": {},
     "output_type": "execute_result"
    }
   ],
   "source": [
    "times_sample[extrapolate_start_idx:]"
   ]
  },
  {
   "cell_type": "code",
   "execution_count": 25,
   "id": "32ccdb18",
   "metadata": {},
   "outputs": [],
   "source": [
    "# Generate Plotly plot\n",
    "subclone_plot_html = plot_subclones(cluster_list, times_sample, alc_count_sample, log_subclone_sample, extrapolate_start_idx, times_aft_tx, treatment_df, treatment_end, CLL14_modeling=True)\n"
   ]
  },
  {
   "cell_type": "code",
   "execution_count": 26,
   "id": "281ff98b",
   "metadata": {},
   "outputs": [],
   "source": [
    "linear_model_mcmc_html = plot_linear_model_mcmc(cluster_list,times_sample,  alc_count_sample, log_subclone_sample_mcmc_with_uniform_noise,extrapolate_start_idx,times_aft_tx,treatment_df, treatment_end, CLL14_modeling=True)  "
   ]
  },
  {
   "cell_type": "code",
   "execution_count": 27,
   "id": "ef9eaa8e",
   "metadata": {},
   "outputs": [],
   "source": [
    "\n",
    "\n",
    "times_sliced_aft = [int(i) for i in wbc_df_patient[wbc_df_patient['Day'] > 0]['Day'].values  if int(i) > 0]"
   ]
  },
  {
   "cell_type": "code",
   "execution_count": 28,
   "id": "665f69bb",
   "metadata": {},
   "outputs": [],
   "source": [
    "# Needs to manually check times_sliced_aft"
   ]
  },
  {
   "cell_type": "code",
   "execution_count": 29,
   "id": "7a0b9cdf",
   "metadata": {},
   "outputs": [
    {
     "data": {
      "text/plain": [
       "[27,\n",
       " 55,\n",
       " 60,\n",
       " 69,\n",
       " 76,\n",
       " 97,\n",
       " 100,\n",
       " 102,\n",
       " 118,\n",
       " 125,\n",
       " 153,\n",
       " 181,\n",
       " 272,\n",
       " 356,\n",
       " 440,\n",
       " 531,\n",
       " 615,\n",
       " 706,\n",
       " 790,\n",
       " 874,\n",
       " 972,\n",
       " 1070,\n",
       " 1161,\n",
       " 1259,\n",
       " 1350,\n",
       " 1441,\n",
       " 1541,\n",
       " 1629,\n",
       " 1729,\n",
       " 1820,\n",
       " 1910,\n",
       " 2001,\n",
       " 2092,\n",
       " 2184,\n",
       " 2359]"
      ]
     },
     "execution_count": 29,
     "metadata": {},
     "output_type": "execute_result"
    }
   ],
   "source": [
    "times_sliced_aft"
   ]
  },
  {
   "cell_type": "code",
   "execution_count": 30,
   "id": "58a2202c",
   "metadata": {},
   "outputs": [
    {
     "data": {
      "text/plain": [
       "35"
      ]
     },
     "execution_count": 30,
     "metadata": {},
     "output_type": "execute_result"
    }
   ],
   "source": [
    "len(times_sliced_aft)"
   ]
  },
  {
   "cell_type": "code",
   "execution_count": 31,
   "id": "074f036e",
   "metadata": {},
   "outputs": [],
   "source": [
    "index_samples_model = slice(1,8)\n",
    "\n",
    "# index_samples_model is the index of the samples after treatment. For instance, slice(1,7) means sample 2, 3, 4, 5,6, 7\n",
    "\n",
    "X, y = create_inputs(times_sliced_aft, log_subclone_sample_mcmc_with_uniform_noise,2, index_samples_model, times_sample)\n",
    "\n"
   ]
  },
  {
   "cell_type": "code",
   "execution_count": 32,
   "id": "55cbd605",
   "metadata": {
    "scrolled": true
   },
   "outputs": [
    {
     "data": {
      "text/plain": [
       "[None,\n",
       " None,\n",
       " array([4.99294031, 3.16019039]),\n",
       " None,\n",
       " None,\n",
       " array([3.94240288, 2.17130917]),\n",
       " None,\n",
       " None,\n",
       " array([2.15368114, 0.57973282]),\n",
       " None,\n",
       " None,\n",
       " array([1.38238399, 0.045563  ]),\n",
       " None,\n",
       " array([ 0.14121309, -1.79749551]),\n",
       " None,\n",
       " None,\n",
       " None,\n",
       " array([-0.51061842, -2.8666877 ]),\n",
       " None,\n",
       " None,\n",
       " None,\n",
       " None,\n",
       " None,\n",
       " None,\n",
       " None,\n",
       " array([-1.19493446, -3.72797189]),\n",
       " None,\n",
       " None,\n",
       " None,\n",
       " None,\n",
       " None,\n",
       " None,\n",
       " None,\n",
       " None,\n",
       " None]"
      ]
     },
     "execution_count": 32,
     "metadata": {},
     "output_type": "execute_result"
    }
   ],
   "source": [
    "y"
   ]
  },
  {
   "cell_type": "code",
   "execution_count": 33,
   "id": "a2672bf7",
   "metadata": {},
   "outputs": [],
   "source": [
    "wbc_aft_tx = wbc_df_patient[wbc_df_patient.Day > treatment_start]['CLL_est'].to_list()\n",
    "wbc_model = [i for i in wbc_aft_tx if i > 0]"
   ]
  },
  {
   "cell_type": "code",
   "execution_count": 34,
   "id": "b9f7c9a4",
   "metadata": {},
   "outputs": [
    {
     "data": {
      "text/plain": [
       "[350.35,\n",
       " 250.55,\n",
       " 170.91,\n",
       " 63.1,\n",
       " 60.1,\n",
       " 60.3,\n",
       " 47.6,\n",
       " 28.75,\n",
       " 10.4,\n",
       " 10.97,\n",
       " 9.84,\n",
       " 5.03,\n",
       " 3.84,\n",
       " 1.31712,\n",
       " 1.22794,\n",
       " 0.6174,\n",
       " 0.84378,\n",
       " 0.65688,\n",
       " 0.63784,\n",
       " 0.4998,\n",
       " 0.47124,\n",
       " 0.5474,\n",
       " 0.40936,\n",
       " 0.62356,\n",
       " 0.50932,\n",
       " 0.3267,\n",
       " 0.37719,\n",
       " 0.3564,\n",
       " 0.3564,\n",
       " 0.3267,\n",
       " 0.3267,\n",
       " 0.3564,\n",
       " 0.3564,\n",
       " 0.3861,\n",
       " 0.4158]"
      ]
     },
     "execution_count": 34,
     "metadata": {},
     "output_type": "execute_result"
    }
   ],
   "source": [
    "wbc_model"
   ]
  },
  {
   "cell_type": "code",
   "execution_count": 35,
   "id": "0e913a27",
   "metadata": {},
   "outputs": [
    {
     "data": {
      "text/plain": [
       "35"
      ]
     },
     "execution_count": 35,
     "metadata": {},
     "output_type": "execute_result"
    }
   ],
   "source": [
    "len(wbc_model)"
   ]
  },
  {
   "cell_type": "code",
   "execution_count": 36,
   "id": "62af401e",
   "metadata": {},
   "outputs": [],
   "source": [
    "n_clusters = len(cluster_list)\n",
    "logsumexp_points = np.log(wbc_model)\n",
    "model = MultiClusterLinearRegression(n_clusters, X, y)\n",
    "model.fit(logsumexp_points)"
   ]
  },
  {
   "cell_type": "code",
   "execution_count": 37,
   "id": "5a8e1855",
   "metadata": {},
   "outputs": [
    {
     "name": "stdout",
     "output_type": "stream",
     "text": [
      "DEBUG: plot_subclones_new_model called with clusters=[1, 2], times_sample[1]=60, treatment_end=2359\n"
     ]
    }
   ],
   "source": [
    "# Generate Plotly plot\n",
    "subclone_plot_new_model_html = plot_subclones_new_model(cluster_list, times_sample, wbc_model, log_subclone_sample, extrapolate_start_idx, times_aft_tx, times_sliced_aft, treatment_df,treatment_end, model, CLL14_modeling=True )\n"
   ]
  },
  {
   "cell_type": "code",
   "execution_count": 38,
   "id": "fced37d8",
   "metadata": {},
   "outputs": [],
   "source": [
    "plot_mcmc_new_model_html = plot_mcmc_model(cluster_list, index_samples_model, times_aft_tx, times_sample, times_sliced_aft, sample_list, wbc_model, log_subclone_sample_mcmc_with_uniform_noise, treatment_df, treatment_end, CLL14_modeling=True)\n"
   ]
  },
  {
   "cell_type": "code",
   "execution_count": 39,
   "id": "0241ade1",
   "metadata": {},
   "outputs": [
    {
     "name": "stdout",
     "output_type": "stream",
     "text": [
      "HTML file saved as FI_subplot_combined_01_wbc_updated.html\n"
     ]
    }
   ],
   "source": [
    "create_html_file([wbc_table_html, plot_ccf_html, ccf_tree_html, CLL_plot_html, subclone_plot_html,linear_model_mcmc_html,subclone_plot_new_model_html, plot_mcmc_new_model_html], output_file=outputfile_name)"
   ]
  },
  {
   "cell_type": "code",
   "execution_count": null,
   "id": "907e6c9b",
   "metadata": {},
   "outputs": [],
   "source": []
  }
 ],
 "metadata": {
  "kernelspec": {
   "display_name": "venv",
   "language": "python",
   "name": "python3"
  },
  "language_info": {
   "codemirror_mode": {
    "name": "ipython",
    "version": 3
   },
   "file_extension": ".py",
   "mimetype": "text/x-python",
   "name": "python",
   "nbconvert_exporter": "python",
   "pygments_lexer": "ipython3",
   "version": "3.12.4"
  }
 },
 "nbformat": 4,
 "nbformat_minor": 5
}
