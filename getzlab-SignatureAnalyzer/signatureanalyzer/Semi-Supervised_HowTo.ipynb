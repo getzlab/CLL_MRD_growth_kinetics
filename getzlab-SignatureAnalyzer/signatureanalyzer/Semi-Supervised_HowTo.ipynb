{
 "cells": [
  {
   "cell_type": "markdown",
   "id": "d56e8432",
   "metadata": {},
   "source": [
    "# Semi-Supervised_HowTo"
   ]
  },
  {
   "cell_type": "code",
   "execution_count": null,
   "id": "f3bba303",
   "metadata": {},
   "outputs": [],
   "source": [
    "import pandas as pd\n",
    "import signatureanalyzer as sa\n",
    "\n",
    "# File paths and variable constants (REPLACE INPUTS)\n",
    "REF = \"cosmic3_exome\"\n",
    "REF_PATH = \"sa_cosmic3_sbs_exome.tsv\"\n",
    "MAF_PATH = \"example.maf\"\n",
    "HG_PATH = \"hg38.2bit\"\n",
    "SIG_LIST = ['SBS1','SBS2','SBS3']\n",
    "N_RUNS = 10\n",
    "OUT_DIR = '.'\n",
    "MAX_ITER = 3000\n",
    "\n",
    "# Extract mutational spectra\n",
    "maf = pd.read_csv(MAF_PATH,sep='\\t')\n",
    "spectra_df = sa.spectra.get_spectra_from_maf(maf, hgfile=HG_PATH, reference=REF)[1]\n",
    "\n",
    "# Import signature reference data\n",
    "ref_df = pd.read_csv(REF_PATH, sep='\\t',index_col=0)\n",
    "\n",
    "# Map spectra index to ref index\n",
    "spectra_df.index = sa.utils._map_sbs_id_sigs(spectra_df,ref_df,REF)\n",
    "\n",
    "# Subset reference data to create W matrix\n",
    "Wref_df = ref_df.set_index('Somatic Mutation Type').iloc[:,:-2]\n",
    "Wref_df = Wref_df.loc[:, SIG_LIST]\n",
    "\n",
    "# Simulate more samples that match the specified mutational signatures\n",
    "n_fake_samples = 100 # <-- Change to specify number of duplicates\n",
    "Wref_weight = spectra_df.sum(axis=0).median()\n",
    "Wref_df = Wref_df * Wref_weight\n",
    "duplicated_Wref_df = pd.concat([Wref_df.rename(columns={c: f'{c}_{i}' for c in Wref_df.columns}) for i in range(n_fake_samples)],1)\n",
    "\n",
    "semi_supervised_spectra_df = pd.concat([spectra_df, duplicated_Wref_df],1)\n",
    "\n",
    "# Run semi-supervised NMF\n",
    "sa.run_spectra(semi_supervised_spectra_df, \n",
    "               outdir=OUT_DIR, \n",
    "               reference=REF, \n",
    "               verbose=True,\n",
    "               nruns=N_RUNS,\n",
    "               max_iter=MAX_ITER, # **nmf_kwargs\n",
    "               objective='poisson'\n",
    "              )\n"
   ]
  },
  {
   "cell_type": "code",
   "execution_count": null,
   "id": "acfae63e",
   "metadata": {},
   "outputs": [],
   "source": [
    "# Stack plot of only the original data (excluding the duplicated Wref samples)\n",
    "run_i = 0  # <-- select which run to use\n",
    "run_i_H = pd.read_hdf(f\"{OUT_DIR}/nmf_output.h5\", f\"run{run_i}/H\")\n",
    "sa.pl.stacked_bar(run_i_H.loc[spectra_df.columns.tolist()], ref_type=REF)"
   ]
  }
 ],
 "metadata": {
  "kernelspec": {
   "display_name": "Python 3",
   "language": "python",
   "name": "python3"
  },
  "language_info": {
   "codemirror_mode": {
    "name": "ipython",
    "version": 3
   },
   "file_extension": ".py",
   "mimetype": "text/x-python",
   "name": "python",
   "nbconvert_exporter": "python",
   "pygments_lexer": "ipython3",
   "version": "3.8.8"
  }
 },
 "nbformat": 4,
 "nbformat_minor": 5
}
