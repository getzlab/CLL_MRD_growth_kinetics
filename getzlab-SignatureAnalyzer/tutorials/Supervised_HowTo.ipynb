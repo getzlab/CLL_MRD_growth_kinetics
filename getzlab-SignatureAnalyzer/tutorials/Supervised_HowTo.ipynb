{
 "cells": [
  {
   "cell_type": "code",
   "execution_count": 1,
   "metadata": {},
   "outputs": [],
   "source": [
    "# Import libraries\n",
    "import pandas as pd\n",
    "import signatureanalyzer as sa"
   ]
  },
  {
   "cell_type": "code",
   "execution_count": null,
   "metadata": {},
   "outputs": [],
   "source": [
    "# File paths and variable constants (REPLACE INPUTS)\n",
    "REF = \"cosmic3\"\n",
    "MAF_PATH = \"example.maf\"\n",
    "HG_PATH = \"hg38.2bit\"\n",
    "SIG_LIST = ['SBS1','SBS2','SBS3']\n",
    "MAX_ITER = 30000\n",
    "\n",
    "# Extract mutational spectra\n",
    "maf = pd.read_csv(MAF_PATH,sep='\\t')\n",
    "spectra_df = sa.spectra.get_spectra_from_maf(maf, hgfile=HG_PATH, reference=REF)[1]\n",
    "\n",
    "# Import signature reference data\n",
    "ref_df, ref_idx = sa.utils.load_reference_signatures(REF, verbose=False)\n",
    "\n",
    "# Map spectra index to ref index (indices must match between the two)\n",
    "# For example: spectra_df.index = sa.utils._map_sbs_id_sigs(spectra_df,ref_df,REF)\n",
    "\n",
    "# Subset reference data to create W matrix\n",
    "Wref_df = ref_df.set_index('Somatic Mutation Type').iloc[:,:-2]\n",
    "Wref_df = Wref_df.loc[:, SIG_LIST]\n",
    "\n",
    "# Run supervised NMF\n",
    "res_supervised = sa.supervised_bnmf.supervised_ardnmf(\n",
    "    spectra_df,\n",
    "    Wref_df,\n",
    "    objective='poisson',\n",
    "    verbose=True,\n",
    "    max_iter=MAX_ITER)\n",
    "\n",
    "# Visualized Stacked Barplot for Attributions\n",
    "_ = sa.pl.stacked_bar(res_supervised['H'])\n"
   ]
  }
 ],
 "metadata": {
  "kernelspec": {
   "display_name": "Python 3",
   "language": "python",
   "name": "python3"
  },
  "language_info": {
   "codemirror_mode": {
    "name": "ipython",
    "version": 3
   },
   "file_extension": ".py",
   "mimetype": "text/x-python",
   "name": "python",
   "nbconvert_exporter": "python",
   "pygments_lexer": "ipython3",
   "version": "3.6.9"
  }
 },
 "nbformat": 4,
 "nbformat_minor": 4
}
