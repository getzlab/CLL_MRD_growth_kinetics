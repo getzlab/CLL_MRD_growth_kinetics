{
 "cells": [
  {
   "cell_type": "code",
   "execution_count": 65,
   "id": "ae817f6c",
   "metadata": {
    "ExecuteTime": {
     "end_time": "2025-04-09T18:08:33.442936Z",
     "start_time": "2025-04-09T18:08:33.439556Z"
    }
   },
   "outputs": [],
   "source": [
    "# Import necessary libraries\n",
    "import pandas as pd\n",
    "import plotly.graph_objects as go\n",
    "import dalmatian\n",
    "from google.cloud import storage\n",
    "import matplotlib.pyplot as plt\n",
    "import networkx as nx\n",
    "from networkx.drawing.nx_pydot import graphviz_layout\n",
    "\n",
    "import numpy as np\n",
    "\n",
    "from plotly.subplots import make_subplots\n",
    "import model_helper \n",
    "from helper import *\n",
    "from plotly_helper import *"
   ]
  },
  {
   "cell_type": "code",
   "execution_count": 66,
   "id": "d6ed86b6",
   "metadata": {},
   "outputs": [],
   "source": [
    "# Input patient information\n",
    "patient_id = 'GCLL-0022'\n",
    "wbc_file = 'CLL8 CLL cell count 05222025 UPDATED.csv'\n",
    "treatment_file = 'GCLL_treatment.txt'\n",
    "UMI_start = 1\n",
    "UMI_end = 5  \n",
    "# \n",
    "treatment_start = 0\n"
   ]
  },
  {
   "cell_type": "code",
   "execution_count": 67,
   "id": "b5a71ed3",
   "metadata": {},
   "outputs": [],
   "source": [
    "clusters=[1, 2, 3, 4,5,]"
   ]
  },
  {
   "cell_type": "code",
   "execution_count": 68,
   "id": "e9f51d25",
   "metadata": {},
   "outputs": [],
   "source": [
    "# Manually verify the sample list order is correct"
   ]
  },
  {
   "cell_type": "code",
   "execution_count": 69,
   "id": "fc675c2c",
   "metadata": {},
   "outputs": [],
   "source": [
    "sample_list = ['GCLL-0022-T-01','RP-1895_PDO-34670_SM-NPXTD_GCLL-0022-MRD-01_v1_Custom_Selection_OnPrem',\n",
    "       'RP-1895_PDO-33508_SM-NKK13_GCLL-0022-MRD-02_v1_Custom_Selection_OnPrem',\n",
    "       'RP-1895_PDO-34670_SM-NPXSH_GCLL-0022-MRD-03_v1_Custom_Selection_OnPrem','RP-1895_PDO-34670_SM-NPXTL_GCLL-0022-MRD-04_v1_Custom_Selection_OnPrem','GCLL-0022-T-02']"
   ]
  },
  {
   "cell_type": "code",
   "execution_count": 70,
   "id": "d317fb41",
   "metadata": {},
   "outputs": [
    {
     "data": {
      "text/plain": [
       "6"
      ]
     },
     "execution_count": 70,
     "metadata": {},
     "output_type": "execute_result"
    }
   ],
   "source": [
    "len(sample_list)"
   ]
  },
  {
   "cell_type": "code",
   "execution_count": 71,
   "id": "4c6f3afb",
   "metadata": {},
   "outputs": [],
   "source": [
    "# Output file"
   ]
  },
  {
   "cell_type": "code",
   "execution_count": 72,
   "id": "53c63124",
   "metadata": {},
   "outputs": [],
   "source": [
    "outputfile_name = \"CLL_subplot_combined_0022_wbc.html\""
   ]
  },
  {
   "cell_type": "code",
   "execution_count": 73,
   "id": "f91c8c15",
   "metadata": {
    "ExecuteTime": {
     "end_time": "2025-04-09T18:08:33.811657Z",
     "start_time": "2025-04-09T18:08:33.804110Z"
    }
   },
   "outputs": [],
   "source": [
    "\n",
    "\n",
    "# Function to load data\n",
    "def load_data(patient_id, wbc_file, treatment_file):\n",
    "    # Load WBC and treatment data\n",
    "    wbc_df = pd.read_csv(wbc_file)\n",
    "    treatment_df = pd.read_csv(treatment_file, sep='\\t')\n",
    "    \n",
    "    # Get input files from Terra through dalmatian\n",
    "    workspace = 'broad-firecloud-ibmwatson/TAG_CLL_Clonal_Kinetic_UMI_PrAN'\n",
    "    wm = dalmatian.WorkspaceManager(workspace)\n",
    "    participants = wm.get_participants()\n",
    "    \n",
    "    # Load additional data for the patient\n",
    "    cluster_CCF_df = pd.read_csv(participants.loc[patient_id]['cluster_ccfs'], sep='\\t')\n",
    "    abundance_df = pd.read_csv(participants.loc[patient_id]['abundances_tsv'], sep='\\t')\n",
    "    mcmc_df = pd.read_csv(participants.loc[patient_id]['cell_population_mcmc_trace'], sep='\\t')\n",
    "    tree_df = pd.read_csv(participants.loc[patient_id]['tree_tsv'], sep='\\t')\n",
    "    \n",
    "    return wbc_df, treatment_df, cluster_CCF_df, abundance_df, mcmc_df, tree_df\n",
    "\n",
    "# Function to filter data for a specific patient\n",
    "def filter_patient_data(wbc_df, patient_id):\n",
    "    wbc_df_patient = wbc_df[wbc_df['Patient'] == patient_id]\n",
    "    wbc_df_patient.reset_index(drop=True, inplace=True)\n",
    "    sample_list = wbc_df_patient['Timepoint'].dropna().tolist()\n",
    "    times_sample = [int(i) for i in wbc_df_patient.loc[wbc_df_patient.Sample.notna(), 'Time_since_start_tx'].tolist()]\n",
    "    wbc_all = [float(i) for i in wbc_df_patient['WBC'].tolist()]\n",
    "    \n",
    "    \n",
    "    CLL_count_sample = [float(i) for i in wbc_df_patient.loc[wbc_df_patient.Sample.notna(), 'CLL count estm'].tolist()]\n",
    "    all_times = [int(i) for i in wbc_df_patient['Time_since_start_tx'].to_list()]\n",
    "    \n",
    "    return wbc_df_patient, times_sample, CLL_count_sample, wbc_all,all_times\n",
    "\n",
    "\n",
    "\n"
   ]
  },
  {
   "cell_type": "markdown",
   "id": "2abdd36e",
   "metadata": {},
   "source": [
    "Update patient specific information in the below cell "
   ]
  },
  {
   "cell_type": "code",
   "execution_count": 74,
   "id": "d08a81c0",
   "metadata": {},
   "outputs": [],
   "source": [
    "end_treatment_df = pd.read_csv(\"CLL8_end_treatment.csv\")"
   ]
  },
  {
   "cell_type": "code",
   "execution_count": 75,
   "id": "a0c66a63",
   "metadata": {},
   "outputs": [],
   "source": [
    "# Get the treatment duration \n",
    "\n",
    "treatment_end = end_treatment_df[end_treatment_df.Patient == patient_id].Treatment_duration.iloc[0]"
   ]
  },
  {
   "cell_type": "code",
   "execution_count": 76,
   "id": "7684175d",
   "metadata": {},
   "outputs": [
    {
     "data": {
      "text/plain": [
       "142"
      ]
     },
     "execution_count": 76,
     "metadata": {},
     "output_type": "execute_result"
    }
   ],
   "source": [
    "treatment_end"
   ]
  },
  {
   "cell_type": "code",
   "execution_count": 77,
   "id": "30573432",
   "metadata": {},
   "outputs": [],
   "source": [
    "\n",
    "wbc_df, treatment_df, cluster_CCF_df, abundance_df, mcmc_df, tree_df = load_data(patient_id, wbc_file, treatment_file)\n",
    "\n",
    "# Filter data for the specific patient\n",
    "wbc_df_patient, times_sample, CLL_count_sample,wbc_count, all_times = filter_patient_data(wbc_df, patient_id)\n",
    "\n",
    "# Plot CLL count over time and save as HTML\n",
    "CLL_plot_html = plot_CLL_count(patient_id, times_sample, CLL_count_sample, UMI_start, UMI_end, treatment_start, treatment_end, )\n",
    "    \n",
    "\n",
    "\n"
   ]
  },
  {
   "cell_type": "code",
   "execution_count": 78,
   "id": "a2d3d42d",
   "metadata": {},
   "outputs": [
    {
     "data": {
      "text/plain": [
       "[-19, 1140, 1211, 1302, 1414, 2029]"
      ]
     },
     "execution_count": 78,
     "metadata": {},
     "output_type": "execute_result"
    }
   ],
   "source": [
    "times_sample"
   ]
  },
  {
   "cell_type": "code",
   "execution_count": 79,
   "id": "b398f96b",
   "metadata": {},
   "outputs": [
    {
     "data": {
      "text/plain": [
       "[51.88, 3.9, 2.5, 2.8, 3.1, 4.3, 4.1, 4.0, 3.4, 4.1, 5.5, 3.5, 3.4, 2.2]"
      ]
     },
     "execution_count": 79,
     "metadata": {},
     "output_type": "execute_result"
    }
   ],
   "source": [
    "wbc_count"
   ]
  },
  {
   "cell_type": "code",
   "execution_count": 80,
   "id": "9dc430cf",
   "metadata": {},
   "outputs": [
    {
     "data": {
      "text/plain": [
       "[46.1732, 0.02983445, 0.06655, 0.08465064, 0.24514, 0.88]"
      ]
     },
     "execution_count": 80,
     "metadata": {},
     "output_type": "execute_result"
    }
   ],
   "source": [
    "CLL_count_sample"
   ]
  },
  {
   "cell_type": "code",
   "execution_count": 81,
   "id": "d68cab3c",
   "metadata": {},
   "outputs": [],
   "source": [
    "wbc_table_html = plot_metadata_table(wbc_df_patient, patient_id )"
   ]
  },
  {
   "cell_type": "code",
   "execution_count": 82,
   "id": "6de19173",
   "metadata": {},
   "outputs": [],
   "source": [
    "def plot_tree(tree_df, tree_selected, ax, edge_labels =None):\n",
    "    edges = tree_df.loc[tree_selected, 'edges'].split(',')\n",
    "    cluster_list = []\n",
    "    for i in edges:\n",
    "        new_list = i.split('-')\n",
    "        for j in new_list:\n",
    "            if (j !='None') & (j not in cluster_list):\n",
    "                cluster_list.append(j)\n",
    "    cluster_list = [int(i) for i in cluster_list]\n",
    "\n",
    "\n",
    "    DG=nx.DiGraph()\n",
    "    for edge in edges:\n",
    "        nodes = edge.split('-')\n",
    "        if nodes[0]!='None':\n",
    "            DG.add_edge(int(nodes[0]), int(nodes[1]))\n",
    "\n",
    "    pos=graphviz_layout(DG,  prog='dot')\n",
    "\n",
    "    edge_color_list=[]\n",
    "    for edge in DG.edges():\n",
    "        node=edge[1]\n",
    "\n",
    "        edge_color_list.append(ClusterColors.get_hex_string(node) )\n",
    "\n",
    "    nx.draw(DG,pos, with_labels = True, width = 4, node_size= 400, ax =ax, arrows= False, font_color='white',edge_color = edge_color_list, node_color =[ClusterColors.get_hex_string(i) for i in cluster_list] )\n",
    "    if edge_labels:\n",
    "        nx.draw_networkx_edge_labels(DG, pos,\n",
    "        edge_labels,\n",
    "        font_color=ClusterColors.get_hex_string(7))\n",
    "\n",
    "    return DG"
   ]
  },
  {
   "cell_type": "code",
   "execution_count": 83,
   "id": "9f96d2f3",
   "metadata": {},
   "outputs": [
    {
     "data": {
      "text/plain": [
       "<networkx.classes.digraph.DiGraph at 0x131d4be60>"
      ]
     },
     "execution_count": 83,
     "metadata": {},
     "output_type": "execute_result"
    },
    {
     "data": {
      "image/png": "[encoded data removed]",
      "text/plain": [
       "<Figure size 1000x600 with 1 Axes>"
      ]
     },
     "metadata": {},
     "output_type": "display_data"
    }
   ],
   "source": [
    "fig, ax = plt.subplots(figsize = (10, 6))\n",
    "plot_tree(tree_df,0,ax , )"
   ]
  },
  {
   "cell_type": "code",
   "execution_count": 84,
   "id": "6fb33f4e",
   "metadata": {},
   "outputs": [],
   "source": [
    " plot_tree_html = plot_tree_plotly(tree_df, 0)"
   ]
  },
  {
   "cell_type": "code",
   "execution_count": 85,
   "id": "70535e24",
   "metadata": {},
   "outputs": [],
   "source": [
    "def plot_ccf(df, times_sample, treatment_df,):\n",
    "    \"\"\"\n",
    "    Plots the CCF (Cancer Cell Fraction) data using Plotly.\n",
    "\n",
    "    Parameters:\n",
    "    - df: DataFrame containing CCF data.\n",
    "    - fig: Plotly figure object.\n",
    "    - row: Row position of the subplot.\n",
    "    - col: Column position of the subplot.\n",
    "    - times_sample: List of sample times.\n",
    "    - treatment: DataFrame containing treatment information.\n",
    "    - ClusterColors: Object to map cluster IDs to colors.\n",
    "    \"\"\"\n",
    "    \n",
    "    \n",
    "    fig = go.Figure()\n",
    "    # Keep the necessary columns\n",
    "    cols = ['Sample_ID', 'Cluster_ID', 'postDP_ccf_mean', 'postDP_ccf_CI_low', 'postDP_ccf_CI_high']\n",
    "    df = df[cols]\n",
    "    cluster_list = df.Cluster_ID.unique().tolist()\n",
    "    number_samples = len(df.Sample_ID.unique())\n",
    "\n",
    "    # Create tick labels\n",
    "    tick_list = ['T' + str(i) for i in range(number_samples)]\n",
    "    x_axis = [i / 365 for i in times_sample]\n",
    "\n",
    "    # Plot each cluster\n",
    "    for cluster in cluster_list:\n",
    "        cluster_data = df[df.Cluster_ID == cluster]\n",
    "        y_mean = cluster_data.postDP_ccf_mean\n",
    "        y_ci_low = cluster_data.postDP_ccf_CI_low\n",
    "        y_ci_high = cluster_data.postDP_ccf_CI_high\n",
    "\n",
    "        # Plot mean CCF\n",
    "        fig.add_trace(\n",
    "            go.Scatter(\n",
    "                x=x_axis,\n",
    "                y=y_mean,\n",
    "                mode='lines+markers',\n",
    "                line=dict(color=ClusterColors.get_hex_string(cluster)),\n",
    "                marker=dict(color=ClusterColors.get_hex_string(cluster)),\n",
    "                name=f'Cluster {cluster}',\n",
    "                legendgroup=f'Cluster {cluster}'\n",
    "            ),\n",
    "\n",
    "        )\n",
    "\n",
    "        # Plot confidence interval\n",
    "        fig.add_trace(\n",
    "            go.Scatter(\n",
    "                x=x_axis,\n",
    "                y=y_ci_high,\n",
    "                mode='lines',\n",
    "                line=dict(width=0),\n",
    "                fillcolor=ClusterColors.get_hex_string(cluster),\n",
    "                fill='tonexty',\n",
    "                opacity = 0.1,\n",
    "                showlegend=False,\n",
    "                legendgroup=f'Cluster {cluster}'\n",
    "            ),\n",
    "       \n",
    "        )\n",
    "        fig.add_trace(\n",
    "            go.Scatter(\n",
    "                x=x_axis,\n",
    "                y=y_ci_low,\n",
    "                mode='lines',\n",
    "                line=dict(width=0),\n",
    "                fillcolor=ClusterColors.get_hex_string(cluster),\n",
    "                fill='tonexty',\n",
    "                opacity = 0.1,\n",
    "                showlegend=False,\n",
    "                legendgroup=f'Cluster {cluster}'\n",
    "            ),\n",
    "        \n",
    "        )\n",
    "\n",
    "    # Add treatment information\n",
    "    for i, row_data in treatment_df.iterrows():\n",
    "        treatment_name = row_data.tx\n",
    "        start = row_data.tx_start / 365\n",
    "        end = row_data.tx_end / 365 if not np.isnan(row_data.tx_end) else max(x_axis)\n",
    "        fig.add_vrect(\n",
    "            x0=start, x1=end,\n",
    "            fillcolor=\"lightgray\", opacity=0.2,\n",
    "            layer=\"below\", line_width=0,\n",
    "            annotation_text=treatment_name, annotation_position=\"top left\"\n",
    "        )\n",
    "\n",
    "    # Set axis labels and grid\n",
    "    fig.update_xaxes(title_text=\"Samples\", )\n",
    "    fig.update_yaxes(title_text=\"CCF\",)\n",
    "    fig.update_xaxes(showgrid=True, gridwidth=1, gridcolor='lightgray', )\n",
    "    fig.update_yaxes(showgrid=True, gridwidth=1, gridcolor='lightgray',)\n",
    "\n",
    "#     # Add secondary x-axis for time in years\n",
    "#     fig.update_xaxes(\n",
    "#         title_text=\"Time (years)\",\n",
    "        \n",
    "#         secondary_y=False,\n",
    "#         overlaying=\"x\",\n",
    "#         side=\"top\"\n",
    "        \n",
    "        \n",
    "    \n",
    "#     )\n",
    "    # Return html content \n",
    "    return fig.to_html(full_html=False)"
   ]
  },
  {
   "cell_type": "code",
   "execution_count": 86,
   "id": "5453a839",
   "metadata": {},
   "outputs": [],
   "source": [
    " plot_ccf_html = plot_ccf(cluster_CCF_df, times_sample, treatment_df,)"
   ]
  },
  {
   "cell_type": "code",
   "execution_count": 87,
   "id": "a08ee72d",
   "metadata": {},
   "outputs": [],
   "source": [
    "ccf_tree_html = plot_ccf_tree_combined(\n",
    "    tree_df=tree_df,\n",
    "    tree_selected=0,\n",
    "    ccf_df=cluster_CCF_df,\n",
    "    times_sample=times_sample,\n",
    "    treatment_df=treatment_df,\n",
    "\n",
    ")"
   ]
  },
  {
   "cell_type": "code",
   "execution_count": 88,
   "id": "aaf58638",
   "metadata": {},
   "outputs": [
    {
     "data": {
      "text/plain": [
       "[46.1732, 0.02983445, 0.06655, 0.08465064, 0.24514, 0.88]"
      ]
     },
     "execution_count": 88,
     "metadata": {},
     "output_type": "execute_result"
    }
   ],
   "source": [
    "CLL_count_sample"
   ]
  },
  {
   "cell_type": "code",
   "execution_count": 89,
   "id": "3ec0bd62",
   "metadata": {},
   "outputs": [],
   "source": [
    "cluster_list, cluster_abundance = model_helper.get_abundance(abundance_df, mcmc_df, sample_list)\n",
    "subclone_sample, log_subclone_sample = model_helper.calc_subclone(CLL_count_sample, cluster_abundance, cluster_list)\n",
    "all_abundance = model_helper.get_all_abundance(cluster_list, mcmc_df, sample_list, times_sample, )"
   ]
  },
  {
   "cell_type": "code",
   "execution_count": 90,
   "id": "c6309dd8",
   "metadata": {},
   "outputs": [],
   "source": [
    "#  Add noise to all abundance\n",
    "\n",
    "import random \n",
    "\n",
    "def add_uniform_noise_and_normalize(lst, low=0, high=0.01):\n",
    "    \n",
    "    # Add uniform noise\n",
    "    noisy_lst = [x + random.uniform(low, high) for x in lst]\n",
    "\n",
    "    \n",
    "    # Normalize the list\n",
    "    total_sum = sum(noisy_lst)\n",
    "    \n",
    "    normalized_lst = [x / total_sum for x in noisy_lst]\n",
    "\n",
    "    return normalized_lst\n",
    "\n",
    "\n",
    "subclone_cluster_iter = {}\n",
    "# Iterate through each cluster\n",
    "for cluster, iterations in all_abundance.items():\n",
    "   \n",
    "    # Iterate through each iteration in the cluster\n",
    "    for iteration, value in iterations.items():\n",
    "        # If the iteration is not in the new dict, add it\n",
    "        if iteration not in subclone_cluster_iter:\n",
    "            subclone_cluster_iter[iteration] = {}\n",
    "        # Add the cluster and its value to this iteration\n",
    "        subclone_cluster_iter[iteration][cluster] = value\n",
    "\n",
    "        \n",
    "        \n",
    "noise_added_iter = {}\n",
    "\n",
    "for iteration, abundances in subclone_cluster_iter.items():\n",
    "    \n",
    "    transposed_data = {i: list(values) for i, values in enumerate(zip(*abundances.values()), start=1)}\n",
    "    \n",
    "    noise_added_iter[iteration] = {}\n",
    "    for time_point, abundance in transposed_data.items():\n",
    "        \n",
    "#         print(time_point, abundance)\n",
    "        noise_abundance = add_uniform_noise_and_normalize(abundance)\n",
    "    \n",
    "#         print(noise_abundance)\n",
    "\n",
    "        noise_added_iter[iteration][time_point] = add_uniform_noise_and_normalize(abundance)\n",
    "\n",
    "    \n",
    "noise_added_all_abundance = {}\n",
    "for iteration, abundances in noise_added_iter.items():\n",
    "    original_format = {i + 1: list(values) for i, values in enumerate(zip(*abundances.values()))}\n",
    "    noise_added_all_abundance[iteration] = original_format\n",
    "    \n",
    "    \n",
    "noise_added_original_all_abundances = {}\n",
    "\n",
    "for iteration, abundances in noise_added_all_abundance.items():\n",
    "    \n",
    "    for cluster, abundance_value in abundances.items():\n",
    "        if cluster not in noise_added_original_all_abundances:\n",
    "            noise_added_original_all_abundances[cluster] = {}\n",
    "        noise_added_original_all_abundances[cluster][iteration] = abundance_value\n",
    "            "
   ]
  },
  {
   "cell_type": "code",
   "execution_count": 91,
   "id": "1fcbd031",
   "metadata": {},
   "outputs": [],
   "source": [
    "subclone_sample_mcmc_with_uniform_noise, log_subclone_sample_mcmc_with_uniform_noise = model_helper.calc_subclone(CLL_count_sample, noise_added_original_all_abundances, cluster_list, input_type = \"mcmc\")"
   ]
  },
  {
   "cell_type": "code",
   "execution_count": 92,
   "id": "3787c2d2",
   "metadata": {},
   "outputs": [],
   "source": [
    "times_aft_tx = [x for x in all_times if x > treatment_end]\n",
    "times_aft_tx.insert(0, treatment_end)\n",
    "\n",
    "# Set the extrapolate time after treatment\n",
    "extrapolate_start_idx = 1"
   ]
  },
  {
   "cell_type": "code",
   "execution_count": 93,
   "id": "3a620d92",
   "metadata": {},
   "outputs": [
    {
     "data": {
      "text/plain": [
       "[-19, 1140, 1211, 1302, 1414, 2029]"
      ]
     },
     "execution_count": 93,
     "metadata": {},
     "output_type": "execute_result"
    }
   ],
   "source": [
    "times_sample"
   ]
  },
  {
   "cell_type": "code",
   "execution_count": 94,
   "id": "c1a4bb6d",
   "metadata": {},
   "outputs": [
    {
     "data": {
      "text/plain": [
       "[142, 383, 467, 544, 691, 782, 908, 999, 1140, 1211, 1302, 1414, 2029]"
      ]
     },
     "execution_count": 94,
     "metadata": {},
     "output_type": "execute_result"
    }
   ],
   "source": [
    "times_aft_tx"
   ]
  },
  {
   "cell_type": "code",
   "execution_count": 95,
   "id": "32ccdb18",
   "metadata": {},
   "outputs": [],
   "source": [
    "# Generate Plotly plot\n",
    "subclone_plot_html = plot_subclones(cluster_list, times_sample, CLL_count_sample, log_subclone_sample, extrapolate_start_idx, times_aft_tx, treatment_df, treatment_end)\n"
   ]
  },
  {
   "cell_type": "code",
   "execution_count": 96,
   "id": "281ff98b",
   "metadata": {},
   "outputs": [],
   "source": [
    "linear_model_mcmc_html = plot_linear_model_mcmc(cluster_list,times_sample,  CLL_count_sample, log_subclone_sample_mcmc_with_uniform_noise,extrapolate_start_idx,times_aft_tx,treatment_df, treatment_end)  "
   ]
  },
  {
   "cell_type": "code",
   "execution_count": 97,
   "id": "92ac254c",
   "metadata": {},
   "outputs": [],
   "source": [
    "import numpy as np\n",
    "from scipy.special import logsumexp\n",
    "from scipy.optimize import minimize\n",
    "import logging\n",
    "\n",
    "# Set up logging\n",
    "logging.basicConfig(level=logging.INFO)\n",
    "logger = logging.getLogger(__name__)\n",
    "\n",
    "\n",
    "class MultiClusterLinearRegression:\n",
    "    def __init__(self, n_clusters, X, y):\n",
    "        \"\"\"\n",
    "        Initialize the multi-cluster linear regression model.\n",
    "\n",
    "        Parameters:\n",
    "        - n_clusters: Number of clusters.\n",
    "        - X: Input features (1D array of shape (n_samples,)).\n",
    "        - y: Target values (1D array of shape (n_samples,)). None values indicate missing data.\n",
    "        \"\"\"\n",
    "        self.n_clusters = n_clusters\n",
    "        self.params = None\n",
    "        self.X = X\n",
    "        self.y = y\n",
    "\n",
    "    def calculate_weight_ratio(self):\n",
    "        \"\"\"\n",
    "        Calculate the weight ratio for balancing exome and wbc contributions.\n",
    "\n",
    "        Returns:\n",
    "        - weight_ratio: Ratio of WBC counts to exome counts.\n",
    "        \"\"\"\n",
    "        num_wbc = len(self.y)\n",
    "        num_exomes = sum(1 for item in self.y if item is not None)\n",
    "        weight_ratio = num_wbc / ((num_exomes) * (self.n_clusters - 1))\n",
    "        return weight_ratio\n",
    "\n",
    "    def objective(self, params, logsumexp_points):\n",
    "        \"\"\"\n",
    "        Objective function to minimize for fitting the model.\n",
    "\n",
    "        Parameters:\n",
    "        - params: Model parameters (intercepts and slopes).\n",
    "        - logsumexp_points: Logsumexp target values (1D array of shape (n_samples,)). None values indicate missing data.\n",
    "\n",
    "        Returns:\n",
    "        - Negative log-likelihood to minimize.\n",
    "        \"\"\"\n",
    "        intercepts = params[:self.n_clusters]\n",
    "        slopes = params[self.n_clusters:]\n",
    "\n",
    "        # Calculate predicted y values for all clusters\n",
    "        y_pred = np.outer(self.X, slopes) + intercepts\n",
    "\n",
    "        # Calculate negative log-likelihood\n",
    "        likelihood = 0\n",
    "\n",
    "        # For exome points\n",
    "        for i, yi in enumerate(self.y):\n",
    "            if yi is not None:\n",
    "                likelihood += self.calculate_weight_ratio() * np.sum((yi - y_pred[i]) ** 2)\n",
    "\n",
    "        # For logsumexp points\n",
    "        for i, lse in enumerate(logsumexp_points):\n",
    "            if lse is not None:\n",
    "                likelihood += (lse - logsumexp(y_pred[i])) ** 2\n",
    "\n",
    "        return likelihood  # Minimize negative log-likelihood\n",
    "\n",
    "    def fit(self, logsumexp_points, initial_guess=None):\n",
    "        \"\"\"\n",
    "        Fit the model to the data.\n",
    "\n",
    "        Parameters:\n",
    "        - logsumexp_points: Logsumexp target values (1D array of shape (n_samples,)). None values indicate missing data.\n",
    "        - initial_guess: Initial guess for model parameters. If None, random values are used.\n",
    "        \"\"\"\n",
    "        if initial_guess is None:\n",
    "            initial_guess = np.random.randn(2 * self.n_clusters)\n",
    "\n",
    "        result = minimize(\n",
    "            self.objective,\n",
    "            initial_guess,\n",
    "            args=(logsumexp_points),\n",
    "            method='SLSQP'\n",
    "        )\n",
    "\n",
    "        self.params = result.x\n",
    "\n",
    "    def calculate_likelihood(self, params, logsumexp_points):\n",
    "        \"\"\"\n",
    "        Calculate the likelihood components for debugging or analysis.\n",
    "\n",
    "        Parameters:\n",
    "        - params: Model parameters (intercepts and slopes).\n",
    "        - logsumexp_points: Logsumexp target values (1D array of shape (n_samples,)). None values indicate missing data.\n",
    "\n",
    "        Returns:\n",
    "        - likelihood_y: Likelihood contribution from exome points.\n",
    "        - likelihood_logsumexp: Likelihood contribution from logsumexp points.\n",
    "        \"\"\"\n",
    "        intercepts = params[:self.n_clusters]\n",
    "        slopes = params[self.n_clusters:]\n",
    "        y_pred = np.outer(self.X, slopes) + intercepts\n",
    "\n",
    "        # Calculate likelihood for exome points\n",
    "        likelihood_y = 0\n",
    "        for i, yi in enumerate(self.y):\n",
    "            if yi is not None:\n",
    "                likelihood_y += np.sum((yi - y_pred[i]) ** 2)\n",
    "                logger.info(f\"Exome logsubclone: {yi}, Exome predicted: {y_pred[i]}, Likelihood_y: {likelihood_y}\")\n",
    "\n",
    "        logger.info(f\"Squared sum_y: {likelihood_y}\")\n",
    "\n",
    "        # Calculate likelihood for logsumexp points\n",
    "        likelihood_logsumexp = 0\n",
    "        for i, lse in enumerate(logsumexp_points):\n",
    "            if lse is not None:\n",
    "                likelihood_logsumexp += (lse - logsumexp(y_pred[i])) ** 2\n",
    "                logger.info(f\"Log WBC: {lse}, WBC predicted: {logsumexp(y_pred[i])}\")\n",
    "\n",
    "        logger.info(f\"Squared sum_logsumexp: {likelihood_logsumexp}\")\n",
    "\n",
    "        total_squared_sum = likelihood_y + likelihood_logsumexp\n",
    "        logger.info(f\"Total squared sum: {total_squared_sum}\")\n",
    "\n",
    "        return likelihood_y, likelihood_logsumexp\n",
    "\n",
    "    def predict(self, x_to_predict):\n",
    "        \"\"\"\n",
    "        Predict target values using the fitted model.\n",
    "\n",
    "        Returns:\n",
    "        - Predicted values for all clusters (2D array of shape (n_samples, n_clusters)).\n",
    "        \"\"\"\n",
    "        if self.params is None:\n",
    "            raise ValueError(\"Model has not been fitted yet. Call `fit` first.\")\n",
    "\n",
    "        intercepts = self.params[:self.n_clusters]\n",
    "        slopes = self.params[self.n_clusters:]\n",
    "        return np.outer(x_to_predict, slopes) + intercepts"
   ]
  },
  {
   "cell_type": "code",
   "execution_count": 98,
   "id": "d9f8c206",
   "metadata": {},
   "outputs": [],
   "source": [
    "\n",
    "\n",
    "def create_inputs(times_sliced, log_subclone_sample_mcmc, iter, index_samples_model):\n",
    "    \"\"\"\n",
    "    Create input features (X) and target values (y) for the model.\n",
    "\n",
    "    Parameters:\n",
    "    - times_sliced: List of time points (in days).\n",
    "    - log_subclone_sample_mcmc: Dictionary of subclone data in the format {cluster: {iteration: [values]}}.\n",
    "    - iter: The iteration number to use for extracting values.\n",
    "    - index_samples_model: Indices of the samples to include in the target values.\n",
    "\n",
    "    Returns:\n",
    "    - X: Input features (time in years).\n",
    "    - y: Target values (list with None for missing data).\n",
    "    \"\"\"\n",
    "    # Convert times to years\n",
    "    X = [t / 365 for t in times_sliced]\n",
    "\n",
    "    # Reconstruct the dictionary to {iteration: {cluster: [values]}}\n",
    "    log_subclone_cluster_iter = reconstruct_log_subclone_dict(log_subclone_sample_mcmc)\n",
    "\n",
    "    # Extract values for the specified iteration\n",
    "    values = list(log_subclone_cluster_iter[iter].values())\n",
    "    array = np.array(values).T  # Transpose to match the desired shape\n",
    "\n",
    "    # Select the samples corresponding to the specified indices\n",
    "    selected_sample = array[index_samples_model]\n",
    "\n",
    "    # Map the selected samples to the correct positions in y\n",
    "    y = map_samples_to_y(times_sliced, times_sample[index_samples_model], selected_sample)\n",
    "\n",
    "    return X, y\n",
    "\n",
    "\n",
    "def reconstruct_log_subclone_dict(log_subclone_sample_mcmc):\n",
    "    \"\"\"\n",
    "    Reconstruct the log_subclone_sample_mcmc dictionary to {iteration: {cluster: [values]}}.\n",
    "\n",
    "    Parameters:\n",
    "    - log_subclone_sample_mcmc: Dictionary of subclone data in the format {cluster: {iteration: [values]}}.\n",
    "\n",
    "    Returns:\n",
    "    - log_subclone_cluster_iter: Reconstructed dictionary.\n",
    "    \"\"\"\n",
    "    log_subclone_cluster_iter = {}\n",
    "    for cluster, iterations in log_subclone_sample_mcmc.items():\n",
    "        for iteration, value in iterations.items():\n",
    "            if iteration not in log_subclone_cluster_iter:\n",
    "                log_subclone_cluster_iter[iteration] = {}\n",
    "            log_subclone_cluster_iter[iteration][cluster] = value\n",
    "    return log_subclone_cluster_iter\n",
    "\n",
    "\n",
    "def map_samples_to_y(times_sliced, times_sample_selected, selected_sample):\n",
    "    \"\"\"\n",
    "    Map the selected samples to the correct positions in y.\n",
    "\n",
    "    Parameters:\n",
    "    - times_sliced: List of time points (in days).\n",
    "    - times_sample_selected: List of selected time points (in days).\n",
    "    - selected_sample: List of values corresponding to the selected time points.\n",
    "\n",
    "    Returns:\n",
    "    - y: List with values at the correct positions and None elsewhere.\n",
    "    \"\"\"\n",
    "    y = [None] * len(times_sliced)\n",
    "    indices = [i for i, t in enumerate(times_sliced) if t in times_sample_selected]\n",
    "\n",
    "    for idx, sample_idx in enumerate(indices):\n",
    "        y[sample_idx] = selected_sample[idx]\n",
    "\n",
    "    return y"
   ]
  },
  {
   "cell_type": "code",
   "execution_count": 99,
   "id": "ef9eaa8e",
   "metadata": {},
   "outputs": [
    {
     "name": "stderr",
     "output_type": "stream",
     "text": [
      "/var/folders/x6/7zg8fddx4dlgx2lv4sv34_g40000gp/T/ipykernel_30826/981427378.py:2: SettingWithCopyWarning:\n",
      "\n",
      "\n",
      "A value is trying to be set on a copy of a slice from a DataFrame.\n",
      "Try using .loc[row_indexer,col_indexer] = value instead\n",
      "\n",
      "See the caveats in the documentation: https://pandas.pydata.org/pandas-docs/stable/user_guide/indexing.html#returning-a-view-versus-a-copy\n",
      "\n"
     ]
    }
   ],
   "source": [
    "# Convert the column \"CLL count estm\" to float \n",
    "wbc_df_patient['CLL count estm'] = wbc_df_patient['CLL count estm'].astype(float) \n",
    "times_sliced_aft = [int(i) for i in wbc_df_patient[wbc_df_patient['CLL count estm'] > 0]['Time_since_start_tx'].values  if int(i) > 0]"
   ]
  },
  {
   "cell_type": "code",
   "execution_count": 100,
   "id": "2940b1c3",
   "metadata": {},
   "outputs": [
    {
     "data": {
      "text/plain": [
       "[142, 383, 467, 544, 691, 782, 908, 999, 1140, 1211, 1302, 1414, 2029]"
      ]
     },
     "execution_count": 100,
     "metadata": {},
     "output_type": "execute_result"
    }
   ],
   "source": [
    "times_aft_tx"
   ]
  },
  {
   "cell_type": "code",
   "execution_count": 101,
   "id": "665f69bb",
   "metadata": {},
   "outputs": [],
   "source": [
    "# Needs to manually check times_sliced_aft"
   ]
  },
  {
   "cell_type": "code",
   "execution_count": 102,
   "id": "7a0b9cdf",
   "metadata": {},
   "outputs": [
    {
     "data": {
      "text/plain": [
       "[467, 691, 782, 908, 999, 1140, 1211, 1302, 1414, 2029]"
      ]
     },
     "execution_count": 102,
     "metadata": {},
     "output_type": "execute_result"
    }
   ],
   "source": [
    "times_sliced_aft"
   ]
  },
  {
   "cell_type": "code",
   "execution_count": 103,
   "id": "58a2202c",
   "metadata": {},
   "outputs": [
    {
     "data": {
      "text/plain": [
       "10"
      ]
     },
     "execution_count": 103,
     "metadata": {},
     "output_type": "execute_result"
    }
   ],
   "source": [
    "len(times_sliced_aft)"
   ]
  },
  {
   "cell_type": "code",
   "execution_count": 104,
   "id": "074f036e",
   "metadata": {},
   "outputs": [],
   "source": [
    "index_samples_model = slice(1,6)\n",
    "\n",
    "# index_samples_model is the index of the samples after treatment. For instance, slice(1,7) means sample 2, 3, 4, 5,6, 7\n",
    "\n",
    "X, y = create_inputs(times_sliced_aft, log_subclone_sample_mcmc_with_uniform_noise,2, index_samples_model)\n",
    "\n"
   ]
  },
  {
   "cell_type": "code",
   "execution_count": 105,
   "id": "e45a0ac2",
   "metadata": {},
   "outputs": [
    {
     "data": {
      "text/plain": [
       "[2.7096578189018534,\n",
       " -4.839077714251823,\n",
       " -4.145323125501771,\n",
       " -7.004640960219437,\n",
       " -8.681186422140689,\n",
       " -8.741752570152945]"
      ]
     },
     "execution_count": 105,
     "metadata": {},
     "output_type": "execute_result"
    }
   ],
   "source": [
    "log_subclone_sample_mcmc_with_uniform_noise[1][2]"
   ]
  },
  {
   "cell_type": "code",
   "execution_count": 106,
   "id": "55cbd605",
   "metadata": {
    "scrolled": true
   },
   "outputs": [
    {
     "data": {
      "text/plain": [
       "[None,\n",
       " None,\n",
       " None,\n",
       " None,\n",
       " None,\n",
       " array([-4.83907771, -5.05123539, -4.77293463, -5.06127946, -7.20802117]),\n",
       " array([-4.14532313, -3.36013331, -4.45394805, -5.60033479, -7.2858686 ]),\n",
       " array([-7.00464096, -2.77009879, -5.25128508, -4.22430174, -6.68208594]),\n",
       " array([-8.68118642, -1.65000588, -3.87787116, -4.44316626, -3.88292265]),\n",
       " array([-8.74175257, -0.92492277, -0.89723284, -4.4451113 , -2.74441151])]"
      ]
     },
     "execution_count": 106,
     "metadata": {},
     "output_type": "execute_result"
    }
   ],
   "source": [
    "y"
   ]
  },
  {
   "cell_type": "code",
   "execution_count": 107,
   "id": "a2672bf7",
   "metadata": {},
   "outputs": [],
   "source": [
    "wbc_aft_tx = wbc_df_patient[wbc_df_patient.Time_since_start_tx > treatment_end]['CLL count estm'].to_list()\n",
    "wbc_model = [i for i in wbc_aft_tx if i > 0]"
   ]
  },
  {
   "cell_type": "code",
   "execution_count": 108,
   "id": "b9f7c9a4",
   "metadata": {},
   "outputs": [
    {
     "data": {
      "text/plain": [
       "[0.00029033,\n",
       " 0.00257116,\n",
       " 0.00374381,\n",
       " 0.00645212,\n",
       " 0.0114789,\n",
       " 0.02983445,\n",
       " 0.06655,\n",
       " 0.08465064,\n",
       " 0.24514,\n",
       " 0.88]"
      ]
     },
     "execution_count": 108,
     "metadata": {},
     "output_type": "execute_result"
    }
   ],
   "source": [
    "wbc_model"
   ]
  },
  {
   "cell_type": "code",
   "execution_count": 109,
   "id": "0e913a27",
   "metadata": {},
   "outputs": [
    {
     "data": {
      "text/plain": [
       "10"
      ]
     },
     "execution_count": 109,
     "metadata": {},
     "output_type": "execute_result"
    }
   ],
   "source": [
    "len(wbc_model)"
   ]
  },
  {
   "cell_type": "code",
   "execution_count": 110,
   "id": "62af401e",
   "metadata": {},
   "outputs": [],
   "source": [
    "n_clusters = len(cluster_list)\n",
    "logsumexp_points = np.log(wbc_model)\n",
    "model = MultiClusterLinearRegression(n_clusters, X, y)\n",
    "model.fit(logsumexp_points)"
   ]
  },
  {
   "cell_type": "code",
   "execution_count": 111,
   "id": "0ec3da28",
   "metadata": {},
   "outputs": [
    {
     "name": "stdout",
     "output_type": "stream",
     "text": [
      "(467, 0.00029033)\n",
      "(691, 0.00257116)\n",
      "(782, 0.00374381)\n",
      "(908, 0.00645212)\n",
      "(999, 0.0114789)\n",
      "(1140, 0.02983445)\n",
      "(1211, 0.06655)\n",
      "(1302, 0.08465064)\n",
      "(1414, 0.24514)\n",
      "(2029, 0.88)\n"
     ]
    }
   ],
   "source": [
    "for i in zip(times_sliced_aft, wbc_model):\n",
    "    print(i)"
   ]
  },
  {
   "cell_type": "code",
   "execution_count": 112,
   "id": "0d9ac01a",
   "metadata": {},
   "outputs": [],
   "source": [
    "def plot_subclones_new_model(clusters, times_sample, CLL_count, log_subclone_sample, extrapolate_start_idx, times_aft_tx, times_sliced_aft, treatment,model ):\n",
    "    \"\"\"\n",
    "    Plot subclones and extrapolate their behavior after treatment using Plotly.\n",
    "\n",
    "    Args:\n",
    "        clusters (list): List of cluster IDs to plot.\n",
    "        times_sample (list): List of timepoints since treatment start.\n",
    "        CLL_count (list): List of CLL count estimates.\n",
    "        log_subclone_sample (dict): Dictionary of log subclone counts for each cluster.\n",
    "        extrapolate_start_idx (int): Index to start extrapolation.\n",
    "        times_aft_tx (list): Timepoints after treatment for extrapolation.\n",
    "        treatment (pd.DataFrame): Treatment data.\n",
    "        ClusterColors: Object to get cluster colors.\n",
    "    \"\"\"\n",
    "    # Create a subplot with two rows\n",
    "    fig = go.Figure()\n",
    "\n",
    "    # Plot total WBC\n",
    "    x_year = [i / 365 for i in np.array(times_sample)]\n",
    "    x_year_selected = [ i/365 for i in np.array(times_sliced_aft)]\n",
    "    fig.add_trace(\n",
    "        go.Scatter(x= x_year_selected, y=np.log(wbc_model), mode='markers', name='CLL count estimate', marker=dict(color='red')),\n",
    "        \n",
    "    )\n",
    "\n",
    "    # Plot subclones and extrapolate after treatment\n",
    "    predicted_end_tx_clones = []\n",
    "    for i in clusters:\n",
    "        y_sub = np.array(log_subclone_sample[i])\n",
    "        fig.add_trace(\n",
    "            go.Scatter(x=x_year, y=y_sub, mode='markers', name=f'Cluster {i}', marker=dict(color=ClusterColors.get_hex_string(i))),\n",
    "           \n",
    "        )\n",
    "\n",
    "        # Extrapolate after treatment\n",
    "        extrapolate_times = times_sample[extrapolate_start_idx:]\n",
    "        extrapolate_year = [i / 365 for i in np.array(extrapolate_times)]\n",
    "        extrapolate_subclone = log_subclone_sample[i][extrapolate_start_idx:]\n",
    "\n",
    "        # Fit a linear model for extrapolation\n",
    "        linear_model = np.polyfit(extrapolate_year, extrapolate_subclone, 1)\n",
    "        predict_year = [i / 365 for i in np.array(times_aft_tx)]\n",
    "        predicted = np.polyval(linear_model, predict_year)\n",
    "        predicted_end_tx_clones.append(predicted[0])\n",
    "\n",
    "        # Plot the extrapolated line\n",
    "        fig.add_trace(\n",
    "            go.Scatter(x=predict_year, y=predicted, mode='lines', name=f'Cluster {i} (extrapolated)', line=dict(color=ClusterColors.get_hex_string(i))),\n",
    "            \n",
    "        )\n",
    "        \n",
    "        # Plot predicted values\n",
    "        times_aft_tx_year = [i/365 for i in times_aft_tx]\n",
    "        fig.add_trace(go.Scatter(\n",
    "            x=times_aft_tx_year,\n",
    "            y=model.predict(times_aft_tx_year)[:, i - 1],\n",
    "            mode='lines',\n",
    "            line=dict(dash='dash', color=ClusterColors.get_hex_string(i)),\n",
    "            name=f'Cluster {i} (Predicted)'\n",
    "        ), )\n",
    "        \n",
    "        \n",
    "        # Plot logsumexp points\n",
    "        logsumexp_points_model = [logsumexp(yi) for yi in model.predict(times_aft_tx_year)]\n",
    "        fig.add_trace(go.Scatter(\n",
    "            x=times_aft_tx_year[1:],\n",
    "            y=logsumexp_points_model[1:],\n",
    "            mode='markers',\n",
    "            marker=dict(symbol='triangle-up', color='grey', opacity=0.5),\n",
    "            showlegend=False\n",
    "        ), )\n",
    "\n",
    "    # Plot treatment effects\n",
    "    times_during_tx = [0, treatment_end / 365]\n",
    "    tx_start_clones = [log_subclone_sample[i][0] for i in clusters]\n",
    "\n",
    "    \n",
    "\n",
    "    # Add treatment annotations\n",
    "    for i, row in treatment_df.iterrows():\n",
    "        treatment_name = row.tx\n",
    "        start = row.tx_start / 365\n",
    "        end = treatment_end/365\n",
    "        fig.add_vrect(x0=start, x1=end, fillcolor=\"lightgray\", opacity=0.5, line_width=0, annotation_text=treatment_name, annotation_position=\"top left\", )\n",
    "\n",
    "    # Update layout\n",
    "    fig.update_layout(\n",
    "        title=\"Subclonal analyis with added wbc estimations\",\n",
    "        xaxis_title=\"Time (years)\",\n",
    "        yaxis_title=\"log CLL count estimates\",\n",
    "\n",
    "        showlegend=True,\n",
    "        height=800,\n",
    "    )\n",
    "\n",
    "    # Return HTML content\n",
    "    return fig.to_html(full_html=False)\n",
    "    \n",
    "\n",
    "\n",
    "   "
   ]
  },
  {
   "cell_type": "code",
   "execution_count": 113,
   "id": "5a8e1855",
   "metadata": {},
   "outputs": [],
   "source": [
    "# Generate Plotly plot\n",
    "subclone_plot_new_model_html = plot_subclones_new_model(cluster_list, times_sample, CLL_count_sample, log_subclone_sample, extrapolate_start_idx, times_aft_tx, times_sliced_aft, treatment_df,model )\n"
   ]
  },
  {
   "cell_type": "code",
   "execution_count": 117,
   "id": "b88a6563",
   "metadata": {},
   "outputs": [],
   "source": [
    "def plot_mcmc_model(clusters, index_samples_model, times_aft_tx, times_sliced_aft):\n",
    "    \"\"\"\n",
    "    Plot MCMC models for each cluster dynamically and save the figure as an HTML file.\n",
    "\n",
    "    Parameters:\n",
    "        clusters (list): List of cluster indices to plot.\n",
    "        index_samples_model (slice): Slice object for indexing samples.\n",
    "    \"\"\"\n",
    "    # Determine the number of rows and columns\n",
    "    num_clusters = len(clusters)\n",
    "    num_rows = (num_clusters + 1)// 2 + 3  # Ensure enough rows for clusters and histogram\n",
    "    num_cols = 2  # Two columns \n",
    "    \n",
    "    \n",
    "    # Define subplot specs\n",
    "    specs = []\n",
    "    # Add rows for cluster plots\n",
    "    for _ in range((num_clusters + 1) // 2):\n",
    "        specs.append([{'type': 'xy'}, {'type': 'xy'}])\n",
    "    # Add row for histograms\n",
    "    specs.append([{'type': 'xy'}, {'type': 'xy'}])\n",
    "    # Add rows for tables\n",
    "    specs.append([{'type': 'table', 'colspan': 2}, None])  # Growth table\n",
    "    specs.append([{'type': 'table', 'colspan': 2}, None])  # Decay table\n",
    "    \n",
    "\n",
    "    # Create a subplot with dynamic rows and 2 columns\n",
    "    fig = make_subplots(\n",
    "        rows=num_rows, cols=num_cols,\n",
    "        subplot_titles=(\n",
    "            [f\"MCMC Model Cluster {cluster}\" for cluster in clusters] + ([\"\"] if len(clusters) % 2 == 1 else []) +\n",
    "            [\"Growth Rate Histogram\"] + ['Decay Rate Histogram'] \n",
    "            \n",
    "            \n",
    "        ),\n",
    "        specs=specs,\n",
    "        vertical_spacing=0.1,\n",
    "        row_heights=[1] * ((num_clusters + 1) // 2) + [1, 0.5, 0.5]  # Adjust table row heights\n",
    "    )\n",
    "\n",
    "    # Define the number of ticks and tick labels\n",
    "    tick_num = len(sample_list)\n",
    "    tick_list = ['T' + str(i) for i in range(tick_num)]\n",
    "\n",
    "    # Dictionary to store slopes\n",
    "    slopes_mcmc = {}\n",
    "    \n",
    "    slopes_mcmc_decay = {}\n",
    "\n",
    "    # Loop through each cluster and plot MCMC models\n",
    "    for idx, cluster in enumerate(clusters, start=1):\n",
    "        row = (idx - 1) // 2 + 1  # Start from row 1\n",
    "        col = (idx - 1) % 2 + 1   # Alternate between columns 1 and 2\n",
    "\n",
    "        # Plot total WBC\n",
    "        x_year_selected = [i / 365 for i in np.array(times_sliced_aft)]\n",
    "        fig.add_trace(go.Scatter(\n",
    "            x=x_year_selected,\n",
    "            y=np.log(wbc_model),\n",
    "            mode='markers',\n",
    "            marker=dict(color='red'),\n",
    "            name='CLL count estimate'\n",
    "        ), row=row, col=col)\n",
    "        \n",
    "        \n",
    "        slopes_mcmc_decay[cluster] = []\n",
    "        slopes_mcmc[cluster] = []\n",
    "\n",
    "        # Plot subclones and MCMC iterations\n",
    "        for iter_idx in range(250):\n",
    "            x_year = [i / 365 for i in np.array(times_sample)][1:]\n",
    "            y_sub = np.array(log_subclone_sample_mcmc_with_uniform_noise[cluster][iter_idx])[1:]\n",
    "            fig.add_trace(go.Scatter(\n",
    "                x=x_year,\n",
    "                y=y_sub,\n",
    "                mode='markers',\n",
    "                marker=dict(color=ClusterColors.get_hex_string(cluster), opacity=0.5),\n",
    "                showlegend=False\n",
    "            ), row=row, col=col)\n",
    "\n",
    "            # Create inputs and fit the model\n",
    "            X, y = create_inputs(times_sliced_aft, log_subclone_sample_mcmc_with_uniform_noise, iter_idx, index_samples_model)\n",
    "            logsumexp_points = np.log(wbc_model)\n",
    "            model = MultiClusterLinearRegression(num_clusters, X, y)\n",
    "            model.fit(logsumexp_points)\n",
    "\n",
    "            # Store slopes\n",
    "            cluster_slopes = model.params[num_clusters:]\n",
    "            slopes_mcmc[cluster].append(cluster_slopes)\n",
    "            \n",
    "            times_aft_tx_year = [i/365 for i in times_aft_tx]\n",
    "            # Calculate decay rate\n",
    "            predicted = model.predict(times_aft_tx_year)[:, cluster - 1]\n",
    "            \n",
    "            slope_decay = (predicted[0] - y_sub[0]) / (treatment_end / 365)\n",
    "            slopes_mcmc_decay[cluster].append(slope_decay)\n",
    "            \n",
    "            # Plot during treatment\n",
    "            times_during_tx = [0, treatment_end / 365]\n",
    "            tx_start_clones = y_sub[0]\n",
    "            fig.add_trace(\n",
    "                go.Scatter(\n",
    "                    x=times_during_tx,\n",
    "                    y=[tx_start_clones, predicted[0]],\n",
    "                    mode='lines+markers',\n",
    "                    line=dict(color=ClusterColors.get_hex_string(cluster)),\n",
    "                    marker=dict(color=ClusterColors.get_hex_string(cluster)),\n",
    "                    showlegend=False\n",
    "                ),\n",
    "                row=row, col=col\n",
    "            )\n",
    "\n",
    "            # Plot predicted values\n",
    "            times_aft_tx_year = [i/365 for i in times_aft_tx]\n",
    "            fig.add_trace(go.Scatter(\n",
    "                x=times_aft_tx_year,\n",
    "                y=model.predict(times_aft_tx_year)[:, cluster - 1],\n",
    "                mode='lines',\n",
    "                line=dict(dash='dash', color=ClusterColors.get_hex_string(cluster)),\n",
    "                showlegend=False\n",
    "            ), row=row, col=col)\n",
    "\n",
    "            # Plot logsumexp points\n",
    "            logsumexp_points_model = [logsumexp(yi) for yi in model.predict(times_aft_tx_year)]\n",
    "            fig.add_trace(go.Scatter(\n",
    "                x=times_aft_tx_year[1:],\n",
    "                y=logsumexp_points_model[1:],\n",
    "                mode='markers',\n",
    "                marker=dict(symbol='triangle-up', color='grey', opacity=0.5),\n",
    "                showlegend=False\n",
    "            ), row=row, col=col)\n",
    "\n",
    "#         # Add secondary x-axis\n",
    "#         x_axis = [i / 365 for i in times_sample]\n",
    "#         fig.update_xaxes(tickvals=x_axis, ticktext=tick_list, row=row, col=col)\n",
    "#         fig.update_xaxes(title_text=\"Time (years)\", row=row, col=col, secondary_y=True)\n",
    "\n",
    "        # Add grid and labels\n",
    "        fig.update_xaxes(showgrid=True, row=row, col=col)\n",
    "        fig.update_yaxes(title_text=\"log WBC × 10^6 cells per ml\", row=row, col=col)\n",
    "        fig.update_xaxes(showgrid=True, gridwidth=1, gridcolor='lightgray', row=row, col=col)\n",
    "        fig.update_yaxes(showgrid=True, gridwidth=1, gridcolor='lightgray', row=row, col=col)\n",
    "\n",
    "        # Add treatment annotations\n",
    "        for i, row_data in treatment_df.iterrows():\n",
    "            treatment_name = row_data.tx\n",
    "            start = row_data.tx_start / 365\n",
    "            end = treatment_end / 365\n",
    "            if np.isnan(end):\n",
    "                end = x_axis[-1]\n",
    "            fig.add_vrect(\n",
    "                x0=start, x1=end,\n",
    "                fillcolor=\"grey\",opacity = 0.5,\n",
    "                layer=\"below\",\n",
    "                line_width=0,\n",
    "                annotation_text=treatment_name,\n",
    "                annotation_position=\"top left\",\n",
    "                row=row, col=col\n",
    "            )\n",
    "\n",
    "    row_hist = num_rows-2\n",
    "    # Plot histogram of slopes in the second last row\n",
    "    for cluster in clusters:\n",
    "        cluster_slopes_array = np.array(slopes_mcmc[cluster])\n",
    "        if cluster_slopes_array.ndim > 1:\n",
    "            # If slopes are multi-dimensional, take the appropriate dimension\n",
    "            cluster_slopes_flat = cluster_slopes_array[:, cluster - 1] if cluster_slopes_array.shape[1] >= cluster else cluster_slopes_array.flatten()\n",
    "        else:\n",
    "            cluster_slopes_flat = cluster_slopes_array\n",
    "            \n",
    "        fig.add_trace(go.Histogram(\n",
    "            x=cluster_slopes_flat,\n",
    "            name=f'Cluster {cluster}',\n",
    "            marker_color=ClusterColors.get_hex_string(cluster),\n",
    "            opacity=0.5,\n",
    "        ), row=row_hist, col=1)\n",
    "    \n",
    "    for cluster in clusters:\n",
    "        fig.add_trace(\n",
    "            go.Histogram(\n",
    "                x=slopes_mcmc_decay[cluster],\n",
    "                name=f'Cluster {cluster} Decay',\n",
    "                marker_color=ClusterColors.get_hex_string(cluster),\n",
    "                opacity=0.5\n",
    "            ),\n",
    "            row=row_hist, col=2\n",
    "        )\n",
    "    \n",
    "        \n",
    "     # Calculate stats for growth rates\n",
    "    table_data_growth = []\n",
    "    for cluster in clusters:\n",
    "        cluster_slopes_array = np.array(slopes_mcmc[cluster])\n",
    "        if cluster_slopes_array.ndim > 1:\n",
    "            cluster_slopes_flat = cluster_slopes_array[:, cluster - 1] if cluster_slopes_array.shape[1] >= cluster else cluster_slopes_array.flatten()\n",
    "        else:\n",
    "            cluster_slopes_flat = cluster_slopes_array\n",
    "            \n",
    "        mean = np.mean(cluster_slopes_flat)\n",
    "        lower_ci = np.percentile(cluster_slopes_flat, 2.5)\n",
    "        upper_ci = np.percentile(cluster_slopes_flat, 97.5)\n",
    "        table_data_growth.append([f'Cluster {cluster}', f'{mean:.4f}', f'{lower_ci:.4f} to {upper_ci:.4f}'])\n",
    "    \n",
    "    # Calculate stats for decay rates\n",
    "    table_data_decay = []\n",
    "    for cluster in clusters:\n",
    "        mean_decay = np.mean(slopes_mcmc_decay[cluster])\n",
    "        lower_ci_decay = np.percentile(slopes_mcmc_decay[cluster], 2.5)\n",
    "        upper_ci_decay = np.percentile(slopes_mcmc_decay[cluster], 97.5)\n",
    "        table_data_decay.append([f'Cluster {cluster}', f'{mean_decay:.4f}', f'{lower_ci_decay:.4f} to {upper_ci_decay:.4f}'])\n",
    "\n",
    " \n",
    "    # Add growth rate table \n",
    "    fig.add_trace(\n",
    "        go.Table(\n",
    "            header=dict(\n",
    "                values=['Cluster', 'Mean Growth Rate', '95% CI'],\n",
    "                fill_color='lightblue',\n",
    "                align='left'\n",
    "            ),\n",
    "            cells=dict(\n",
    "                values=list(zip(*table_data_growth)),\n",
    "                fill_color='white',\n",
    "                align='left'\n",
    "            )\n",
    "        ),\n",
    "        row=num_rows -1, col=1\n",
    "    )\n",
    "    \n",
    "    \n",
    "        # Add decay rate table (last row)\n",
    "    fig.add_trace(\n",
    "        go.Table(\n",
    "            header=dict(\n",
    "                values=['Cluster', 'Mean Decay Rate', '95% CI'],\n",
    "                fill_color='lightgreen',\n",
    "                align='left'\n",
    "            ),\n",
    "            cells=dict(\n",
    "                values=list(zip(*table_data_decay)),\n",
    "                fill_color='white',\n",
    "                align='left'\n",
    "            )\n",
    "        ),\n",
    "        row=num_rows, col = 1)\n",
    "    \n",
    "    fig.update_xaxes(title_text=\"Growth Rate (slope)\", row=row_hist, col=1)\n",
    "    fig.update_yaxes(title_text=\"Count\", row=row_hist, col=1)\n",
    "\n",
    "    # Add axis labels for decay histogram  \n",
    "    fig.update_xaxes(title_text=\"Decay Rate (slope)\", row=row_hist, col=2)\n",
    "    fig.update_yaxes(title_text=\"Count\", row=row_hist, col=2)\n",
    "    \n",
    "    # Update layout\n",
    "    fig.update_layout(\n",
    "        title_text=\"MCMC Model Analysis\",\n",
    "        showlegend=True,\n",
    "#         width=1200,\n",
    "        height=400 * num_rows  # Adjust height dynamically based on the number of rows\n",
    "    )\n",
    "\n",
    "    # Return HTML content\n",
    "    return fig.to_html(full_html=False)"
   ]
  },
  {
   "cell_type": "code",
   "execution_count": 118,
   "id": "fced37d8",
   "metadata": {},
   "outputs": [],
   "source": [
    "plot_mcmc_new_model_html = plot_mcmc_model(clusters, index_samples_model, times_aft_tx,times_sliced_aft)\n"
   ]
  },
  {
   "cell_type": "code",
   "execution_count": 119,
   "id": "0241ade1",
   "metadata": {},
   "outputs": [
    {
     "name": "stdout",
     "output_type": "stream",
     "text": [
      "HTML file saved as CLL_subplot_combined_0022_wbc.html\n"
     ]
    }
   ],
   "source": [
    "create_html_file([wbc_table_html, plot_ccf_html, ccf_tree_html, CLL_plot_html, subclone_plot_html,linear_model_mcmc_html,subclone_plot_new_model_html, plot_mcmc_new_model_html], output_file=outputfile_name)"
   ]
  },
  {
   "cell_type": "code",
   "execution_count": null,
   "id": "907e6c9b",
   "metadata": {},
   "outputs": [],
   "source": []
  }
 ],
 "metadata": {
  "kernelspec": {
   "display_name": "Python 3 (ipykernel)",
   "language": "python",
   "name": "python3"
  },
  "language_info": {
   "codemirror_mode": {
    "name": "ipython",
    "version": 3
   },
   "file_extension": ".py",
   "mimetype": "text/x-python",
   "name": "python",
   "nbconvert_exporter": "python",
   "pygments_lexer": "ipython3",
   "version": "3.12.4"
  }
 },
 "nbformat": 4,
 "nbformat_minor": 5
}
