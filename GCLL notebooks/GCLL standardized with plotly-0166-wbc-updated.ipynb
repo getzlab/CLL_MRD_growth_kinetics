{
 "cells": [
  {
   "cell_type": "code",
   "execution_count": 1,
   "id": "ae817f6c",
   "metadata": {
    "ExecuteTime": {
     "end_time": "2025-04-09T18:08:33.442936Z",
     "start_time": "2025-04-09T18:08:33.439556Z"
    }
   },
   "outputs": [],
   "source": [
    "# Import necessary libraries\n",
    "import pandas as pd\n",
    "import plotly.graph_objects as go\n",
    "import dalmatian\n",
    "from google.cloud import storage\n",
    "import matplotlib.pyplot as plt\n",
    "import networkx as nx\n",
    "from networkx.drawing.nx_pydot import graphviz_layout\n",
    "\n",
    "import numpy as np\n",
    "\n",
    "from plotly.subplots import make_subplots\n",
    "import model_helper \n",
    "from helper import *\n",
    "from plotly_helper import *"
   ]
  },
  {
   "cell_type": "code",
   "execution_count": 1,
   "id": "04053637",
   "metadata": {},
   "outputs": [],
   "source": [
    "# Function to load data\n",
    "def load_data(patient_id, wbc_file, treatment_file):\n",
    "    # Load WBC and treatment data\n",
    "    wbc_df = pd.read_csv(wbc_file)\n",
    "    treatment_df = pd.read_csv(treatment_file, sep='\\t')\n",
    "    \n",
    "    # Get input files from Terra through dalmatian\n",
    "    workspace = 'broad-firecloud-ibmwatson/TAG_CLL_Clonal_Kinetic_UMI_PrAN'\n",
    "    wm = dalmatian.WorkspaceManager(workspace)\n",
    "    participants = wm.get_participants()\n",
    "    \n",
    "    # Load additional data for the patient\n",
    "    cluster_CCF_df = pd.read_csv(participants.loc[patient_id]['cluster_ccfs'], sep='\\t')\n",
    "    \n",
    "    tree_df = pd.read_csv(participants.loc[patient_id]['tree_tsv'], sep='\\t')\n",
    "    \n",
    "#     tree_df = f\"Cell_Population/{patient_id}_build_tree_posteriors.tsv\"\n",
    "    abundance_file = f\"Cell_Population/{patient_id}_cell_population_abundances.tsv\"\n",
    "    mcmc_file = f\"Cell_Population/{patient_id}_cell_population_mcmc_trace.tsv\"  \n",
    "    \n",
    "    abundance_df = pd.read_csv(abundance_file, sep='\\t')\n",
    "    mcmc_df = pd.read_csv(mcmc_file, sep='\\t')  \n",
    "    \n",
    "    return wbc_df, treatment_df, cluster_CCF_df, abundance_df, mcmc_df, tree_df\n",
    "\n",
    "# Function to filter data for a specific patient\n",
    "def filter_patient_data(wbc_df, patient_id):\n",
    "    wbc_df_patient = wbc_df[wbc_df['Patient'] == patient_id]\n",
    "    wbc_df_patient.reset_index(drop=True, inplace=True)\n",
    "    times_sample = [int(i) for i in wbc_df_patient.loc[wbc_df_patient.Sample.notna(), 'Time_since_start_tx'].tolist()]\n",
    "    wbc_all = [float(i) for i in wbc_df_patient['WBC'].tolist()]\n",
    "    \n",
    "    \n",
    "    CLL_count_sample = [float(i) for i in wbc_df_patient.loc[wbc_df_patient.Sample.notna(), 'CLL count estm'].tolist()]\n",
    "    all_times = [int(i) for i in wbc_df_patient['Time_since_start_tx'].to_list()]\n",
    "    \n",
    "    return wbc_df_patient, times_sample, CLL_count_sample, wbc_all,all_times\n",
    "\n",
    "\n",
    "\n"
   ]
  },
  {
   "cell_type": "code",
   "execution_count": 3,
   "id": "ec45b535",
   "metadata": {},
   "outputs": [],
   "source": [
    "end_treatment_df = pd.read_csv(\"CLL8_end_treatment.csv\")"
   ]
  },
  {
   "cell_type": "markdown",
   "id": "2e208fb5",
   "metadata": {},
   "source": [
    "GCLL-0166"
   ]
  },
  {
   "cell_type": "code",
   "execution_count": 4,
   "id": "d6ed86b6",
   "metadata": {},
   "outputs": [],
   "source": [
    "# Input patient information\n",
    "# Input patient information\n",
    "patient_id = 'GCLL-0166'\n",
    "wbc_file = 'CLL8 CLL cell count 05222025 UPDATED.csv'\n",
    "treatment_file = 'GCLL_treatment.txt'\n",
    "UMI_start = 1\n",
    "UMI_end = 4\n",
    "treatment_start = 0\n"
   ]
  },
  {
   "cell_type": "code",
   "execution_count": 5,
   "id": "b5a71ed3",
   "metadata": {},
   "outputs": [],
   "source": [
    "clusters=[1, 2, 3, 4]"
   ]
  },
  {
   "cell_type": "code",
   "execution_count": 6,
   "id": "e9f51d25",
   "metadata": {},
   "outputs": [],
   "source": [
    "# Manually verify the sample list order is correct"
   ]
  },
  {
   "cell_type": "code",
   "execution_count": 7,
   "id": "fc675c2c",
   "metadata": {},
   "outputs": [],
   "source": [
    "\n",
    "sample_list = ['GCLL-0166-T-01','RP-1895_PDO-34670_SM-NPXS9_GCLL-0166-MRD-01_v1_Custom_Selection_OnPrem','RP-1895_PDO-34670_SM-NPXSG_GCLL-0166-MRD-06_v1_Custom_Selection_OnPrem', 'RP-1895_PDO-34670_SM-NPXTR_GCLL-0166-MRD-08_v1_Custom_Selection_OnPrem', 'GCLL-0166-T-02']"
   ]
  },
  {
   "cell_type": "code",
   "execution_count": 8,
   "id": "4c6f3afb",
   "metadata": {},
   "outputs": [],
   "source": [
    "# Output file"
   ]
  },
  {
   "cell_type": "code",
   "execution_count": 9,
   "id": "53c63124",
   "metadata": {},
   "outputs": [],
   "source": [
    "outputfile_name = \"CLL_subplot_combined_0166_wbc_updated.html\""
   ]
  },
  {
   "cell_type": "markdown",
   "id": "2abdd36e",
   "metadata": {},
   "source": [
    "Update patient specific information in the below cell "
   ]
  },
  {
   "cell_type": "code",
   "execution_count": 10,
   "id": "a0c66a63",
   "metadata": {},
   "outputs": [],
   "source": [
    "# Get the treatment duration \n",
    "\n",
    "treatment_end = end_treatment_df[end_treatment_df.Patient == patient_id].Treatment_duration.iloc[0]"
   ]
  },
  {
   "cell_type": "code",
   "execution_count": 11,
   "id": "7684175d",
   "metadata": {},
   "outputs": [
    {
     "data": {
      "text/plain": [
       "43"
      ]
     },
     "execution_count": 11,
     "metadata": {},
     "output_type": "execute_result"
    }
   ],
   "source": [
    "treatment_end"
   ]
  },
  {
   "cell_type": "code",
   "execution_count": 2,
   "id": "30573432",
   "metadata": {},
   "outputs": [
    {
     "ename": "NameError",
     "evalue": "name 'patient_id' is not defined",
     "output_type": "error",
     "traceback": [
      "\u001b[0;31m---------------------------------------------------------------------------\u001b[0m",
      "\u001b[0;31mNameError\u001b[0m                                 Traceback (most recent call last)",
      "Cell \u001b[0;32mIn[2], line 1\u001b[0m\n\u001b[0;32m----> 1\u001b[0m wbc_df, treatment_df, cluster_CCF_df, abundance_df, mcmc_df, tree_df \u001b[38;5;241m=\u001b[39m load_data(\u001b[43mpatient_id\u001b[49m, wbc_file, treatment_file)\n\u001b[1;32m      3\u001b[0m \u001b[38;5;66;03m# Filter data for the specific patient\u001b[39;00m\n\u001b[1;32m      4\u001b[0m wbc_df_patient, times_sample, CLL_count_sample,wbc_count, all_times \u001b[38;5;241m=\u001b[39m filter_patient_data(wbc_df, patient_id)\n",
      "\u001b[0;31mNameError\u001b[0m: name 'patient_id' is not defined"
     ]
    }
   ],
   "source": [
    "\n",
    "wbc_df, treatment_df, cluster_CCF_df, abundance_df, mcmc_df, tree_df = load_data(patient_id, wbc_file, treatment_file)\n",
    "\n",
    "# Filter data for the specific patient\n",
    "wbc_df_patient, times_sample, CLL_count_sample,wbc_count, all_times = filter_patient_data(wbc_df, patient_id)\n",
    "\n",
    "# Plot CLL count over time and save as HTML\n",
    "CLL_plot_html = plot_CLL_count(patient_id, times_sample, CLL_count_sample, UMI_start, UMI_end, treatment_start, treatment_end, )\n",
    "    \n",
    "\n",
    "\n"
   ]
  },
  {
   "cell_type": "code",
   "execution_count": 13,
   "id": "a2d3d42d",
   "metadata": {},
   "outputs": [
    {
     "data": {
      "text/plain": [
       "[-1, 83, 602, 791, 983]"
      ]
     },
     "execution_count": 13,
     "metadata": {},
     "output_type": "execute_result"
    }
   ],
   "source": [
    "times_sample"
   ]
  },
  {
   "cell_type": "code",
   "execution_count": 14,
   "id": "b398f96b",
   "metadata": {},
   "outputs": [
    {
     "data": {
      "text/plain": [
       "[178.6, 1.9, 2.9, 6.3, 6.7, 6.8, 6.8, 8.4, 8.8, 17.1]"
      ]
     },
     "execution_count": 14,
     "metadata": {},
     "output_type": "execute_result"
    }
   ],
   "source": [
    "wbc_count"
   ]
  },
  {
   "cell_type": "code",
   "execution_count": 15,
   "id": "9dc430cf",
   "metadata": {},
   "outputs": [
    {
     "data": {
      "text/plain": [
       "[146.452, 0.07482341, 0.40262653, 1.58315612, 10.602]"
      ]
     },
     "execution_count": 15,
     "metadata": {},
     "output_type": "execute_result"
    }
   ],
   "source": [
    "CLL_count_sample"
   ]
  },
  {
   "cell_type": "code",
   "execution_count": 16,
   "id": "d68cab3c",
   "metadata": {},
   "outputs": [],
   "source": [
    "wbc_table_html = plot_metadata_table(wbc_df_patient, patient_id )"
   ]
  },
  {
   "cell_type": "code",
   "execution_count": 17,
   "id": "6fb33f4e",
   "metadata": {},
   "outputs": [],
   "source": [
    " plot_tree_html = plot_tree_plotly(tree_df, 0)"
   ]
  },
  {
   "cell_type": "code",
   "execution_count": 18,
   "id": "5453a839",
   "metadata": {},
   "outputs": [],
   "source": [
    " plot_ccf_html = plot_ccf(cluster_CCF_df, times_sample, treatment_df,)"
   ]
  },
  {
   "cell_type": "code",
   "execution_count": 47,
   "id": "be93a8ec",
   "metadata": {},
   "outputs": [],
   "source": [
    "branch_annotations = {\n",
    "    1: \"ATM_p.RG493fs, SF3B1_p.K700E,XPO4_p.E140V,LRP1B_p.D478N,TET2_p.E452*\",\n",
    "    2: \"TP53_p.H193R, amp(2p)–MYCN, XPO1, REL\", \n",
    "    3: \"ZC3H18_p.ER633fs, EPHA44_p.R492Q, del(18q), del(21p)\",\n",
    "    \n",
    "}"
   ]
  },
  {
   "cell_type": "code",
   "execution_count": 48,
   "id": "a08ee72d",
   "metadata": {},
   "outputs": [
    {
     "name": "stdout",
     "output_type": "stream",
     "text": [
      "ATM_p.RG493fs<br>SF3B1_p.K700E<br>XPO4_p.E140V<br>LRP1B_p.D478N<br>TET2_p.E452*\n",
      "TP53_p.H193R<br>amp(2p)–MYCN<br>XPO1<br>REL\n",
      "ZC3H18_p.ER633fs<br>EPHA44_p.R492Q<br>del(18q)<br>del(21p)\n"
     ]
    }
   ],
   "source": [
    "ccf_tree_html = plot_ccf_tree_combined(\n",
    "    tree_df=tree_df,\n",
    "    tree_selected=1,\n",
    "    ccf_df=cluster_CCF_df,\n",
    "    times_sample=times_sample,\n",
    "    treatment_df=treatment_df,\n",
    "    branch_annotations=branch_annotations\n",
    "\n",
    ")"
   ]
  },
  {
   "cell_type": "code",
   "execution_count": 20,
   "id": "3ec0bd62",
   "metadata": {},
   "outputs": [],
   "source": [
    "cluster_list, cluster_abundance = model_helper.get_abundance(abundance_df, mcmc_df, sample_list)\n",
    "subclone_sample, log_subclone_sample = model_helper.calc_subclone(CLL_count_sample, cluster_abundance, cluster_list)\n",
    "all_abundance = model_helper.get_all_abundance(cluster_list, mcmc_df, sample_list, times_sample, )"
   ]
  },
  {
   "cell_type": "code",
   "execution_count": 21,
   "id": "c6309dd8",
   "metadata": {},
   "outputs": [],
   "source": [
    "#  Add noise to all abundance\n",
    "\n",
    "import random \n",
    "random.seed(42)\n",
    "def add_uniform_noise_and_normalize(lst, low=0, high=0.01):\n",
    "    \n",
    "    # Add uniform noise\n",
    "    noisy_lst = [x + random.uniform(low, high) for x in lst]\n",
    "\n",
    "    \n",
    "    # Normalize the list\n",
    "    total_sum = sum(noisy_lst)\n",
    "    \n",
    "    normalized_lst = [x / total_sum for x in noisy_lst]\n",
    "\n",
    "    return normalized_lst\n",
    "\n",
    "\n",
    "subclone_cluster_iter = {}\n",
    "# Iterate through each cluster\n",
    "for cluster, iterations in all_abundance.items():\n",
    "   \n",
    "    # Iterate through each iteration in the cluster\n",
    "    for iteration, value in iterations.items():\n",
    "        # If the iteration is not in the new dict, add it\n",
    "        if iteration not in subclone_cluster_iter:\n",
    "            subclone_cluster_iter[iteration] = {}\n",
    "        # Add the cluster and its value to this iteration\n",
    "        subclone_cluster_iter[iteration][cluster] = value\n",
    "\n",
    "        \n",
    "        \n",
    "noise_added_iter = {}\n",
    "\n",
    "for iteration, abundances in subclone_cluster_iter.items():\n",
    "    \n",
    "    transposed_data = {i: list(values) for i, values in enumerate(zip(*abundances.values()), start=1)}\n",
    "    \n",
    "    noise_added_iter[iteration] = {}\n",
    "    for time_point, abundance in transposed_data.items():\n",
    "        \n",
    "#         print(time_point, abundance)\n",
    "        noise_abundance = add_uniform_noise_and_normalize(abundance)\n",
    "    \n",
    "#         print(noise_abundance)\n",
    "\n",
    "        noise_added_iter[iteration][time_point] = add_uniform_noise_and_normalize(abundance)\n",
    "\n",
    "    \n",
    "noise_added_all_abundance = {}\n",
    "for iteration, abundances in noise_added_iter.items():\n",
    "    original_format = {i + 1: list(values) for i, values in enumerate(zip(*abundances.values()))}\n",
    "    noise_added_all_abundance[iteration] = original_format\n",
    "    \n",
    "    \n",
    "noise_added_original_all_abundances = {}\n",
    "\n",
    "for iteration, abundances in noise_added_all_abundance.items():\n",
    "    \n",
    "    for cluster, abundance_value in abundances.items():\n",
    "        if cluster not in noise_added_original_all_abundances:\n",
    "            noise_added_original_all_abundances[cluster] = {}\n",
    "        noise_added_original_all_abundances[cluster][iteration] = abundance_value\n",
    "            "
   ]
  },
  {
   "cell_type": "code",
   "execution_count": 22,
   "id": "1fcbd031",
   "metadata": {},
   "outputs": [],
   "source": [
    "subclone_sample_mcmc_with_uniform_noise, log_subclone_sample_mcmc_with_uniform_noise = model_helper.calc_subclone(CLL_count_sample, noise_added_original_all_abundances, cluster_list, input_type = \"mcmc\")"
   ]
  },
  {
   "cell_type": "code",
   "execution_count": 23,
   "id": "3787c2d2",
   "metadata": {},
   "outputs": [],
   "source": [
    "times_aft_tx = [x for x in all_times if x > treatment_end]\n",
    "times_aft_tx.insert(0, treatment_end)\n",
    "\n",
    "# Set the extrapolate time after treatment\n",
    "extrapolate_start_idx = 1"
   ]
  },
  {
   "cell_type": "code",
   "execution_count": 24,
   "id": "3a620d92",
   "metadata": {},
   "outputs": [
    {
     "data": {
      "text/plain": [
       "[-1, 83, 602, 791, 983]"
      ]
     },
     "execution_count": 24,
     "metadata": {},
     "output_type": "execute_result"
    }
   ],
   "source": [
    "times_sample"
   ]
  },
  {
   "cell_type": "code",
   "execution_count": 25,
   "id": "28c585e2",
   "metadata": {},
   "outputs": [
    {
     "data": {
      "text/plain": [
       "[83, 602, 791, 983]"
      ]
     },
     "execution_count": 25,
     "metadata": {},
     "output_type": "execute_result"
    }
   ],
   "source": [
    "times_sample[extrapolate_start_idx:]"
   ]
  },
  {
   "cell_type": "code",
   "execution_count": 26,
   "id": "32ccdb18",
   "metadata": {},
   "outputs": [],
   "source": [
    "# Generate Plotly plot\n",
    "subclone_plot_html = plot_subclones(cluster_list, times_sample, CLL_count_sample, log_subclone_sample, extrapolate_start_idx, times_aft_tx, treatment_df, treatment_end)\n"
   ]
  },
  {
   "cell_type": "code",
   "execution_count": 27,
   "id": "281ff98b",
   "metadata": {},
   "outputs": [],
   "source": [
    "linear_model_mcmc_html = plot_linear_model_mcmc(cluster_list,times_sample,  CLL_count_sample, log_subclone_sample_mcmc_with_uniform_noise,extrapolate_start_idx,times_aft_tx,treatment_df, treatment_end)  "
   ]
  },
  {
   "cell_type": "code",
   "execution_count": 28,
   "id": "ef9eaa8e",
   "metadata": {},
   "outputs": [
    {
     "name": "stderr",
     "output_type": "stream",
     "text": [
      "/var/folders/x6/7zg8fddx4dlgx2lv4sv34_g40000gp/T/ipykernel_76208/981427378.py:2: SettingWithCopyWarning:\n",
      "\n",
      "\n",
      "A value is trying to be set on a copy of a slice from a DataFrame.\n",
      "Try using .loc[row_indexer,col_indexer] = value instead\n",
      "\n",
      "See the caveats in the documentation: https://pandas.pydata.org/pandas-docs/stable/user_guide/indexing.html#returning-a-view-versus-a-copy\n",
      "\n"
     ]
    }
   ],
   "source": [
    "# Convert the column \"CLL count estm\" to float \n",
    "wbc_df_patient['CLL count estm'] = wbc_df_patient['CLL count estm'].astype(float) \n",
    "times_sliced_aft = [int(i) for i in wbc_df_patient[wbc_df_patient['CLL count estm'] > 0]['Time_since_start_tx'].values  if int(i) > 0]"
   ]
  },
  {
   "cell_type": "code",
   "execution_count": 29,
   "id": "2940b1c3",
   "metadata": {},
   "outputs": [
    {
     "data": {
      "text/plain": [
       "[43, 83, 226, 310, 408, 490, 602, 693, 791, 983]"
      ]
     },
     "execution_count": 29,
     "metadata": {},
     "output_type": "execute_result"
    }
   ],
   "source": [
    "times_aft_tx"
   ]
  },
  {
   "cell_type": "code",
   "execution_count": 30,
   "id": "665f69bb",
   "metadata": {},
   "outputs": [],
   "source": [
    "# Needs to manually check times_sliced_aft"
   ]
  },
  {
   "cell_type": "code",
   "execution_count": 31,
   "id": "7a0b9cdf",
   "metadata": {},
   "outputs": [
    {
     "data": {
      "text/plain": [
       "[83, 226, 310, 408, 490, 602, 693, 791, 983]"
      ]
     },
     "execution_count": 31,
     "metadata": {},
     "output_type": "execute_result"
    }
   ],
   "source": [
    "times_sliced_aft"
   ]
  },
  {
   "cell_type": "code",
   "execution_count": 32,
   "id": "58a2202c",
   "metadata": {},
   "outputs": [
    {
     "data": {
      "text/plain": [
       "9"
      ]
     },
     "execution_count": 32,
     "metadata": {},
     "output_type": "execute_result"
    }
   ],
   "source": [
    "len(times_sliced_aft)"
   ]
  },
  {
   "cell_type": "code",
   "execution_count": 33,
   "id": "074f036e",
   "metadata": {},
   "outputs": [],
   "source": [
    "index_samples_model = slice(1,5)\n",
    "\n",
    "# index_samples_model is the index of the samples after treatment. For instance, slice(1,7) means sample 2, 3, 4, 5,6, 7\n",
    "\n",
    "X, y = create_inputs(times_sliced_aft, log_subclone_sample_mcmc_with_uniform_noise,2, index_samples_model, times_sample)\n",
    "\n"
   ]
  },
  {
   "cell_type": "code",
   "execution_count": 34,
   "id": "55cbd605",
   "metadata": {
    "scrolled": true
   },
   "outputs": [
    {
     "data": {
      "text/plain": [
       "[array([-6.76388925, -3.18994552, -3.53813531, -5.66734902]),\n",
       " None,\n",
       " None,\n",
       " None,\n",
       " None,\n",
       " array([-9.15761264, -3.26548302, -1.04963125, -4.23797037]),\n",
       " None,\n",
       " array([-0.95516644, -0.3272482 , -1.07155177, -1.99760479]),\n",
       " array([-3.31497682,  1.82820749,  1.25296103, -0.1666566 ])]"
      ]
     },
     "execution_count": 34,
     "metadata": {},
     "output_type": "execute_result"
    }
   ],
   "source": [
    "y"
   ]
  },
  {
   "cell_type": "code",
   "execution_count": 35,
   "id": "a2672bf7",
   "metadata": {},
   "outputs": [],
   "source": [
    "wbc_aft_tx = wbc_df_patient[wbc_df_patient.Time_since_start_tx > treatment_end]['CLL count estm'].to_list()\n",
    "wbc_model = [i for i in wbc_aft_tx if i > 0]"
   ]
  },
  {
   "cell_type": "code",
   "execution_count": 36,
   "id": "b9f7c9a4",
   "metadata": {},
   "outputs": [
    {
     "data": {
      "text/plain": [
       "[0.07482341,\n",
       " 0.0064881,\n",
       " 0.0241547,\n",
       " 0.0628759,\n",
       " 0.14038969,\n",
       " 0.40262653,\n",
       " 0.65030543,\n",
       " 1.58315612,\n",
       " 10.602]"
      ]
     },
     "execution_count": 36,
     "metadata": {},
     "output_type": "execute_result"
    }
   ],
   "source": [
    "wbc_model"
   ]
  },
  {
   "cell_type": "code",
   "execution_count": 37,
   "id": "0e913a27",
   "metadata": {},
   "outputs": [
    {
     "data": {
      "text/plain": [
       "9"
      ]
     },
     "execution_count": 37,
     "metadata": {},
     "output_type": "execute_result"
    }
   ],
   "source": [
    "len(wbc_model)"
   ]
  },
  {
   "cell_type": "code",
   "execution_count": 38,
   "id": "62af401e",
   "metadata": {},
   "outputs": [],
   "source": [
    "n_clusters = len(cluster_list)\n",
    "logsumexp_points = np.log(wbc_model)\n",
    "model = MultiClusterLinearRegression(n_clusters, X, y)\n",
    "model.fit(logsumexp_points)"
   ]
  },
  {
   "cell_type": "code",
   "execution_count": 39,
   "id": "5a8e1855",
   "metadata": {},
   "outputs": [],
   "source": [
    "# Generate Plotly plot\n",
    "subclone_plot_new_model_html = plot_subclones_new_model(cluster_list, times_sample, wbc_model, log_subclone_sample, extrapolate_start_idx, times_aft_tx, times_sliced_aft, treatment_df,treatment_end, model )\n"
   ]
  },
  {
   "cell_type": "code",
   "execution_count": 40,
   "id": "fced37d8",
   "metadata": {},
   "outputs": [],
   "source": [
    "plot_mcmc_new_model_html = plot_mcmc_model(clusters, index_samples_model, times_aft_tx, times_sample, times_sliced_aft, sample_list, wbc_model, log_subclone_sample_mcmc_with_uniform_noise, treatment_df, treatment_end)\n"
   ]
  },
  {
   "cell_type": "code",
   "execution_count": 49,
   "id": "0241ade1",
   "metadata": {},
   "outputs": [
    {
     "name": "stdout",
     "output_type": "stream",
     "text": [
      "HTML file saved as CLL_subplot_combined_0166_wbc_updated.html\n"
     ]
    }
   ],
   "source": [
    "create_html_file([wbc_table_html, plot_ccf_html, ccf_tree_html, CLL_plot_html, subclone_plot_html,linear_model_mcmc_html,subclone_plot_new_model_html, plot_mcmc_new_model_html], output_file=outputfile_name)"
   ]
  },
  {
   "cell_type": "code",
   "execution_count": null,
   "id": "907e6c9b",
   "metadata": {},
   "outputs": [],
   "source": []
  }
 ],
 "metadata": {
  "kernelspec": {
   "display_name": "Python 3 (ipykernel)",
   "language": "python",
   "name": "python3"
  },
  "language_info": {
   "codemirror_mode": {
    "name": "ipython",
    "version": 3
   },
   "file_extension": ".py",
   "mimetype": "text/x-python",
   "name": "python",
   "nbconvert_exporter": "python",
   "pygments_lexer": "ipython3",
   "version": "3.12.4"
  }
 },
 "nbformat": 4,
 "nbformat_minor": 5
}
