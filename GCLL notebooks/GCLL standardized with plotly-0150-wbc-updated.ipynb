{
 "cells": [
  {
   "cell_type": "code",
   "execution_count": 1,
   "id": "ae817f6c",
   "metadata": {
    "ExecuteTime": {
     "end_time": "2025-04-09T18:08:33.442936Z",
     "start_time": "2025-04-09T18:08:33.439556Z"
    }
   },
   "outputs": [],
   "source": [
    "# Import necessary libraries\n",
    "import pandas as pd\n",
    "import plotly.graph_objects as go\n",
    "import dalmatian\n",
    "from google.cloud import storage\n",
    "import matplotlib.pyplot as plt\n",
    "import networkx as nx\n",
    "from networkx.drawing.nx_pydot import graphviz_layout\n",
    "\n",
    "import numpy as np\n",
    "\n",
    "import sys\n",
    "import os\n",
    "sys.path.append('..')  \n",
    "import model_helper \n",
    "from helper import *\n",
    "from plotly_helper import *"
   ]
  },
  {
   "cell_type": "code",
   "execution_count": 2,
   "id": "04053637",
   "metadata": {},
   "outputs": [],
   "source": [
    "# Function to load data\n",
    "def load_data(patient_id, wbc_file, treatment_file):\n",
    "    # Load WBC and treatment data\n",
    "    wbc_df = pd.read_csv(wbc_file)\n",
    "    treatment_df = pd.read_csv(treatment_file, sep='\\t')\n",
    "    \n",
    "    # Get input files from Terra through dalmatian\n",
    "    workspace = 'broad-firecloud-ibmwatson/TAG_CLL_Clonal_Kinetic_UMI_PrAN'\n",
    "    wm = dalmatian.WorkspaceManager(workspace)\n",
    "    participants = wm.get_participants()\n",
    "    \n",
    "    # Load additional data for the patient\n",
    "    cluster_CCF_df = pd.read_csv(participants.loc[patient_id]['cluster_ccfs'], sep='\\t')\n",
    "    \n",
    "    tree_df = pd.read_csv(f\"../Cell_Population/{patient_id}_build_tree_posteriors.tsv\", sep='\\t')\n",
    "    \n",
    "    \n",
    "    abundance_file = f\"../Cell_Population/{patient_id}_cell_population_abundances.tsv\"\n",
    "    mcmc_file = f\"../Cell_Population/{patient_id}_cell_population_mcmc_trace.tsv\"  \n",
    "    \n",
    "    abundance_df = pd.read_csv(abundance_file, sep='\\t')\n",
    "    mcmc_df = pd.read_csv(mcmc_file, sep='\\t')  \n",
    "    \n",
    "    return wbc_df, treatment_df, cluster_CCF_df, abundance_df, mcmc_df, tree_df\n",
    "\n",
    "# Function to filter data for a specific patient\n",
    "def filter_patient_data(wbc_df, patient_id):\n",
    "    wbc_df_patient = wbc_df[wbc_df['Patient'] == patient_id]\n",
    "    wbc_df_patient.reset_index(drop=True, inplace=True)\n",
    "    times_sample = [int(i) for i in wbc_df_patient.loc[wbc_df_patient.Sample.notna(), 'Time_since_start_tx'].tolist()]\n",
    "    wbc_all = [float(i) for i in wbc_df_patient['WBC'].tolist()]\n",
    "    \n",
    "    \n",
    "    CLL_count_sample = [float(i) for i in wbc_df_patient.loc[wbc_df_patient.Sample.notna(), 'CLL count estm'].tolist()]\n",
    "    all_times = [int(i) for i in wbc_df_patient['Time_since_start_tx'].to_list()]\n",
    "    \n",
    "    return wbc_df_patient, times_sample, CLL_count_sample, wbc_all,all_times\n",
    "\n",
    "\n",
    "\n"
   ]
  },
  {
   "cell_type": "code",
   "execution_count": 9,
   "id": "ec45b535",
   "metadata": {},
   "outputs": [],
   "source": [
    "end_treatment_df = pd.read_csv(\"../CLL8_end_treatment.csv\")"
   ]
  },
  {
   "cell_type": "code",
   "execution_count": 3,
   "id": "d6ed86b6",
   "metadata": {},
   "outputs": [],
   "source": [
    "# Input patient information\n",
    "# Input patient information\n",
    "patient_id = 'GCLL-0150'\n",
    "wbc_file = '../CLL8 CLL cell count 05222025 UPDATED.csv'\n",
    "treatment_file = '../GCLL_treatment.txt'\n",
    "UMI_start = 1\n",
    "UMI_end = 7\n",
    "treatment_start = 0\n"
   ]
  },
  {
   "cell_type": "code",
   "execution_count": 4,
   "id": "e9f51d25",
   "metadata": {},
   "outputs": [],
   "source": [
    "# Manually verify the sample list order is correct"
   ]
  },
  {
   "cell_type": "code",
   "execution_count": 5,
   "id": "fc675c2c",
   "metadata": {},
   "outputs": [],
   "source": [
    "\n",
    "sample_list = ['GCLL-0150-T-01', 'RP-1895_PDO-31926_SM-NBY6L_GCLL-0150-T-03_v1_Custom_Selection_OnPrem', 'RP-1895_PDO-31926_SM-NBY4U_GCLL-0150-T-04_v1_Custom_Selection_OnPrem', 'RP-1895_PDO-31926_SM-NBY62_GCLL-0150-T-05_v1_Custom_Selection_OnPrem', 'RP-1895_PDO-31926_SM-NBY58_GCLL-0150-T-06_v1_Custom_Selection_OnPrem', 'RP-1895_PDO-31926_SM-NBY59_GCLL-0150-T-07_v1_Custom_Selection_OnPrem', 'RP-1895_PDO-31926_SM-NBY56_GCLL-0150-T-08_v1_Custom_Selection_OnPrem', 'GCLL-0150-T-02']"
   ]
  },
  {
   "cell_type": "code",
   "execution_count": 63,
   "id": "4c6f3afb",
   "metadata": {},
   "outputs": [],
   "source": [
    "# Output file"
   ]
  },
  {
   "cell_type": "code",
   "execution_count": 6,
   "id": "53c63124",
   "metadata": {},
   "outputs": [],
   "source": [
    "outputfile_name = \"CLL_subplot_combined_0150_wbc_updated.html\""
   ]
  },
  {
   "cell_type": "markdown",
   "id": "2abdd36e",
   "metadata": {},
   "source": [
    "Update patient specific information in the below cell "
   ]
  },
  {
   "cell_type": "code",
   "execution_count": 10,
   "id": "a0c66a63",
   "metadata": {},
   "outputs": [],
   "source": [
    "# Get the treatment duration \n",
    "\n",
    "treatment_end = end_treatment_df[end_treatment_df.Patient == patient_id].Treatment_duration.iloc[0]"
   ]
  },
  {
   "cell_type": "code",
   "execution_count": 11,
   "id": "7684175d",
   "metadata": {},
   "outputs": [
    {
     "data": {
      "text/plain": [
       "122"
      ]
     },
     "execution_count": 11,
     "metadata": {},
     "output_type": "execute_result"
    }
   ],
   "source": [
    "treatment_end"
   ]
  },
  {
   "cell_type": "code",
   "execution_count": 13,
   "id": "30573432",
   "metadata": {},
   "outputs": [
    {
     "ename": "FileNotFoundError",
     "evalue": "[Errno 2] No such file or directory: '../Cell_Population/GCLL-0150_build_tree_posteriors.tsv'",
     "output_type": "error",
     "traceback": [
      "\u001b[0;31m---------------------------------------------------------------------------\u001b[0m",
      "\u001b[0;31mFileNotFoundError\u001b[0m                         Traceback (most recent call last)",
      "Cell \u001b[0;32mIn[13], line 1\u001b[0m\n\u001b[0;32m----> 1\u001b[0m wbc_df, treatment_df, cluster_CCF_df, abundance_df, mcmc_df, tree_df \u001b[38;5;241m=\u001b[39m \u001b[43mload_data\u001b[49m\u001b[43m(\u001b[49m\u001b[43mpatient_id\u001b[49m\u001b[43m,\u001b[49m\u001b[43m \u001b[49m\u001b[43mwbc_file\u001b[49m\u001b[43m,\u001b[49m\u001b[43mtreatment_file\u001b[49m\u001b[43m \u001b[49m\u001b[43m)\u001b[49m\n\u001b[1;32m      3\u001b[0m \u001b[38;5;66;03m# Filter data for the specific patient\u001b[39;00m\n\u001b[1;32m      4\u001b[0m wbc_df_patient, times_sample, CLL_count_sample,wbc_count, all_times \u001b[38;5;241m=\u001b[39m filter_patient_data(wbc_df, patient_id)\n",
      "Cell \u001b[0;32mIn[2], line 15\u001b[0m, in \u001b[0;36mload_data\u001b[0;34m(patient_id, wbc_file, treatment_file)\u001b[0m\n\u001b[1;32m     12\u001b[0m \u001b[38;5;66;03m# Load additional data for the patient\u001b[39;00m\n\u001b[1;32m     13\u001b[0m cluster_CCF_df \u001b[38;5;241m=\u001b[39m pd\u001b[38;5;241m.\u001b[39mread_csv(participants\u001b[38;5;241m.\u001b[39mloc[patient_id][\u001b[38;5;124m'\u001b[39m\u001b[38;5;124mcluster_ccfs\u001b[39m\u001b[38;5;124m'\u001b[39m], sep\u001b[38;5;241m=\u001b[39m\u001b[38;5;124m'\u001b[39m\u001b[38;5;130;01m\\t\u001b[39;00m\u001b[38;5;124m'\u001b[39m)\n\u001b[0;32m---> 15\u001b[0m tree_df \u001b[38;5;241m=\u001b[39m \u001b[43mpd\u001b[49m\u001b[38;5;241;43m.\u001b[39;49m\u001b[43mread_csv\u001b[49m\u001b[43m(\u001b[49m\u001b[38;5;124;43mf\u001b[39;49m\u001b[38;5;124;43m\"\u001b[39;49m\u001b[38;5;124;43m../Cell_Population/\u001b[39;49m\u001b[38;5;132;43;01m{\u001b[39;49;00m\u001b[43mpatient_id\u001b[49m\u001b[38;5;132;43;01m}\u001b[39;49;00m\u001b[38;5;124;43m_build_tree_posteriors.tsv\u001b[39;49m\u001b[38;5;124;43m\"\u001b[39;49m\u001b[43m,\u001b[49m\u001b[43m \u001b[49m\u001b[43msep\u001b[49m\u001b[38;5;241;43m=\u001b[39;49m\u001b[38;5;124;43m'\u001b[39;49m\u001b[38;5;130;43;01m\\t\u001b[39;49;00m\u001b[38;5;124;43m'\u001b[39;49m\u001b[43m)\u001b[49m\n\u001b[1;32m     18\u001b[0m abundance_file \u001b[38;5;241m=\u001b[39m \u001b[38;5;124mf\u001b[39m\u001b[38;5;124m\"\u001b[39m\u001b[38;5;124m../Cell_Population/\u001b[39m\u001b[38;5;132;01m{\u001b[39;00mpatient_id\u001b[38;5;132;01m}\u001b[39;00m\u001b[38;5;124m_cell_population_abundances.tsv\u001b[39m\u001b[38;5;124m\"\u001b[39m\n\u001b[1;32m     19\u001b[0m mcmc_file \u001b[38;5;241m=\u001b[39m \u001b[38;5;124mf\u001b[39m\u001b[38;5;124m\"\u001b[39m\u001b[38;5;124m../Cell_Population/\u001b[39m\u001b[38;5;132;01m{\u001b[39;00mpatient_id\u001b[38;5;132;01m}\u001b[39;00m\u001b[38;5;124m_cell_population_mcmc_trace.tsv\u001b[39m\u001b[38;5;124m\"\u001b[39m  \n",
      "File \u001b[0;32m~/PycharmProjects/Fludarabine/venv/lib/python3.12/site-packages/pandas/io/parsers/readers.py:1026\u001b[0m, in \u001b[0;36mread_csv\u001b[0;34m(filepath_or_buffer, sep, delimiter, header, names, index_col, usecols, dtype, engine, converters, true_values, false_values, skipinitialspace, skiprows, skipfooter, nrows, na_values, keep_default_na, na_filter, verbose, skip_blank_lines, parse_dates, infer_datetime_format, keep_date_col, date_parser, date_format, dayfirst, cache_dates, iterator, chunksize, compression, thousands, decimal, lineterminator, quotechar, quoting, doublequote, escapechar, comment, encoding, encoding_errors, dialect, on_bad_lines, delim_whitespace, low_memory, memory_map, float_precision, storage_options, dtype_backend)\u001b[0m\n\u001b[1;32m   1013\u001b[0m kwds_defaults \u001b[38;5;241m=\u001b[39m _refine_defaults_read(\n\u001b[1;32m   1014\u001b[0m     dialect,\n\u001b[1;32m   1015\u001b[0m     delimiter,\n\u001b[0;32m   (...)\u001b[0m\n\u001b[1;32m   1022\u001b[0m     dtype_backend\u001b[38;5;241m=\u001b[39mdtype_backend,\n\u001b[1;32m   1023\u001b[0m )\n\u001b[1;32m   1024\u001b[0m kwds\u001b[38;5;241m.\u001b[39mupdate(kwds_defaults)\n\u001b[0;32m-> 1026\u001b[0m \u001b[38;5;28;01mreturn\u001b[39;00m \u001b[43m_read\u001b[49m\u001b[43m(\u001b[49m\u001b[43mfilepath_or_buffer\u001b[49m\u001b[43m,\u001b[49m\u001b[43m \u001b[49m\u001b[43mkwds\u001b[49m\u001b[43m)\u001b[49m\n",
      "File \u001b[0;32m~/PycharmProjects/Fludarabine/venv/lib/python3.12/site-packages/pandas/io/parsers/readers.py:620\u001b[0m, in \u001b[0;36m_read\u001b[0;34m(filepath_or_buffer, kwds)\u001b[0m\n\u001b[1;32m    617\u001b[0m _validate_names(kwds\u001b[38;5;241m.\u001b[39mget(\u001b[38;5;124m\"\u001b[39m\u001b[38;5;124mnames\u001b[39m\u001b[38;5;124m\"\u001b[39m, \u001b[38;5;28;01mNone\u001b[39;00m))\n\u001b[1;32m    619\u001b[0m \u001b[38;5;66;03m# Create the parser.\u001b[39;00m\n\u001b[0;32m--> 620\u001b[0m parser \u001b[38;5;241m=\u001b[39m \u001b[43mTextFileReader\u001b[49m\u001b[43m(\u001b[49m\u001b[43mfilepath_or_buffer\u001b[49m\u001b[43m,\u001b[49m\u001b[43m \u001b[49m\u001b[38;5;241;43m*\u001b[39;49m\u001b[38;5;241;43m*\u001b[39;49m\u001b[43mkwds\u001b[49m\u001b[43m)\u001b[49m\n\u001b[1;32m    622\u001b[0m \u001b[38;5;28;01mif\u001b[39;00m chunksize \u001b[38;5;129;01mor\u001b[39;00m iterator:\n\u001b[1;32m    623\u001b[0m     \u001b[38;5;28;01mreturn\u001b[39;00m parser\n",
      "File \u001b[0;32m~/PycharmProjects/Fludarabine/venv/lib/python3.12/site-packages/pandas/io/parsers/readers.py:1620\u001b[0m, in \u001b[0;36mTextFileReader.__init__\u001b[0;34m(self, f, engine, **kwds)\u001b[0m\n\u001b[1;32m   1617\u001b[0m     \u001b[38;5;28mself\u001b[39m\u001b[38;5;241m.\u001b[39moptions[\u001b[38;5;124m\"\u001b[39m\u001b[38;5;124mhas_index_names\u001b[39m\u001b[38;5;124m\"\u001b[39m] \u001b[38;5;241m=\u001b[39m kwds[\u001b[38;5;124m\"\u001b[39m\u001b[38;5;124mhas_index_names\u001b[39m\u001b[38;5;124m\"\u001b[39m]\n\u001b[1;32m   1619\u001b[0m \u001b[38;5;28mself\u001b[39m\u001b[38;5;241m.\u001b[39mhandles: IOHandles \u001b[38;5;241m|\u001b[39m \u001b[38;5;28;01mNone\u001b[39;00m \u001b[38;5;241m=\u001b[39m \u001b[38;5;28;01mNone\u001b[39;00m\n\u001b[0;32m-> 1620\u001b[0m \u001b[38;5;28mself\u001b[39m\u001b[38;5;241m.\u001b[39m_engine \u001b[38;5;241m=\u001b[39m \u001b[38;5;28;43mself\u001b[39;49m\u001b[38;5;241;43m.\u001b[39;49m\u001b[43m_make_engine\u001b[49m\u001b[43m(\u001b[49m\u001b[43mf\u001b[49m\u001b[43m,\u001b[49m\u001b[43m \u001b[49m\u001b[38;5;28;43mself\u001b[39;49m\u001b[38;5;241;43m.\u001b[39;49m\u001b[43mengine\u001b[49m\u001b[43m)\u001b[49m\n",
      "File \u001b[0;32m~/PycharmProjects/Fludarabine/venv/lib/python3.12/site-packages/pandas/io/parsers/readers.py:1880\u001b[0m, in \u001b[0;36mTextFileReader._make_engine\u001b[0;34m(self, f, engine)\u001b[0m\n\u001b[1;32m   1878\u001b[0m     \u001b[38;5;28;01mif\u001b[39;00m \u001b[38;5;124m\"\u001b[39m\u001b[38;5;124mb\u001b[39m\u001b[38;5;124m\"\u001b[39m \u001b[38;5;129;01mnot\u001b[39;00m \u001b[38;5;129;01min\u001b[39;00m mode:\n\u001b[1;32m   1879\u001b[0m         mode \u001b[38;5;241m+\u001b[39m\u001b[38;5;241m=\u001b[39m \u001b[38;5;124m\"\u001b[39m\u001b[38;5;124mb\u001b[39m\u001b[38;5;124m\"\u001b[39m\n\u001b[0;32m-> 1880\u001b[0m \u001b[38;5;28mself\u001b[39m\u001b[38;5;241m.\u001b[39mhandles \u001b[38;5;241m=\u001b[39m \u001b[43mget_handle\u001b[49m\u001b[43m(\u001b[49m\n\u001b[1;32m   1881\u001b[0m \u001b[43m    \u001b[49m\u001b[43mf\u001b[49m\u001b[43m,\u001b[49m\n\u001b[1;32m   1882\u001b[0m \u001b[43m    \u001b[49m\u001b[43mmode\u001b[49m\u001b[43m,\u001b[49m\n\u001b[1;32m   1883\u001b[0m \u001b[43m    \u001b[49m\u001b[43mencoding\u001b[49m\u001b[38;5;241;43m=\u001b[39;49m\u001b[38;5;28;43mself\u001b[39;49m\u001b[38;5;241;43m.\u001b[39;49m\u001b[43moptions\u001b[49m\u001b[38;5;241;43m.\u001b[39;49m\u001b[43mget\u001b[49m\u001b[43m(\u001b[49m\u001b[38;5;124;43m\"\u001b[39;49m\u001b[38;5;124;43mencoding\u001b[39;49m\u001b[38;5;124;43m\"\u001b[39;49m\u001b[43m,\u001b[49m\u001b[43m \u001b[49m\u001b[38;5;28;43;01mNone\u001b[39;49;00m\u001b[43m)\u001b[49m\u001b[43m,\u001b[49m\n\u001b[1;32m   1884\u001b[0m \u001b[43m    \u001b[49m\u001b[43mcompression\u001b[49m\u001b[38;5;241;43m=\u001b[39;49m\u001b[38;5;28;43mself\u001b[39;49m\u001b[38;5;241;43m.\u001b[39;49m\u001b[43moptions\u001b[49m\u001b[38;5;241;43m.\u001b[39;49m\u001b[43mget\u001b[49m\u001b[43m(\u001b[49m\u001b[38;5;124;43m\"\u001b[39;49m\u001b[38;5;124;43mcompression\u001b[39;49m\u001b[38;5;124;43m\"\u001b[39;49m\u001b[43m,\u001b[49m\u001b[43m \u001b[49m\u001b[38;5;28;43;01mNone\u001b[39;49;00m\u001b[43m)\u001b[49m\u001b[43m,\u001b[49m\n\u001b[1;32m   1885\u001b[0m \u001b[43m    \u001b[49m\u001b[43mmemory_map\u001b[49m\u001b[38;5;241;43m=\u001b[39;49m\u001b[38;5;28;43mself\u001b[39;49m\u001b[38;5;241;43m.\u001b[39;49m\u001b[43moptions\u001b[49m\u001b[38;5;241;43m.\u001b[39;49m\u001b[43mget\u001b[49m\u001b[43m(\u001b[49m\u001b[38;5;124;43m\"\u001b[39;49m\u001b[38;5;124;43mmemory_map\u001b[39;49m\u001b[38;5;124;43m\"\u001b[39;49m\u001b[43m,\u001b[49m\u001b[43m \u001b[49m\u001b[38;5;28;43;01mFalse\u001b[39;49;00m\u001b[43m)\u001b[49m\u001b[43m,\u001b[49m\n\u001b[1;32m   1886\u001b[0m \u001b[43m    \u001b[49m\u001b[43mis_text\u001b[49m\u001b[38;5;241;43m=\u001b[39;49m\u001b[43mis_text\u001b[49m\u001b[43m,\u001b[49m\n\u001b[1;32m   1887\u001b[0m \u001b[43m    \u001b[49m\u001b[43merrors\u001b[49m\u001b[38;5;241;43m=\u001b[39;49m\u001b[38;5;28;43mself\u001b[39;49m\u001b[38;5;241;43m.\u001b[39;49m\u001b[43moptions\u001b[49m\u001b[38;5;241;43m.\u001b[39;49m\u001b[43mget\u001b[49m\u001b[43m(\u001b[49m\u001b[38;5;124;43m\"\u001b[39;49m\u001b[38;5;124;43mencoding_errors\u001b[39;49m\u001b[38;5;124;43m\"\u001b[39;49m\u001b[43m,\u001b[49m\u001b[43m \u001b[49m\u001b[38;5;124;43m\"\u001b[39;49m\u001b[38;5;124;43mstrict\u001b[39;49m\u001b[38;5;124;43m\"\u001b[39;49m\u001b[43m)\u001b[49m\u001b[43m,\u001b[49m\n\u001b[1;32m   1888\u001b[0m \u001b[43m    \u001b[49m\u001b[43mstorage_options\u001b[49m\u001b[38;5;241;43m=\u001b[39;49m\u001b[38;5;28;43mself\u001b[39;49m\u001b[38;5;241;43m.\u001b[39;49m\u001b[43moptions\u001b[49m\u001b[38;5;241;43m.\u001b[39;49m\u001b[43mget\u001b[49m\u001b[43m(\u001b[49m\u001b[38;5;124;43m\"\u001b[39;49m\u001b[38;5;124;43mstorage_options\u001b[39;49m\u001b[38;5;124;43m\"\u001b[39;49m\u001b[43m,\u001b[49m\u001b[43m \u001b[49m\u001b[38;5;28;43;01mNone\u001b[39;49;00m\u001b[43m)\u001b[49m\u001b[43m,\u001b[49m\n\u001b[1;32m   1889\u001b[0m \u001b[43m\u001b[49m\u001b[43m)\u001b[49m\n\u001b[1;32m   1890\u001b[0m \u001b[38;5;28;01massert\u001b[39;00m \u001b[38;5;28mself\u001b[39m\u001b[38;5;241m.\u001b[39mhandles \u001b[38;5;129;01mis\u001b[39;00m \u001b[38;5;129;01mnot\u001b[39;00m \u001b[38;5;28;01mNone\u001b[39;00m\n\u001b[1;32m   1891\u001b[0m f \u001b[38;5;241m=\u001b[39m \u001b[38;5;28mself\u001b[39m\u001b[38;5;241m.\u001b[39mhandles\u001b[38;5;241m.\u001b[39mhandle\n",
      "File \u001b[0;32m~/PycharmProjects/Fludarabine/venv/lib/python3.12/site-packages/pandas/io/common.py:873\u001b[0m, in \u001b[0;36mget_handle\u001b[0;34m(path_or_buf, mode, encoding, compression, memory_map, is_text, errors, storage_options)\u001b[0m\n\u001b[1;32m    868\u001b[0m \u001b[38;5;28;01melif\u001b[39;00m \u001b[38;5;28misinstance\u001b[39m(handle, \u001b[38;5;28mstr\u001b[39m):\n\u001b[1;32m    869\u001b[0m     \u001b[38;5;66;03m# Check whether the filename is to be opened in binary mode.\u001b[39;00m\n\u001b[1;32m    870\u001b[0m     \u001b[38;5;66;03m# Binary mode does not support 'encoding' and 'newline'.\u001b[39;00m\n\u001b[1;32m    871\u001b[0m     \u001b[38;5;28;01mif\u001b[39;00m ioargs\u001b[38;5;241m.\u001b[39mencoding \u001b[38;5;129;01mand\u001b[39;00m \u001b[38;5;124m\"\u001b[39m\u001b[38;5;124mb\u001b[39m\u001b[38;5;124m\"\u001b[39m \u001b[38;5;129;01mnot\u001b[39;00m \u001b[38;5;129;01min\u001b[39;00m ioargs\u001b[38;5;241m.\u001b[39mmode:\n\u001b[1;32m    872\u001b[0m         \u001b[38;5;66;03m# Encoding\u001b[39;00m\n\u001b[0;32m--> 873\u001b[0m         handle \u001b[38;5;241m=\u001b[39m \u001b[38;5;28;43mopen\u001b[39;49m\u001b[43m(\u001b[49m\n\u001b[1;32m    874\u001b[0m \u001b[43m            \u001b[49m\u001b[43mhandle\u001b[49m\u001b[43m,\u001b[49m\n\u001b[1;32m    875\u001b[0m \u001b[43m            \u001b[49m\u001b[43mioargs\u001b[49m\u001b[38;5;241;43m.\u001b[39;49m\u001b[43mmode\u001b[49m\u001b[43m,\u001b[49m\n\u001b[1;32m    876\u001b[0m \u001b[43m            \u001b[49m\u001b[43mencoding\u001b[49m\u001b[38;5;241;43m=\u001b[39;49m\u001b[43mioargs\u001b[49m\u001b[38;5;241;43m.\u001b[39;49m\u001b[43mencoding\u001b[49m\u001b[43m,\u001b[49m\n\u001b[1;32m    877\u001b[0m \u001b[43m            \u001b[49m\u001b[43merrors\u001b[49m\u001b[38;5;241;43m=\u001b[39;49m\u001b[43merrors\u001b[49m\u001b[43m,\u001b[49m\n\u001b[1;32m    878\u001b[0m \u001b[43m            \u001b[49m\u001b[43mnewline\u001b[49m\u001b[38;5;241;43m=\u001b[39;49m\u001b[38;5;124;43m\"\u001b[39;49m\u001b[38;5;124;43m\"\u001b[39;49m\u001b[43m,\u001b[49m\n\u001b[1;32m    879\u001b[0m \u001b[43m        \u001b[49m\u001b[43m)\u001b[49m\n\u001b[1;32m    880\u001b[0m     \u001b[38;5;28;01melse\u001b[39;00m:\n\u001b[1;32m    881\u001b[0m         \u001b[38;5;66;03m# Binary mode\u001b[39;00m\n\u001b[1;32m    882\u001b[0m         handle \u001b[38;5;241m=\u001b[39m \u001b[38;5;28mopen\u001b[39m(handle, ioargs\u001b[38;5;241m.\u001b[39mmode)\n",
      "\u001b[0;31mFileNotFoundError\u001b[0m: [Errno 2] No such file or directory: '../Cell_Population/GCLL-0150_build_tree_posteriors.tsv'"
     ]
    }
   ],
   "source": [
    "\n",
    "wbc_df, treatment_df, cluster_CCF_df, abundance_df, mcmc_df, tree_df = load_data(patient_id, wbc_file,treatment_file )\n",
    "\n",
    "# Filter data for the specific patient\n",
    "wbc_df_patient, times_sample, CLL_count_sample,wbc_count, all_times = filter_patient_data(wbc_df, patient_id)\n",
    "\n",
    "# Plot CLL count over time and save as HTML\n",
    "CLL_plot_html = plot_CLL_count(patient_id, times_sample, CLL_count_sample, UMI_start, UMI_end, treatment_start, treatment_end, )\n",
    "    \n",
    "\n",
    "\n"
   ]
  },
  {
   "cell_type": "code",
   "execution_count": null,
   "id": "a2d3d42d",
   "metadata": {},
   "outputs": [],
   "source": [
    "times_sample"
   ]
  },
  {
   "cell_type": "code",
   "execution_count": 16,
   "id": "b398f96b",
   "metadata": {},
   "outputs": [
    {
     "data": {
      "text/plain": [
       "[107.78, 2.4, 3.0, 3.5, 5.2, 2.9, 3.7, 4.3, 3.8, 4.4, 68.9]"
      ]
     },
     "execution_count": 16,
     "metadata": {},
     "output_type": "execute_result"
    }
   ],
   "source": [
    "wbc_count"
   ]
  },
  {
   "cell_type": "code",
   "execution_count": 17,
   "id": "9dc430cf",
   "metadata": {},
   "outputs": [
    {
     "data": {
      "text/plain": [
       "[81.9128, 0.01394894, 0.15416605, 62.01]"
      ]
     },
     "execution_count": 17,
     "metadata": {},
     "output_type": "execute_result"
    }
   ],
   "source": [
    "CLL_count_sample\n"
   ]
  },
  {
   "cell_type": "code",
   "execution_count": 18,
   "id": "d68cab3c",
   "metadata": {},
   "outputs": [],
   "source": [
    "wbc_table_html = plot_metadata_table(wbc_df_patient, patient_id )"
   ]
  },
  {
   "cell_type": "code",
   "execution_count": 19,
   "id": "fa067701",
   "metadata": {},
   "outputs": [
    {
     "data": {
      "text/html": [
       "<div>\n",
       "<style scoped>\n",
       "    .dataframe tbody tr th:only-of-type {\n",
       "        vertical-align: middle;\n",
       "    }\n",
       "\n",
       "    .dataframe tbody tr th {\n",
       "        vertical-align: top;\n",
       "    }\n",
       "\n",
       "    .dataframe thead th {\n",
       "        text-align: right;\n",
       "    }\n",
       "</style>\n",
       "<table border=\"1\" class=\"dataframe\">\n",
       "  <thead>\n",
       "    <tr style=\"text-align: right;\">\n",
       "      <th></th>\n",
       "      <th>n_iter</th>\n",
       "      <th>likelihood</th>\n",
       "      <th>edges</th>\n",
       "    </tr>\n",
       "  </thead>\n",
       "  <tbody>\n",
       "    <tr>\n",
       "      <th>0</th>\n",
       "      <td>51</td>\n",
       "      <td>[0.3333333333333341, 0.25000000000000083, 0.49...</td>\n",
       "      <td>1-2,1-4,4-5,4-6,1-3,None-1</td>\n",
       "    </tr>\n",
       "    <tr>\n",
       "      <th>1</th>\n",
       "      <td>47</td>\n",
       "      <td>[0.25000000000000083, 0.3333333332604348, 0.25...</td>\n",
       "      <td>1-2,1-3,2-4,2-5,3-6,None-1</td>\n",
       "    </tr>\n",
       "    <tr>\n",
       "      <th>2</th>\n",
       "      <td>39</td>\n",
       "      <td>[0.25000000000000083, 0.4999999741374485, 0.49...</td>\n",
       "      <td>1-2,1-3,2-4,3-6,4-5,None-1</td>\n",
       "    </tr>\n",
       "    <tr>\n",
       "      <th>3</th>\n",
       "      <td>27</td>\n",
       "      <td>[0.2499999967821642, 0.24999999725951036, 0.19...</td>\n",
       "      <td>1-2,1-3,2-4,4-5,4-6,None-1</td>\n",
       "    </tr>\n",
       "    <tr>\n",
       "      <th>4</th>\n",
       "      <td>27</td>\n",
       "      <td>[0.3333333333333341, 0.25000000000000083, 0.33...</td>\n",
       "      <td>1-2,1-4,2-5,4-3,4-6,None-1</td>\n",
       "    </tr>\n",
       "    <tr>\n",
       "      <th>5</th>\n",
       "      <td>15</td>\n",
       "      <td>[0.49999999999999906, 0.49999999999999906, 0.4...</td>\n",
       "      <td>1-2,1-4,3-6,4-3,4-5,None-1</td>\n",
       "    </tr>\n",
       "    <tr>\n",
       "      <th>6</th>\n",
       "      <td>14</td>\n",
       "      <td>[0.19999999999999943, 0.24999999982187843, 0.4...</td>\n",
       "      <td>1-2,1-3,2-4,2-6,4-5,None-1</td>\n",
       "    </tr>\n",
       "    <tr>\n",
       "      <th>7</th>\n",
       "      <td>13</td>\n",
       "      <td>[0.3333333333333341, 0.3333333333333341, 0.499...</td>\n",
       "      <td>1-2,1-3,2-4,2-5,4-6,None-1</td>\n",
       "    </tr>\n",
       "    <tr>\n",
       "      <th>8</th>\n",
       "      <td>11</td>\n",
       "      <td>[0.25000000000000083, 0.25000000000000083, 0.4...</td>\n",
       "      <td>1-2,1-4,2-5,2-6,4-3,None-1</td>\n",
       "    </tr>\n",
       "    <tr>\n",
       "      <th>9</th>\n",
       "      <td>5</td>\n",
       "      <td>[0.3333333333333341, 0.49999999999999906, 0.49...</td>\n",
       "      <td>1-2,1-4,2-6,4-3,4-5,None-1</td>\n",
       "    </tr>\n",
       "  </tbody>\n",
       "</table>\n",
       "</div>"
      ],
      "text/plain": [
       "   n_iter                                         likelihood  \\\n",
       "0      51  [0.3333333333333341, 0.25000000000000083, 0.49...   \n",
       "1      47  [0.25000000000000083, 0.3333333332604348, 0.25...   \n",
       "2      39  [0.25000000000000083, 0.4999999741374485, 0.49...   \n",
       "3      27  [0.2499999967821642, 0.24999999725951036, 0.19...   \n",
       "4      27  [0.3333333333333341, 0.25000000000000083, 0.33...   \n",
       "5      15  [0.49999999999999906, 0.49999999999999906, 0.4...   \n",
       "6      14  [0.19999999999999943, 0.24999999982187843, 0.4...   \n",
       "7      13  [0.3333333333333341, 0.3333333333333341, 0.499...   \n",
       "8      11  [0.25000000000000083, 0.25000000000000083, 0.4...   \n",
       "9       5  [0.3333333333333341, 0.49999999999999906, 0.49...   \n",
       "\n",
       "                        edges  \n",
       "0  1-2,1-4,4-5,4-6,1-3,None-1  \n",
       "1  1-2,1-3,2-4,2-5,3-6,None-1  \n",
       "2  1-2,1-3,2-4,3-6,4-5,None-1  \n",
       "3  1-2,1-3,2-4,4-5,4-6,None-1  \n",
       "4  1-2,1-4,2-5,4-3,4-6,None-1  \n",
       "5  1-2,1-4,3-6,4-3,4-5,None-1  \n",
       "6  1-2,1-3,2-4,2-6,4-5,None-1  \n",
       "7  1-2,1-3,2-4,2-5,4-6,None-1  \n",
       "8  1-2,1-4,2-5,2-6,4-3,None-1  \n",
       "9  1-2,1-4,2-6,4-3,4-5,None-1  "
      ]
     },
     "execution_count": 19,
     "metadata": {},
     "output_type": "execute_result"
    }
   ],
   "source": [
    "tree_df"
   ]
  },
  {
   "cell_type": "code",
   "execution_count": 20,
   "id": "6fb33f4e",
   "metadata": {},
   "outputs": [],
   "source": [
    " plot_tree_html = plot_tree_plotly(tree_df, 0)"
   ]
  },
  {
   "cell_type": "code",
   "execution_count": 21,
   "id": "e90365c4",
   "metadata": {},
   "outputs": [],
   "source": [
    " plot_ccf_html = plot_ccf(cluster_CCF_df, times_sample, treatment_df,)"
   ]
  },
  {
   "cell_type": "code",
   "execution_count": 46,
   "id": "be93a8ec",
   "metadata": {},
   "outputs": [],
   "source": [
    "branch_annotations = {\n",
    "    1: \"del(14q32)\",\n",
    "    \n",
    "    3: \"SAMHD1_p.Q571* , SAMHD1_p.M216fs\",\n",
    "    4: \"POT1_p.Q94R, RRM1_p.N85I,TLR4_p.I673S\",\n",
    "    5: \"POT1_p.D42E, CDC25B_p.A454E \",\n",
    "    6: \"NOTCH1_p.A2043T, KMT2C_p.R3079* \"\n",
    "    \n",
    "}"
   ]
  },
  {
   "cell_type": "code",
   "execution_count": 23,
   "id": "a08ee72d",
   "metadata": {},
   "outputs": [
    {
     "name": "stdout",
     "output_type": "stream",
     "text": [
      "del(13q14)<br>CBLB_p.G739C\n",
      "ATM_p.D2725N<br>ATM_p.T2947N<br>del(11q)\n",
      "ATM_p.Y2019C<br>ATM_p.R2598*<br>DIS3_p.D479G\n"
     ]
    }
   ],
   "source": [
    "ccf_tree_html = plot_ccf_tree_combined(\n",
    "    tree_df=tree_df,\n",
    "    tree_selected=1,\n",
    "    ccf_df=cluster_CCF_df,\n",
    "    times_sample=times_sample,\n",
    "    treatment_df=treatment_df,\n",
    "    branch_annotations=branch_annotations\n",
    "\n",
    ")"
   ]
  },
  {
   "cell_type": "code",
   "execution_count": 24,
   "id": "3ec0bd62",
   "metadata": {},
   "outputs": [],
   "source": [
    "cluster_list, cluster_abundance = model_helper.get_abundance(abundance_df, mcmc_df, sample_list)\n",
    "subclone_sample, log_subclone_sample = model_helper.calc_subclone(CLL_count_sample, cluster_abundance, cluster_list)\n",
    "all_abundance = model_helper.get_all_abundance(cluster_list, mcmc_df, sample_list, times_sample, )"
   ]
  },
  {
   "cell_type": "code",
   "execution_count": 25,
   "id": "c6309dd8",
   "metadata": {},
   "outputs": [],
   "source": [
    "#  Add noise to all abundance\n",
    "\n",
    "import random \n",
    "random.seed(42)\n",
    "def add_uniform_noise_and_normalize(lst, low=0, high=0.01):\n",
    "    \n",
    "    # Add uniform noise\n",
    "    noisy_lst = [x + random.uniform(low, high) for x in lst]\n",
    "\n",
    "    \n",
    "    # Normalize the list\n",
    "    total_sum = sum(noisy_lst)\n",
    "    \n",
    "    normalized_lst = [x / total_sum for x in noisy_lst]\n",
    "\n",
    "    return normalized_lst\n",
    "\n",
    "\n",
    "subclone_cluster_iter = {}\n",
    "# Iterate through each cluster\n",
    "for cluster, iterations in all_abundance.items():\n",
    "   \n",
    "    # Iterate through each iteration in the cluster\n",
    "    for iteration, value in iterations.items():\n",
    "        # If the iteration is not in the new dict, add it\n",
    "        if iteration not in subclone_cluster_iter:\n",
    "            subclone_cluster_iter[iteration] = {}\n",
    "        # Add the cluster and its value to this iteration\n",
    "        subclone_cluster_iter[iteration][cluster] = value\n",
    "\n",
    "        \n",
    "        \n",
    "noise_added_iter = {}\n",
    "\n",
    "for iteration, abundances in subclone_cluster_iter.items():\n",
    "    \n",
    "    transposed_data = {i: list(values) for i, values in enumerate(zip(*abundances.values()), start=1)}\n",
    "    \n",
    "    noise_added_iter[iteration] = {}\n",
    "    for time_point, abundance in transposed_data.items():\n",
    "        \n",
    "#         print(time_point, abundance)\n",
    "        noise_abundance = add_uniform_noise_and_normalize(abundance)\n",
    "    \n",
    "#         print(noise_abundance)\n",
    "\n",
    "        noise_added_iter[iteration][time_point] = add_uniform_noise_and_normalize(abundance)\n",
    "\n",
    "    \n",
    "noise_added_all_abundance = {}\n",
    "for iteration, abundances in noise_added_iter.items():\n",
    "    original_format = {i + 1: list(values) for i, values in enumerate(zip(*abundances.values()))}\n",
    "    noise_added_all_abundance[iteration] = original_format\n",
    "    \n",
    "    \n",
    "noise_added_original_all_abundances = {}\n",
    "\n",
    "for iteration, abundances in noise_added_all_abundance.items():\n",
    "    \n",
    "    for cluster, abundance_value in abundances.items():\n",
    "        if cluster not in noise_added_original_all_abundances:\n",
    "            noise_added_original_all_abundances[cluster] = {}\n",
    "        noise_added_original_all_abundances[cluster][iteration] = abundance_value\n",
    "            "
   ]
  },
  {
   "cell_type": "code",
   "execution_count": 26,
   "id": "1fcbd031",
   "metadata": {},
   "outputs": [],
   "source": [
    "subclone_sample_mcmc_with_uniform_noise, log_subclone_sample_mcmc_with_uniform_noise = model_helper.calc_subclone(CLL_count_sample, noise_added_original_all_abundances, cluster_list, input_type = \"mcmc\")"
   ]
  },
  {
   "cell_type": "code",
   "execution_count": 27,
   "id": "3787c2d2",
   "metadata": {},
   "outputs": [],
   "source": [
    "times_aft_tx = [x for x in all_times if x > treatment_end]\n",
    "times_aft_tx.insert(0, treatment_end)\n",
    "\n",
    "# Set the extrapolate time after treatment\n",
    "extrapolate_start_idx = 1"
   ]
  },
  {
   "cell_type": "code",
   "execution_count": 28,
   "id": "3a620d92",
   "metadata": {},
   "outputs": [
    {
     "data": {
      "text/plain": [
       "[-19, 1372, 1560, 2304]"
      ]
     },
     "execution_count": 28,
     "metadata": {},
     "output_type": "execute_result"
    }
   ],
   "source": [
    "times_sample"
   ]
  },
  {
   "cell_type": "code",
   "execution_count": 29,
   "id": "28c585e2",
   "metadata": {},
   "outputs": [
    {
     "data": {
      "text/plain": [
       "[1372, 1560, 2304]"
      ]
     },
     "execution_count": 29,
     "metadata": {},
     "output_type": "execute_result"
    }
   ],
   "source": [
    "times_sample[extrapolate_start_idx:]"
   ]
  },
  {
   "cell_type": "code",
   "execution_count": 30,
   "id": "32ccdb18",
   "metadata": {},
   "outputs": [],
   "source": [
    "# Generate Plotly plot\n",
    "subclone_plot_html = plot_subclones(cluster_list, times_sample, CLL_count_sample, log_subclone_sample, extrapolate_start_idx, times_aft_tx, treatment_df, treatment_end)\n"
   ]
  },
  {
   "cell_type": "code",
   "execution_count": 31,
   "id": "281ff98b",
   "metadata": {},
   "outputs": [],
   "source": [
    "linear_model_mcmc_html = plot_linear_model_mcmc(cluster_list,times_sample,  CLL_count_sample, log_subclone_sample_mcmc_with_uniform_noise,extrapolate_start_idx,times_aft_tx,treatment_df, treatment_end)  "
   ]
  },
  {
   "cell_type": "code",
   "execution_count": 32,
   "id": "ef9eaa8e",
   "metadata": {},
   "outputs": [
    {
     "name": "stderr",
     "output_type": "stream",
     "text": [
      "/var/folders/x6/7zg8fddx4dlgx2lv4sv34_g40000gp/T/ipykernel_36156/981427378.py:2: SettingWithCopyWarning:\n",
      "\n",
      "\n",
      "A value is trying to be set on a copy of a slice from a DataFrame.\n",
      "Try using .loc[row_indexer,col_indexer] = value instead\n",
      "\n",
      "See the caveats in the documentation: https://pandas.pydata.org/pandas-docs/stable/user_guide/indexing.html#returning-a-view-versus-a-copy\n",
      "\n"
     ]
    }
   ],
   "source": [
    "# Convert the column \"CLL count estm\" to float \n",
    "wbc_df_patient['CLL count estm'] = wbc_df_patient['CLL count estm'].astype(float) \n",
    "times_sliced_aft = [int(i) for i in wbc_df_patient[wbc_df_patient['CLL count estm'] > 0]['Time_since_start_tx'].values  if int(i) > 0]"
   ]
  },
  {
   "cell_type": "code",
   "execution_count": 33,
   "id": "2940b1c3",
   "metadata": {},
   "outputs": [
    {
     "data": {
      "text/plain": [
       "[176, 379, 484, 575, 673, 758, 1288, 1372, 1560, 2304]"
      ]
     },
     "execution_count": 33,
     "metadata": {},
     "output_type": "execute_result"
    }
   ],
   "source": [
    "times_aft_tx"
   ]
  },
  {
   "cell_type": "code",
   "execution_count": 34,
   "id": "665f69bb",
   "metadata": {},
   "outputs": [],
   "source": [
    "# Needs to manually check times_sliced_aft"
   ]
  },
  {
   "cell_type": "code",
   "execution_count": 35,
   "id": "7a0b9cdf",
   "metadata": {},
   "outputs": [
    {
     "data": {
      "text/plain": [
       "[1288, 1372, 1560, 2304]"
      ]
     },
     "execution_count": 35,
     "metadata": {},
     "output_type": "execute_result"
    }
   ],
   "source": [
    "times_sliced_aft"
   ]
  },
  {
   "cell_type": "code",
   "execution_count": 36,
   "id": "58a2202c",
   "metadata": {},
   "outputs": [
    {
     "data": {
      "text/plain": [
       "4"
      ]
     },
     "execution_count": 36,
     "metadata": {},
     "output_type": "execute_result"
    }
   ],
   "source": [
    "len(times_sliced_aft)"
   ]
  },
  {
   "cell_type": "code",
   "execution_count": 37,
   "id": "074f036e",
   "metadata": {},
   "outputs": [],
   "source": [
    "index_samples_model = slice(1,4)\n",
    "\n",
    "# index_samples_model is the index of the samples after treatment. For instance, slice(1,7) means sample 2, 3, 4, 5,6, 7\n",
    "\n",
    "X, y = create_inputs(times_sliced_aft, log_subclone_sample_mcmc_with_uniform_noise,2, index_samples_model, times_sample)\n",
    "\n"
   ]
  },
  {
   "cell_type": "code",
   "execution_count": 38,
   "id": "55cbd605",
   "metadata": {
    "scrolled": true
   },
   "outputs": [
    {
     "data": {
      "text/plain": [
       "[None,\n",
       " array([ -8.84806311,  -5.5933742 ,  -4.61839104,  -9.20041558,\n",
       "         -9.24779195, -10.58786467]),\n",
       " array([-9.99256025, -2.70531079, -3.47494339, -3.5835603 , -4.13125792,\n",
       "        -4.37720706]),\n",
       " array([ 1.25548447,  2.59908869,  3.63670046, -1.07803581, -1.78826466,\n",
       "         1.88893487])]"
      ]
     },
     "execution_count": 38,
     "metadata": {},
     "output_type": "execute_result"
    }
   ],
   "source": [
    "y"
   ]
  },
  {
   "cell_type": "code",
   "execution_count": 39,
   "id": "a2672bf7",
   "metadata": {},
   "outputs": [],
   "source": [
    "wbc_aft_tx = wbc_df_patient[wbc_df_patient.Time_since_start_tx > treatment_end]['CLL count estm'].to_list()\n",
    "wbc_model = [i for i in wbc_aft_tx if i > 0]"
   ]
  },
  {
   "cell_type": "code",
   "execution_count": 40,
   "id": "b9f7c9a4",
   "metadata": {},
   "outputs": [
    {
     "data": {
      "text/plain": [
       "[0.01369249, 0.01394894, 0.15416605, 62.01]"
      ]
     },
     "execution_count": 40,
     "metadata": {},
     "output_type": "execute_result"
    }
   ],
   "source": [
    "wbc_model"
   ]
  },
  {
   "cell_type": "code",
   "execution_count": 41,
   "id": "0e913a27",
   "metadata": {},
   "outputs": [
    {
     "data": {
      "text/plain": [
       "4"
      ]
     },
     "execution_count": 41,
     "metadata": {},
     "output_type": "execute_result"
    }
   ],
   "source": [
    "len(wbc_model)"
   ]
  },
  {
   "cell_type": "code",
   "execution_count": 42,
   "id": "62af401e",
   "metadata": {},
   "outputs": [],
   "source": [
    "n_clusters = len(cluster_list)\n",
    "logsumexp_points = np.log(wbc_model)\n",
    "model = MultiClusterLinearRegression(n_clusters, X, y)\n",
    "model.fit(logsumexp_points)"
   ]
  },
  {
   "cell_type": "code",
   "execution_count": 43,
   "id": "5a8e1855",
   "metadata": {},
   "outputs": [],
   "source": [
    "# Generate Plotly plot\n",
    "subclone_plot_new_model_html = plot_subclones_new_model(cluster_list, times_sample, wbc_model, log_subclone_sample, extrapolate_start_idx, times_aft_tx, times_sliced_aft, treatment_df,treatment_end, model )\n"
   ]
  },
  {
   "cell_type": "code",
   "execution_count": 44,
   "id": "fced37d8",
   "metadata": {},
   "outputs": [],
   "source": [
    "plot_mcmc_new_model_html = plot_mcmc_model(cluster_list, index_samples_model, times_aft_tx, times_sample, times_sliced_aft, sample_list, wbc_model, log_subclone_sample_mcmc_with_uniform_noise, treatment_df, treatment_end)\n"
   ]
  },
  {
   "cell_type": "code",
   "execution_count": 45,
   "id": "0241ade1",
   "metadata": {},
   "outputs": [
    {
     "name": "stdout",
     "output_type": "stream",
     "text": [
      "HTML file saved as CLL_subplot_combined_0105_wbc_updated.html\n"
     ]
    }
   ],
   "source": [
    "create_html_file([wbc_table_html, plot_ccf_html, ccf_tree_html, CLL_plot_html, subclone_plot_html,linear_model_mcmc_html,subclone_plot_new_model_html, plot_mcmc_new_model_html], output_file=outputfile_name)"
   ]
  },
  {
   "cell_type": "code",
   "execution_count": null,
   "id": "907e6c9b",
   "metadata": {},
   "outputs": [],
   "source": []
  }
 ],
 "metadata": {
  "kernelspec": {
   "display_name": "Python 3 (ipykernel)",
   "language": "python",
   "name": "python3"
  },
  "language_info": {
   "codemirror_mode": {
    "name": "ipython",
    "version": 3
   },
   "file_extension": ".py",
   "mimetype": "text/x-python",
   "name": "python",
   "nbconvert_exporter": "python",
   "pygments_lexer": "ipython3",
   "version": "3.12.4"
  }
 },
 "nbformat": 4,
 "nbformat_minor": 5
}
