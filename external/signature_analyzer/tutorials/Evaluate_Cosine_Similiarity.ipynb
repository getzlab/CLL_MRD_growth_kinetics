{
 "cells": [
  {
   "cell_type": "code",
   "execution_count": 5,
   "id": "reserved-namibia",
   "metadata": {},
   "outputs": [],
   "source": [
    "# Import libraries\n",
    "import pandas as pd\n",
    "import numpy as np\n",
    "import signatureanalyzer as sa"
   ]
  },
  {
   "cell_type": "code",
   "execution_count": 87,
   "id": "bridal-bloom",
   "metadata": {},
   "outputs": [],
   "source": [
    "# Define paths and constants\n",
    "NMF_HDF_PATH = \"/home/yakiyama/CPTAC_Signatures/results/Union/MMRP/HRD/SBS_NoUV_c2a_filtered/nmf_output.h5\"\n",
    "\n",
    "REF = \"cosmic3_exome\""
   ]
  },
  {
   "cell_type": "code",
   "execution_count": 88,
   "id": "figured-indonesian",
   "metadata": {
    "tags": []
   },
   "outputs": [],
   "source": [
    "# Import reference signatures\n",
    "ref_df, ref_idx = sa.utils.load_reference_signatures(REF, verbose=False)\n",
    "\n",
    "# Import result matrices\n",
    "Wraw = pd.read_hdf(NMF_HDF_PATH, \"Wraw\")\n",
    "Wraw.rename(columns={x:x.split('-')[0] for x in Wraw.columns if x.startswith('S')}, inplace=True)\n",
    "W = pd.read_hdf(NMF_HDF_PATH, \"W\")\n",
    "W.rename(columns={x:x.split('-')[0] for x in W.columns if x.startswith('S')}, inplace=True)\n",
    "Hraw = pd.read_hdf(NMF_HDF_PATH, \"Hraw\")\n",
    "Hraw.rename(columns={x:x.split('-')[0] for x in Hraw.columns if x.startswith('S')}, inplace=True)\n",
    "H = pd.read_hdf(NMF_HDF_PATH, \"H\")\n",
    "H.rename(columns={x:x.split('-')[0] for x in H.columns if x.startswith('S')}, inplace=True)\n",
    "signatures = pd.read_hdf(NMF_HDF_PATH, \"signatures\")\n",
    "    \n",
    "res = {}\n",
    "res[\"Wraw\"] = Wraw\n",
    "res[\"W\"] = W\n",
    "res[\"Hraw\"] = Hraw\n",
    "res[\"H\"] = H\n",
    "res[\"signatures\"] = signatures\n",
    "\n",
    "if REF in ['pcawg_SBS','pcawg_COMPOSITE','pcawg_SBS_ID']:\n",
    "    Wraw96 = pd.read_hdf(NMF_HDF_PATH, \"Wraw96\")\n",
    "    Wraw9696.rename(columns={x:x.split('-')[0] for x in Wraw96.columns if x.startswith('S')}, inplace=True)\n",
    "    res[\"Wraw96\"] = Wraw96\n",
    "\n",
    "sa.utils.postprocess_msigs(res, ref_df, ref_idx, REF)"
   ]
  },
  {
   "cell_type": "code",
   "execution_count": 89,
   "id": "satisfied-houston",
   "metadata": {},
   "outputs": [
    {
     "data": {
      "text/plain": [
       "S1-SBS1    0.215079\n",
       "S2-SBS2    0.258902\n",
       "S3-SBS3    0.926011\n",
       "Name: SBS3, dtype: float64"
      ]
     },
     "execution_count": 89,
     "metadata": {},
     "output_type": "execute_result"
    }
   ],
   "source": [
    "res[\"cosine\"].loc['SBS3']"
   ]
  },
  {
   "cell_type": "code",
   "execution_count": 82,
   "id": "saved-probability",
   "metadata": {},
   "outputs": [
    {
     "data": {
      "text/plain": [
       "S1-SBS40    0.096803\n",
       "S2-SBS1     0.993858\n",
       "Name: SBS1, dtype: float64"
      ]
     },
     "execution_count": 82,
     "metadata": {},
     "output_type": "execute_result"
    }
   ],
   "source": [
    "cosine_og = pd.read_hdf(NMF_HDF_PATH, \"cosine\")\n",
    "cosine_og.loc['SBS1']"
   ]
  }
 ],
 "metadata": {
  "kernelspec": {
   "display_name": "Python 3",
   "language": "python",
   "name": "python3"
  },
  "language_info": {
   "codemirror_mode": {
    "name": "ipython",
    "version": 3
   },
   "file_extension": ".py",
   "mimetype": "text/x-python",
   "name": "python",
   "nbconvert_exporter": "python",
   "pygments_lexer": "ipython3",
   "version": "3.6.9"
  }
 },
 "nbformat": 4,
 "nbformat_minor": 5
}
